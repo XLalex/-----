{
 "cells": [
  {
   "cell_type": "markdown",
   "metadata": {
    "collapsed": false
   },
   "source": [
    "# Exercises"
   ]
  },
  {
   "cell_type": "markdown",
   "metadata": {
    "collapsed": false
   },
   "source": [
    "## Exercise\n",
    "\n",
    "Write a function to price a digital option with strike $K$ in the Black Scholes model by the Monte Carlo method.\n",
    "Your function should return two values, lower and upper, giving a $99.999%$ confidence interval for the price.\n",
    "The hidden tests will fail if the true price is not in your confidence interval (in which case you would be unlucky)"
   ]
  },
  {
   "cell_type": "code",
   "execution_count": 1,
   "metadata": {
    "collapsed": false,
    "nbgrader": {
     "grade": false,
     "grade_id": "ba816f",
     "locked": false,
     "schema_version": 3,
     "solution": true,
     "task": false
    }
   },
   "outputs": [
    {
     "data": {
      "text/html": [
       "<style>\n",
       "                     h1 {\n",
       "                        font-style: italic;\n",
       "                        text-align: center;\n",
       "                     }\n",
       "                     h3 {\n",
       "                         color: LightSkyBlue;\n",
       "                     }\n",
       "                     </style>"
      ],
      "text/plain": [
       "<IPython.core.display.HTML object>"
      ]
     },
     "execution_count": 1,
     "metadata": {
     },
     "output_type": "execute_result"
    }
   ],
   "source": [
    "import fmlib\n",
    "import numpy as np\n",
    "import scipy\n",
    "from grading_tools import check, auto_marking_message\n",
    "\n",
    "def price_digital_call_by_monte_carlo( S0, r, sigma, K, T, n_steps, n_paths ):\n",
    "    ### BEGIN SOLUTION\n",
    "    drift = r\n",
    "    S_twiddle, times = fmlib.simulate_gbm_paths(S0, drift, sigma, T, n_steps, n_paths )\n",
    "    S_T = S_twiddle[:,-1]\n",
    "    payoff = S_T>K\n",
    "    price = np.exp(-r*T)*np.mean( payoff )\n",
    "\n",
    "    sigma_sample = np.std( np.exp(-r*T) * payoff )\n",
    "    p = 99.999\n",
    "    alpha = scipy.stats.norm.ppf((1-p/100)/2)\n",
    "    print( alpha )\n",
    "    lower = price + alpha*sigma_sample/np.sqrt(n_paths)\n",
    "    upper = price - alpha*sigma_sample/np.sqrt(n_paths)\n",
    "    return lower, upper\n",
    "    ### END SOLUTION"
   ]
  },
  {
   "cell_type": "code",
   "execution_count": 2,
   "metadata": {
    "collapsed": false,
    "nbgrader": {
     "grade": true,
     "grade_id": "3815fd",
     "locked": true,
     "points": 1,
     "schema_version": 3,
     "solution": false,
     "task": false
    }
   },
   "outputs": [
    {
     "name": "stdout",
     "output_type": "stream",
     "text": [
      "-4.417173413467605\n",
      "Auto marking message: 😻 Correct\n"
     ]
    }
   ],
   "source": [
    "S0 = 100\n",
    "r = 0.05\n",
    "sigma = 0.2\n",
    "K = 105\n",
    "T = 2\n",
    "low, high=price_digital_call_by_monte_carlo(S0,r,sigma,K,T,1,1000000)\n",
    "assert low<high\n",
    "auto_marking_message()"
   ]
  },
  {
   "cell_type": "code",
   "execution_count": 3,
   "metadata": {
    "collapsed": false,
    "nbgrader": {
     "grade": true,
     "grade_id": "6a2b27",
     "locked": true,
     "points": 1,
     "schema_version": 3,
     "solution": false,
     "task": false
    }
   },
   "outputs": [
   ],
   "source": [
    "### BEGIN HIDDEN TESTS\n",
    "def black_scholes_digital_call_price(S,r,sigma,K,T):\n",
    "    d2 = 1/(sigma*np.sqrt(T))*(np.log(S/K)+(r-0.5*sigma**2)*T)\n",
    "    return scipy.stats.norm.cdf(d2)*np.exp(-T*r)\n",
    "\n",
    "bs = black_scholes_digital_call_price(S0,r,sigma,K,T)\n",
    "assert low<bs\n",
    "assert bs<high\n",
    "# check the confidence interval is in the right ballpark, it's actually about 0.004\n",
    "assert high-low<0.005\n",
    "assert high-low>0.003\n",
    "### END HIDDEN TESTS"
   ]
  },
  {
   "cell_type": "markdown",
   "metadata": {
    "collapsed": false
   },
   "source": [
    "## Exercise\n",
    "\n",
    "True or False? As you increase the number of steps in the Monte Carlo simulation to price the digital option you increase the accuracy of the computation of the option price."
   ]
  },
  {
   "cell_type": "code",
   "execution_count": 4,
   "metadata": {
    "collapsed": false,
    "nbgrader": {
     "grade": false,
     "grade_id": "83391d",
     "locked": false,
     "schema_version": 3,
     "solution": true,
     "task": false
    }
   },
   "outputs": [
    {
     "data": {
      "text/plain": [
       "False"
      ]
     },
     "execution_count": 4,
     "metadata": {
     },
     "output_type": "execute_result"
    }
   ],
   "source": [
    "### BEGIN SOLUTION\n",
    "False\n",
    "### END SOLUTION"
   ]
  },
  {
   "cell_type": "code",
   "execution_count": 5,
   "metadata": {
    "collapsed": false
   },
   "outputs": [
    {
     "name": "stdout",
     "output_type": "stream",
     "text": [
      "Auto marking message: 👍 Correct\n"
     ]
    }
   ],
   "source": [
    "check('83391d',_)\n",
    "auto_marking_message()"
   ]
  },
  {
   "cell_type": "markdown",
   "metadata": {
    "collapsed": false,
    "nbgrader": {
     "grade": false,
     "grade_id": "4357b3",
     "locked": false,
     "remove": true,
     "schema_version": 3,
     "solution": false,
     "task": false
    }
   },
   "source": [
    "### Solution\n",
    "\n",
    "It is False. We can simulate $S_T$ perfectly using only one time step as have solved the SDE."
   ]
  }
 ],
 "metadata": {
  "kernelspec": {
   "display_name": "Python 3 (system-wide)",
   "language": "python",
   "metadata": {
    "cocalc": {
     "description": "Python 3 programming language",
     "priority": 100,
     "url": "https://www.python.org/"
    }
   },
   "name": "python3",
   "resource_dir": "/ext/jupyter/kernels/python3"
  },
  "language_info": {
   "codemirror_mode": {
    "name": "ipython",
    "version": 3
   },
   "file_extension": ".py",
   "mimetype": "text/x-python",
   "name": "python",
   "nbconvert_exporter": "python",
   "pygments_lexer": "ipython3",
   "version": "3.8.10"
  }
 },
 "nbformat": 4,
 "nbformat_minor": 4
}