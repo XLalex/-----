{
 "cells": [
  {
   "cell_type": "markdown",
   "metadata": {
    "collapsed": false
   },
   "source": [
    "# Exercises"
   ]
  },
  {
   "cell_type": "code",
   "execution_count": 1,
   "metadata": {
    "collapsed": false
   },
   "outputs": [
    {
     "data": {
      "text/html": [
       "<style>\n",
       "                     h1 {\n",
       "                        font-style: italic;\n",
       "                        text-align: center;\n",
       "                     }\n",
       "                     h3 {\n",
       "                         color: LightSkyBlue;\n",
       "                     }\n",
       "                     </style>"
      ],
      "text/plain": [
       "<IPython.core.display.HTML object>"
      ]
     },
     "execution_count": 1,
     "metadata": {
     },
     "output_type": "execute_result"
    }
   ],
   "source": [
    "import fmlib\n",
    "import numpy as np"
   ]
  },
  {
   "cell_type": "markdown",
   "metadata": {
    "collapsed": false
   },
   "source": [
    "## Exercise\n",
    "\n",
    "Use Ito's Lemma to show that $X_t=W_t^3$ solves an SDE of the form\n",
    "$$d X_t = a W_t dt + b W_t^c dW_t$$\n",
    "for constants $a$, $b$ and $c$ that you should determine. \n",
    "Write the code needed to simulate a vector containing the values of $X$\n",
    "obtained from the Euler Maruyama scheme for this SDE given the values of W\n",
    "at the time time points t."
   ]
  },
  {
   "cell_type": "code",
   "execution_count": 2,
   "metadata": {
    "collapsed": false,
    "nbgrader": {
     "grade": false,
     "grade_id": "c90d03",
     "locked": false,
     "schema_version": 3,
     "solution": true,
     "task": false
    }
   },
   "outputs": [
   ],
   "source": [
    "def simulate_X_from_euler_maruyama(W,t):\n",
    "    # BEGIN SOLUTION\n",
    "    X = np.zeros(len(t))\n",
    "    X[0] = 0\n",
    "    for i in range(0,len(t)-1):\n",
    "        dt = t[i+1]-t[i]\n",
    "        dW = W[i+1]-W[i]\n",
    "        X[i+1]=X[i] + 3*W[i] * dt + 3*W[i]**2*dW\n",
    "    return X\n",
    "    # END SOLUTION"
   ]
  },
  {
   "cell_type": "code",
   "execution_count": 3,
   "metadata": {
    "collapsed": false,
    "nbgrader": {
     "grade": true,
     "grade_id": "25fa8d",
     "locked": true,
     "points": 1,
     "schema_version": 3,
     "solution": false,
     "task": false
    }
   },
   "outputs": [
    {
     "name": "stdout",
     "output_type": "stream",
     "text": [
      "Auto marking message: ✔ Correct\n"
     ]
    }
   ],
   "source": [
    "np.random.seed(0)\n",
    "W,t = fmlib.one_step_wiener(1)\n",
    "W,t = fmlib.wiener_interpolate(W,t,20)\n",
    "actual_X = simulate_X_from_euler_maruyama(W,t)\n",
    "expected_X = W**3\n",
    "assert abs( expected_X[-1] - actual_X[-1] )<0.01\n",
    "### BEGIN HIDDEN TESTS\n",
    "import grading_tools\n",
    "grading_tools.check('25fa8d',actual_X)\n",
    "grading_tools.auto_marking_message()\n",
    "### END HIDDEN TESTS"
   ]
  },
  {
   "cell_type": "markdown",
   "metadata": {
    "collapsed": false
   },
   "source": [
    "## Exercise\n",
    "\n",
    "Use Ito's Lemma to prove that if $Z_t$ satisfies\n",
    "$$\n",
    "d Z_t = (\\mu - \\frac{1}{2}\\sigma^2)\\, d t + \\sigma \\, d W_t\n",
    "$$\n",
    "for constants $\\mu$ and $\\sigma$ then if we define $S_t=\\exp(Z_t)$ we will have\n",
    "$$\n",
    "d S_t = S_t(\\mu \\, dt + \\sigma \\, d W_t ).\n",
    "$$\n",
    "\n",
    "Deduce that the solution of\n",
    "$$\n",
    "d S_t = S_t(\\mu \\, dt + \\sigma \\, d W_t ).\n",
    "$$\n",
    "given $S_0$ is given by\n",
    "$$\n",
    "S_t = S_0 e^{(\\mu - \\frac{1}{2}\\sigma^2)t + \\sigma W_t}\n",
    "$$"
   ]
  },
  {
   "cell_type": "markdown",
   "metadata": {
    "collapsed": false,
    "nbgrader": {
     "grade": false,
     "grade_id": "8bb536",
     "locked": false,
     "remove": true,
     "schema_version": 3,
     "solution": false,
     "task": false
    }
   },
   "source": [
    "### Solution\n",
    "\n",
    "Take $f(z)=\\exp(z)$. Plugging this into Ito's Lemma\n",
    "\n",
    "$$\n",
    "\\begin{split}\n",
    "d f(Z)_t &= f^\\prime(Z_t) (\\mu-\\tfrac{1}{2}\\sigma^2) \\, dt + \\tfrac{1}{2} f^{\\prime\\prime}(Z_t) \\sigma^2 \\, dt + f^{\\prime}(Z_t) \\sigma \\, dW_t \\\\\n",
    "&= \\exp(z) (\\mu \\, dt + \\sigma \\, dW_t) \\\\\n",
    "&= f(Z_t) (\\mu \\, dt + \\sigma \\, dW_t)\n",
    "\\end{split}\n",
    "$$\n",
    "\n",
    "hence\n",
    "\n",
    "$$\n",
    "\\begin{split}\n",
    "d S_t &= S_t (\\mu \\, dt + \\sigma \\, dW_t)\n",
    "\\end{split}\n",
    "$$\n",
    "\n",
    "But $Z_t=Z_0 + (\\mu - \\frac{1}{2}\\sigma^2)t + \\sigma W_t$ by solving the SDE for $Z_t$ (recall we showed how to solve constant coefficient SDEs last week).\n",
    "Hence $Z_t=\\log(S_0) + (\\mu - \\frac{1}{2}\\sigma^2)t + \\sigma W_t$ and so\n",
    "$$\n",
    "S_t=S_0 e^{ (\\mu - \\frac{1}{2}\\sigma^2)t + \\sigma W_t}\n",
    "$$\n"
   ]
  },
  {
   "cell_type": "code",
   "execution_count": 0,
   "metadata": {
    "collapsed": false
   },
   "outputs": [
   ],
   "source": [
   ]
  }
 ],
 "metadata": {
  "kernelspec": {
   "display_name": "Python 3 (system-wide)",
   "language": "python",
   "metadata": {
    "cocalc": {
     "description": "Python 3 programming language",
     "priority": 100,
     "url": "https://www.python.org/"
    }
   },
   "name": "python3",
   "resource_dir": "/ext/jupyter/kernels/python3"
  },
  "language_info": {
   "codemirror_mode": {
    "name": "ipython",
    "version": 3
   },
   "file_extension": ".py",
   "mimetype": "text/x-python",
   "name": "python",
   "nbconvert_exporter": "python",
   "pygments_lexer": "ipython3",
   "version": "3.8.10"
  }
 },
 "nbformat": 4,
 "nbformat_minor": 4
}