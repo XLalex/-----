{
 "cells": [
  {
   "cell_type": "code",
   "execution_count": 1,
   "metadata": {
    "collapsed": false
   },
   "outputs": [
    {
     "data": {
      "text/html": [
       "<style>\n",
       "                     h1 {\n",
       "                        font-style: italic;\n",
       "                        text-align: center;\n",
       "                     }\n",
       "                     h3 {\n",
       "                         color: LightSkyBlue;\n",
       "                     }\n",
       "                     </style>"
      ],
      "text/plain": [
       "<IPython.core.display.HTML object>"
      ]
     },
     "execution_count": 1,
     "metadata": {
     },
     "output_type": "execute_result"
    }
   ],
   "source": [
    "import fmlib\n",
    "import numpy as np\n",
    "from math import *\n",
    "import grading_tools\n"
   ]
  },
  {
   "cell_type": "markdown",
   "metadata": {
    "collapsed": false
   },
   "source": [
    "# Exercises"
   ]
  },
  {
   "cell_type": "markdown",
   "metadata": {
    "collapsed": false
   },
   "source": [
    "## Exercise\n",
    "\n",
    "Write a function `put_hedging_error` that simulates replicating a put option using the Black-Scholes strategy and returns\n",
    "a single number: the root mean square error. You should use the functions in `fmlib.py` rather than write all the code from scratch."
   ]
  },
  {
   "cell_type": "code",
   "execution_count": 2,
   "metadata": {
    "collapsed": false,
    "nbgrader": {
     "grade": false,
     "grade_id": "f53cdd",
     "locked": false,
     "schema_version": 3,
     "solution": true,
     "task": false
    }
   },
   "outputs": [
   ],
   "source": [
    "def put_hedging_error( S0, K, T, r, mu, sigma, n_steps, n_paths):\n",
    "    ### BEGIN SOLUTION\n",
    "    S, times = fmlib.simulate_gbm_paths(S0,mu,sigma,T,n_steps,n_paths)\n",
    "    Pi = np.zeros(S.shape)\n",
    "    t=times[0]\n",
    "    V = fmlib.black_scholes_put_price(S0,0,K,T,r,sigma)\n",
    "    Pi[:,0] = V\n",
    "    dt = T/n_steps #...\n",
    "    for i in range(0,len(times)-1):\n",
    "        t = times[i]\n",
    "        S_t=S[:,i]\n",
    "        q_t = fmlib.black_scholes_put_delta(S_t,t,K,T,r,sigma)\n",
    "        B_t = Pi[:,i]-q_t*S_t\n",
    "        B_with_interest = B_t*exp(dt*r)\n",
    "        S_tplusdt=S[:,i+1]\n",
    "        new_stock_value=q_t*S_tplusdt\n",
    "        Pi[:,i+1]=B_with_interest+new_stock_value\n",
    "\n",
    "    S_T = S[:,-1]\n",
    "    final_balance=Pi[:,-1]\n",
    "    error = final_balance - np.maximum(K-S_T,0)\n",
    "    rms_error = sqrt( np.mean(error**2) )\n",
    "    return rms_error\n",
    "    ### END SOLUTION"
   ]
  },
  {
   "cell_type": "code",
   "execution_count": 3,
   "metadata": {
    "collapsed": false,
    "nbgrader": {
     "grade": true,
     "grade_id": "d87ba1",
     "locked": true,
     "points": 1,
     "schema_version": 3,
     "solution": false,
     "task": false
    }
   },
   "outputs": [
   ],
   "source": [
    "error = put_hedging_error( 100, 80, 1, 0.02, 0.08, 0.2, 365, 500)\n",
    "grading_tools.check( '1235ef', error, tol=0.05)\n",
    "grading_tools.auto_marking_message()"
   ]
  },
  {
   "cell_type": "markdown",
   "metadata": {
    "collapsed": false
   },
   "source": [
    "## Exercise\n",
    "\n",
    "Suppose that a trader sells a put option at the Black-Scholes price but chooses not to hedge it at all. Suppose that $K=100$, $S_0=100$, $T=1$, $r=0.02$, $\\mu=0.2$ and $\\sigma=0.1$. Compute the average profit of the trader, it should be positive.\n",
    "\n",
    "If this trader makes a profit on average, does this mean that the Black-Scholes price is too high?"
   ]
  },
  {
   "cell_type": "code",
   "execution_count": 4,
   "metadata": {
    "collapsed": false,
    "nbgrader": {
     "grade": false,
     "grade_id": "f7ae5f",
     "locked": false,
     "schema_version": 3,
     "solution": true,
     "task": false
    }
   },
   "outputs": [
   ],
   "source": [
    "def compute_no_hedging_profit( S0, K, T, r, mu, sigma, n_paths):\n",
    "    ### BEGIN SOLUTION\n",
    "    S, times = fmlib.simulate_gbm_paths(S0,mu,sigma,T,1,n_paths)\n",
    "    V = fmlib.black_scholes_put_price(S0,0,K,T,r,sigma)\n",
    "    final_balance = V*exp(r*T)\n",
    "    S_T = S[:,-1]\n",
    "    profit = final_balance - np.maximum(K-S_T,0)\n",
    "    return profit\n",
    "    ### END SOLUTION"
   ]
  },
  {
   "cell_type": "code",
   "execution_count": 5,
   "metadata": {
    "collapsed": false,
    "nbgrader": {
     "grade": true,
     "grade_id": "96984f",
     "locked": true,
     "points": 1,
     "schema_version": 3,
     "solution": false,
     "task": false
    }
   },
   "outputs": [
   ],
   "source": [
    "n_paths = 1000000\n",
    "profit_vec = compute_no_hedging_profit( 100, 100, 1, 0.02, 0.2, 0.1, 1000000 )\n",
    "assert( np.mean( profit_vec )> 0)\n",
    "grading_tools.check( '12djfeg', 0*error, tol=0.05)\n",
    "grading_tools.auto_marking_message()"
   ]
  },
  {
   "cell_type": "markdown",
   "metadata": {
    "collapsed": false,
    "nbgrader": {
     "grade": false,
     "grade_id": "0fe408",
     "locked": false,
     "remove": true,
     "schema_version": 3,
     "solution": false,
     "task": false
    }
   },
   "source": [
    "Consider the case of a trader just buying stock. It will grow *on average* at a rate faster than $r$ since $\\mu>r$, so there is no reason why a *risky* strategy shouldn't allow you to make money on average. In this example, the trader is effectively gambling on the stock price increasing so they will benefit from the fact $\\mu>r$ in just the same way. It would be strange if the strategy made a profit with certainty, but it does not."
   ]
  }
 ],
 "metadata": {
  "kernelspec": {
   "display_name": "Python 3 (system-wide)",
   "language": "python",
   "metadata": {
    "cocalc": {
     "description": "Python 3 programming language",
     "priority": 100,
     "url": "https://www.python.org/"
    }
   },
   "name": "python3",
   "resource_dir": "/ext/jupyter/kernels/python3"
  },
  "language_info": {
   "codemirror_mode": {
    "name": "ipython",
    "version": 3
   },
   "file_extension": ".py",
   "mimetype": "text/x-python",
   "name": "python",
   "nbconvert_exporter": "python",
   "pygments_lexer": "ipython3",
   "version": "3.8.5"
  }
 },
 "nbformat": 4,
 "nbformat_minor": 4
}