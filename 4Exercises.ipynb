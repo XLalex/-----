{
 "cells": [
  {
   "cell_type": "code",
   "execution_count": 1,
   "metadata": {
    "collapsed": false
   },
   "outputs": [
    {
     "data": {
      "text/html": [
       "<style>\n",
       "                     h1 {\n",
       "                        font-style: italic;\n",
       "                        text-align: center;\n",
       "                     }\n",
       "                     h3 {\n",
       "                         color: LightSkyBlue;\n",
       "                     }\n",
       "                     </style>"
      ],
      "text/plain": [
       "<IPython.core.display.HTML object>"
      ]
     },
     "execution_count": 1,
     "metadata": {
     },
     "output_type": "execute_result"
    }
   ],
   "source": [
    "from grading_tools import check, auto_marking_message"
   ]
  },
  {
   "cell_type": "markdown",
   "metadata": {
    "collapsed": false
   },
   "source": [
    "# Exercises"
   ]
  },
  {
   "cell_type": "markdown",
   "metadata": {
    "collapsed": false
   },
   "source": [
    "## Exercise\n",
    "\n",
    "You should use the ${\\mathbb Q}$-measure for only one purpose. What is that purpose?\n",
    "\n",
    " 1. Computing expected utilities\n",
    " 2. Calculating prices\n",
    " 3. Computing Value at Risk\n",
    " 4.  Computing Expected Shortfall\n",
    " 5.  Testing whether delta-hedging works in practice.\n",
    "    "
   ]
  },
  {
   "cell_type": "code",
   "execution_count": 2,
   "metadata": {
    "collapsed": false,
    "nbgrader": {
     "grade": false,
     "grade_id": "53788e",
     "locked": false,
     "schema_version": 3,
     "solution": true,
     "task": false
    }
   },
   "outputs": [
    {
     "data": {
      "text/plain": [
       "2"
      ]
     },
     "execution_count": 2,
     "metadata": {
     },
     "output_type": "execute_result"
    }
   ],
   "source": [
    "### BEGIN SOLUTION\n",
    "2\n",
    "### END SOLUTION"
   ]
  },
  {
   "cell_type": "code",
   "execution_count": 3,
   "metadata": {
    "collapsed": false
   },
   "outputs": [
    {
     "name": "stdout",
     "output_type": "stream",
     "text": [
      "Auto marking message: ✨ Correct\n"
     ]
    }
   ],
   "source": [
    "check('53788e',2)\n",
    "auto_marking_message()"
   ]
  },
  {
   "cell_type": "markdown",
   "metadata": {
    "collapsed": false
   },
   "source": [
    "## Exercise\n",
    "\n",
    "In the lecture notes it is claimed that the solution of the SDE\n",
    "$$\n",
    "d \\tilde{S}_t = \\tilde{S}_t(r \\, dt + \\sigma \\, dW^{\\mathbb Q}_t)\n",
    "$$\n",
    "is\n",
    "$$\n",
    "\\tilde{S}_t = S_0 \\exp((r - \\frac{1}{2}\\sigma^2) t + \\sigma W^{\\mathbb Q}_t ).\n",
    "$$\n",
    "How do we know this?"
   ]
  },
  {
   "cell_type": "markdown",
   "metadata": {
    "collapsed": false
   },
   "source": [
    "## Exercise\n",
    "\n",
    "In the lecture notes it is claimed that if\n",
    "$$\n",
    "d \\tilde{S}_t = \\tilde{S}_t(r \\, dt + \\sigma \\, dW^{\\mathbb Q}_t)\n",
    "$$\n",
    "then \n",
    "$\\tilde{Z}_T:=\\log(\\tilde{S}_t)$ is normally distributed with mean $A:=\\log(S_0) + (r-\\frac{1}{2}\\sigma^2)T$ and standard deviation\n",
    "$B:=\\sigma \\sqrt{T}$. How do we know this?"
   ]
  },
  {
   "cell_type": "markdown",
   "metadata": {
    "collapsed": false
   },
   "source": [
    "## Exercise\n",
    "\n",
    "A digital call option with strike $K$ and maturity $T$ pays out $1$ if $S_T>K$ and $0$ otherwise.\n",
    "Compute an analytic formula for the price of a digital call option in the Black-Scholes model\n",
    "by following the same procedure we used to compute the Black-Scholes formula.\n",
    "\n",
    "Use this to write a function `black_scholes_digital_call_price`.\n",
    "\n"
   ]
  },
  {
   "cell_type": "code",
   "execution_count": 4,
   "metadata": {
    "collapsed": false,
    "nbgrader": {
     "grade": false,
     "grade_id": "f65fdf",
     "locked": false,
     "remove": true,
     "schema_version": 3,
     "solution": false,
     "task": false
    }
   },
   "outputs": [
    {
     "data": {
      "text/latex": [
       "$\\displaystyle N{\\left(\\frac{2 T r - T \\sigma^{2} + \\log{\\left(\\frac{S^{2}}{K^{2}} \\right)}}{2 \\sqrt{T} \\sigma} \\right)} e^{- T r}$"
      ],
      "text/plain": [
       "N((2*T*r - T*sigma**2 + log(S**2/K**2))/(2*sqrt(T)*sigma))*exp(-T*r)"
      ]
     },
     "execution_count": 4,
     "metadata": {
     },
     "output_type": "execute_result"
    }
   ],
   "source": [
    "### SOLUTION\n",
    "\n",
    "import scipy.stats\n",
    "\n",
    "from sympy import *\n",
    "import math\n",
    "\n",
    "r, z = symbols('r z', real=True)\n",
    "K, T, S, sigma = symbols('K T S sigma', real=True, positive=True)\n",
    "B = sigma * sqrt(T)\n",
    "A = log(S) + (r-sigma**2/2)*T\n",
    "# The change in the calculation is that we change the function $f$ in the integrand. \n",
    "integrand = exp(-r*T)*(1/(B*sqrt(2*pi)))*exp(-(z-A)**2/(2*B**2))\n",
    "V = integrate( integrand, (z,log(K),oo) ).simplify()\n",
    "N = Function('N')\n",
    "w = Wild('w')\n",
    "V = V.replace(erf(w),2*N(sqrt(2)*w)-1)\n",
    "V = V.simplify()\n",
    "V"
   ]
  },
  {
   "cell_type": "code",
   "execution_count": 5,
   "metadata": {
    "collapsed": false,
    "nbgrader": {
     "grade": false,
     "grade_id": "07bd76",
     "locked": false,
     "schema_version": 3,
     "solution": true,
     "task": false
    }
   },
   "outputs": [
   ],
   "source": [
    "def black_scholes_digital_call_price(S,r,sigma,K,T):\n",
    "    # BEGIN SOLUTION\n",
    "    d2 = 1/(sigma*math.sqrt(T))*(math.log(S/K)+(r-0.5*sigma**2)*T)\n",
    "    return scipy.stats.norm.cdf(d2)*exp(-T*r)\n",
    "    # END SOLUTION"
   ]
  },
  {
   "cell_type": "code",
   "execution_count": 6,
   "metadata": {
    "collapsed": false,
    "nbgrader": {
     "grade": true,
     "grade_id": "46fac4",
     "locked": true,
     "points": 1,
     "schema_version": 3,
     "solution": false,
     "task": false
    }
   },
   "outputs": [
    {
     "name": "stdout",
     "output_type": "stream",
     "text": [
      "Auto marking message: 🌟 Correct\n"
     ]
    }
   ],
   "source": [
    "check('07bd76', black_scholes_digital_call_price(100,0.05,0.2,105,2))\n",
    "auto_marking_message()"
   ]
  },
  {
   "cell_type": "markdown",
   "metadata": {
    "collapsed": false
   },
   "source": [
    "## Exercise\n",
    "\n",
    "Last week we made a dubious argument to justify an estimate of the price of a call option on the top boundary.\n",
    "\n",
    "We noted that if we wish to price a call option in the Black-Scholes model and $S_t$ is much greater than $K$, then\n",
    "the probability that $S_T\\leq K$ will be negligible. This was true, but it didn't really tell us anything about the price of the option. This is because we were talking about the ${\\mathbb P}$-measure probability. What we really needed to know was that the ${\\mathbb Q}$-measure probability that $\\tilde{S}_T\\leq K$ is negligible, but this will also be true.\n",
    "\n",
    "We can then argue that\n",
    "$$\n",
    "\\begin{split}\n",
    "V &= E^{\\mathbb Q}_t(e^{-r(T-t)} \\max\\{\\tilde{S}_T-K,0\\}) \\\\\n",
    "&\\approx E_{\\mathbb Q}(e^{-r(T-t)} (\\tilde{S}_T-K)) \\\\\n",
    "&=\\tilde{S}_t - e^{-r(T-t)} K.\n",
    "\\end{split}\n",
    "$$\n",
    "\n",
    "Justify the final line of this computation.\n"
   ]
  },
  {
   "cell_type": "markdown",
   "metadata": {
    "collapsed": false,
    "nbgrader": {
     "grade": false,
     "grade_id": "80f572",
     "locked": false,
     "remove": true,
     "schema_version": 3,
     "solution": false,
     "task": false
    }
   },
   "source": [
    "### Solution\n",
    "\n",
    "One approach is to note that we can compute this expectation by brute-force integration. Indeed, we did this earlier in the course\n",
    "when we computed the mean of a process following discrete-time geometric Brownian motion, so we've already computed that\n",
    "$$\n",
    "E^{\\mathbb Q}(\\tilde{S}_T)=e^{rT}(\\tilde{S}_0)\n",
    "$$\n",
    "and hence\n",
    "$$\n",
    "E^{\\mathbb Q}_t(\\tilde{S}_T)=e^{r(T-t)}(\\tilde{S}_t).\n",
    "$$\n",
    "\n",
    "Another approach is to note that the stock is itself a derviative with payoff function $f(S_T)=S_T$. We know the price of the stock at time $t$ is $S_t$, but the theory of risk-neutral pricing tells us that the price is also given by\n",
    "$$\n",
    "E^{\\mathbb Q}_t(e^{-r(T-t)} f(\\tilde{S}_T))=E^{\\mathbb Q}_t(e^{-r(T-t)} \\tilde{S}_T ).\n",
    "$$\n",
    "So we can write down that\n",
    "$$\n",
    "S_t=E^{\\mathbb Q}_t(e^{-r(T-t)} \\tilde{S}_T).\n",
    "$$"
   ]
  },
  {
   "cell_type": "code",
   "execution_count": 0,
   "metadata": {
    "collapsed": false
   },
   "outputs": [
   ],
   "source": [
   ]
  }
 ],
 "metadata": {
  "kernelspec": {
   "display_name": "Python 3 (system-wide)",
   "language": "python",
   "metadata": {
    "cocalc": {
     "description": "Python 3 programming language",
     "priority": 100,
     "url": "https://www.python.org/"
    }
   },
   "name": "python3",
   "resource_dir": "/ext/jupyter/kernels/python3"
  },
  "language_info": {
   "codemirror_mode": {
    "name": "ipython",
    "version": 3
   },
   "file_extension": ".py",
   "mimetype": "text/x-python",
   "name": "python",
   "nbconvert_exporter": "python",
   "pygments_lexer": "ipython3",
   "version": "3.8.5"
  }
 },
 "nbformat": 4,
 "nbformat_minor": 4
}