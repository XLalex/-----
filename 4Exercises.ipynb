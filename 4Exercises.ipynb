{
 "cells": [
  {
   "cell_type": "code",
   "execution_count": 1,
   "metadata": {
    "collapsed": false
   },
   "outputs": [
    {
     "data": {
      "text/html": [
       "<style>\n",
       "                     h1 {\n",
       "                        font-style: italic;\n",
       "                        text-align: center;\n",
       "                     }\n",
       "                     h3 {\n",
       "                         color: LightSkyBlue;\n",
       "                     }\n",
       "                     </style>"
      ],
      "text/plain": [
       "<IPython.core.display.HTML object>"
      ]
     },
     "execution_count": 1,
     "metadata": {
     },
     "output_type": "execute_result"
    }
   ],
   "source": [
    "import numpy as np\n",
    "from math import *\n",
    "import matplotlib.pyplot as plt\n",
    "import grading_tools"
   ]
  },
  {
   "cell_type": "markdown",
   "metadata": {
    "collapsed": false
   },
   "source": [
    "# Exercises"
   ]
  },
  {
   "cell_type": "markdown",
   "metadata": {
    "collapsed": false
   },
   "source": [
    "## Exercise\n",
    "\n",
    "Write a function `central_difference_error` which computes the size of error of the central difference scheme for solving the ODE\n",
    "$$\n",
    "\\frac{dy}{dt} = \\lambda y_t\n",
    "$$\n",
    "with initial conidition $y_0$\n",
    "on the interval $[0,1]$ with $n$ steps. The error is defined to be the distance between the true value at time $1$ and the approximation\n",
    "at time $1$.\n",
    "Generate a plot that shows the error is of order $O(n^{-2})$ when $\\lambda=-1$."
   ]
  },
  {
   "cell_type": "code",
   "execution_count": 2,
   "metadata": {
    "collapsed": false,
    "nbgrader": {
     "grade": false,
     "grade_id": "cf917a",
     "locked": false,
     "schema_version": 3,
     "solution": true,
     "task": false
    }
   },
   "outputs": [
    {
     "name": "stdout",
     "output_type": "stream",
     "text": [
      "-2.0006316641849673\n"
     ]
    },
    {
     "data": {
      "image/png": "[encoded data removed]",
      "text/plain": [
       "<Figure size 864x504 with 1 Axes>"
      ]
     },
     "execution_count": 2,
     "metadata": {
      "image/png": {
       "height": 423,
       "width": 228
      },
      "needs_background": "light"
     },
     "output_type": "execute_result"
    }
   ],
   "source": [
    "def central_difference_error( y0, lbda, n ):\n",
    "    ### BEGIN SOLUTION\n",
    "    dt = 1/n\n",
    "    t = np.linspace(0,1, n+1)\n",
    "    y = np.zeros(n+1)\n",
    "    y[0] = y0\n",
    "    for i in range(0,n):\n",
    "        y[i+1] = (1+0.5*lbda*dt)/(1-0.5*lbda*dt) * y[i]\n",
    "    error = abs( y[-1] - np.exp(lbda)*y0)\n",
    "    return error\n",
    "    ### END SOLUTION\n",
    "\n",
    "### BEGIN SOLUTION\n",
    "lbda = -3\n",
    "n_pts = 12\n",
    "n_vals = np.zeros(n_pts)\n",
    "errors = np.zeros(n_pts)\n",
    "y0 = 2\n",
    "\n",
    "for i in range(0,n_pts):\n",
    "    n = 2**i\n",
    "    n_vals[i] = n\n",
    "    errors[i] = central_difference_error( y0, lbda, n )\n",
    "plt.loglog(n_vals,errors)\n",
    "plt.gca().set_aspect('equal')\n",
    "\n",
    "gradient = (log(errors[11])-log(errors[3]))/(log(n_vals[11])-log(n_vals[3]))\n",
    "print( gradient )\n",
    "\n",
    "# The gradient of the plot is $-2$, demonstrating that the error is of $O(n^{-2})$.\n",
    "\n",
    "### END SOLUTION"
   ]
  },
  {
   "cell_type": "code",
   "execution_count": 3,
   "metadata": {
    "collapsed": false,
    "nbgrader": {
     "grade": true,
     "grade_id": "60895a",
     "locked": true,
     "points": 1,
     "schema_version": 3,
     "solution": false,
     "task": false
    }
   },
   "outputs": [
    {
     "name": "stdout",
     "output_type": "stream",
     "text": [
      "Auto marking message: 😺 Correct\n"
     ]
    }
   ],
   "source": [
    "error = central_difference_error(2, -3, 12)\n",
    "grading_tools.check('60895a', error)\n",
    "grading_tools.auto_marking_message()"
   ]
  },
  {
   "cell_type": "markdown",
   "metadata": {
    "collapsed": false
   },
   "source": [
    "## Exercise\n",
    "\n",
    "Prove that if $\\lambda\\leq 0$, the central difference scheme is stable for all values of $\\delta t$."
   ]
  },
  {
   "cell_type": "markdown",
   "metadata": {
    "collapsed": false,
    "nbgrader": {
     "grade": false,
     "grade_id": "c079f9",
     "locked": false,
     "remove": true,
     "schema_version": 3,
     "solution": false,
     "task": false
    }
   },
   "source": [
    "### Solution\n",
    "\n",
    "By induction\n",
    "\n",
    "$$y_{n \\delta t}=\\left( \\frac{1+\\tfrac{1}{2}\\lambda \\delta t}{1-\\tfrac{1}{2}\\lambda \\delta t} \\right)^n y_0$$\n",
    "\n",
    "So the scheme is stable if and only if \n",
    "$$\n",
    "\\frac{1+\\tfrac{1}{2}\\lambda \\delta t}{1-\\tfrac{1}{2}\\lambda \\delta t} \\leq 1\n",
    "$$\n",
    "If $\\lambda<0$, the denominator is positive, so we may rearrange to find that the scheme will be stable if\n",
    "$$1+\\tfrac{1}{2}\\lambda \\delta t \\leq 1-\\tfrac{1}{2}\\lambda \\delta t$$\n",
    "Which simplifies to requiring $\\lambda \\delta t<0$. This will always be satisfied since $\\lambda<0$ and $\\delta t>0$.\n"
   ]
  },
  {
   "cell_type": "code",
   "execution_count": 0,
   "metadata": {
    "collapsed": false
   },
   "outputs": [
   ],
   "source": [
   ]
  }
 ],
 "metadata": {
  "kernelspec": {
   "display_name": "Python 3 (system-wide)",
   "language": "python",
   "metadata": {
    "cocalc": {
     "description": "Python 3 programming language",
     "priority": 100,
     "url": "https://www.python.org/"
    }
   },
   "name": "python3",
   "resource_dir": "/ext/jupyter/kernels/python3"
  },
  "language_info": {
   "codemirror_mode": {
    "name": "ipython",
    "version": 3
   },
   "file_extension": ".py",
   "mimetype": "text/x-python",
   "name": "python",
   "nbconvert_exporter": "python",
   "pygments_lexer": "ipython3",
   "version": "3.8.5"
  }
 },
 "nbformat": 4,
 "nbformat_minor": 4
}