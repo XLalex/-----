{
 "cells": [
  {
   "cell_type": "markdown",
   "metadata": {
    "collapsed": false
   },
   "source": [
    "# Exercises"
   ]
  },
  {
   "cell_type": "markdown",
   "metadata": {
    "collapsed": false
   },
   "source": [
    "## Exercise\n",
    "\n",
    "If $S_t$ satisfies geometric Brownian motion and $S_0>0$, prove that $S_t>0$ at all times $t \\geq 0$."
   ]
  },
  {
   "cell_type": "markdown",
   "metadata": {
    "collapsed": false,
    "nbgrader": {
     "grade": false,
     "grade_id": "1e1680",
     "locked": false,
     "remove": true,
     "schema_version": 3,
     "solution": false,
     "task": false
    }
   },
   "source": [
    "It has been proved using Ito's Lemma that \n",
    "$$\n",
    "S_t = S_0 \\exp( (\\mu - \\frac{1}{2} \\sigma^2)t + \\sigma W_t).\n",
    "$$\n",
    "Since the exponential of a real number is positive and since $S_0$ is positive, $S_t>0$."
   ]
  },
  {
   "cell_type": "markdown",
   "metadata": {
    "collapsed": false
   },
   "source": [
    "## Exercise\n",
    "\n",
    "Write down the Euler scheme for the equation\n",
    "$$\n",
    "d S_t = S_t (\\mu \\, dt + \\sigma \\, d W_t)\n",
    "$$\n",
    "on a grid of size $\\delta t$. Suppose that $S_0>0$. Prove that there is a non-zero probability that $S_t<0$ at any time $t>0$ in the grid."
   ]
  },
  {
   "cell_type": "markdown",
   "metadata": {
    "collapsed": false,
    "nbgrader": {
     "grade": false,
     "grade_id": "7afc1f",
     "locked": false,
     "remove": true,
     "schema_version": 3,
     "solution": false,
     "task": false
    }
   },
   "source": [
    "The Euler scheme is\n",
    "$$\n",
    "S_{t+\\delta t} = S_t + S_t( \\mu \\delta t + \\sigma \\sqrt{t} \\epsilon_t)\n",
    "$$\n",
    "for a standard normally distributed random variable $\\epsilon$. Therefore\n",
    "$$\n",
    "S_{t+\\delta t} = S_t \\, n_t\n",
    "$$\n",
    "where $n_t$ follows a (non-standard) normal distribution. So long as $S_t\\neq 0$ there is a non-zero probability of $n_t$ being\n",
    "either positice or negative, and hence there is a non-zero probability of $S_{t+\\delta t}$ being negative, conditioned on the sign of $S_t$. The probability that $n_t=0$ is zero. Hence by induction, the unconditional probability that $S_t=0$ is zero and the unconditional probability that $S_t<0$ is non-zero.\n",
    "\n"
   ]
  }
 ],
 "metadata": {
  "kernelspec": {
   "display_name": "Python 3 (system-wide)",
   "language": "python",
   "metadata": {
    "cocalc": {
     "description": "Python 3 programming language",
     "priority": 100,
     "url": "https://www.python.org/"
    }
   },
   "name": "python3",
   "resource_dir": "/ext/jupyter/kernels/python3"
  },
  "language_info": {
   "codemirror_mode": {
    "name": "ipython",
    "version": 3
   },
   "file_extension": ".py",
   "mimetype": "text/x-python",
   "name": "python",
   "nbconvert_exporter": "python",
   "pygments_lexer": "ipython3",
   "version": "3.8.5"
  }
 },
 "nbformat": 4,
 "nbformat_minor": 4
}