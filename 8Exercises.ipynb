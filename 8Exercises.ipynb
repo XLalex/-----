{
 "cells": [
  {
   "cell_type": "code",
   "execution_count": 1,
   "metadata": {
    "collapsed": false
   },
   "outputs": [
    {
     "data": {
      "text/html": [
       "<style>\n",
       "                     h1 {\n",
       "                        font-style: italic;\n",
       "                        text-align: center;\n",
       "                     }\n",
       "                     h3 {\n",
       "                         color: LightSkyBlue;\n",
       "                     }\n",
       "                     </style>"
      ],
      "text/plain": [
       "<IPython.core.display.HTML object>"
      ]
     },
     "execution_count": 1,
     "metadata": {
     },
     "output_type": "execute_result"
    }
   ],
   "source": [
    "import numpy as np\n",
    "import matplotlib.pyplot as plt\n",
    "import fmlib\n",
    "import sympy as sp\n",
    "from grading_tools import check, auto_marking_message"
   ]
  },
  {
   "cell_type": "markdown",
   "metadata": {
    "collapsed": false
   },
   "source": [
    "# Exercises"
   ]
  },
  {
   "cell_type": "markdown",
   "metadata": {
    "collapsed": false
   },
   "source": [
    "## Exercise\n",
    "\n",
    "Use `sympy` to compute\n",
    "\n",
    "$$\\frac{\\partial^2}{\\partial x \\, \\partial y} e^{\\sin(x)\\cos(y)}$$\n",
    "\n",
    "Store your answer in a variable called `answer`."
   ]
  },
  {
   "cell_type": "code",
   "execution_count": 2,
   "metadata": {
    "collapsed": false,
    "nbgrader": {
     "grade": false,
     "grade_id": "7ff21f",
     "locked": false,
     "remove": false,
     "schema_version": 3,
     "solution": true,
     "task": false
    }
   },
   "outputs": [
   ],
   "source": [
    "x, y = sp.symbols('x y')\n",
    "# BEGIN SOLUTION\n",
    "answer = sp.diff( sp.exp(sp.sin(x)*sp.cos(y)), x, y )\n",
    "# END SOLUTION"
   ]
  },
  {
   "cell_type": "code",
   "execution_count": 3,
   "metadata": {
    "collapsed": false,
    "nbgrader": {
     "grade": true,
     "grade_id": "f79702",
     "locked": true,
     "points": 1,
     "schema_version": 3,
     "solution": false,
     "task": false
    }
   },
   "outputs": [
    {
     "name": "stdout",
     "output_type": "stream",
     "text": [
      "Auto marking message: 😊 Correct\n"
     ]
    }
   ],
   "source": [
    "check('f79702',answer.subs([(x,0.1),(y,0.2)]).evalf())\n",
    "auto_marking_message()"
   ]
  },
  {
   "cell_type": "markdown",
   "metadata": {
    "collapsed": false
   },
   "source": [
    "## Exercise\n",
    "\n",
    "Use `sympy` to compute the value of \n",
    "\n",
    "$$\n",
    "\\int_{-\\infty}^{\\infty} \\frac{1}{\\sqrt{2 \\pi}} x^4 e^{-\\frac{x^2}{2}} \\, d x.\n",
    "$$\n",
    "\n",
    "Store your answer in a variable called answer.\n",
    "You will probably need to use the documentation of `sympy` to complete this task."
   ]
  },
  {
   "cell_type": "code",
   "execution_count": 4,
   "metadata": {
    "collapsed": false,
    "nbgrader": {
     "grade": false,
     "grade_id": "e779fb",
     "locked": false,
     "schema_version": 3,
     "solution": true,
     "task": false
    }
   },
   "outputs": [
   ],
   "source": [
    "answer = sp.integrate(1/sp.sqrt(2*sp.pi)*x**4*sp.exp(-x**2/2), (x,-sp.oo,sp.oo))"
   ]
  },
  {
   "cell_type": "code",
   "execution_count": 5,
   "metadata": {
    "collapsed": false,
    "nbgrader": {
     "grade": true,
     "grade_id": "90ceae",
     "locked": true,
     "points": 1,
     "schema_version": 3,
     "solution": false,
     "task": false
    }
   },
   "outputs": [
    {
     "name": "stdout",
     "output_type": "stream",
     "text": [
      "Auto marking message: 😺 Correct\n"
     ]
    }
   ],
   "source": [
    "check( '90ceae', answer )\n",
    "auto_marking_message()"
   ]
  },
  {
   "cell_type": "markdown",
   "metadata": {
    "collapsed": false
   },
   "source": [
    "## Exercise\n",
    "\n",
    "Use the `apply_itos_lemma` function to show that if \n",
    "$$\n",
    "d S_t = S_t( \\mu dt + \\sigma dW_t)\n",
    "$$\n",
    "then this implies\n",
    "$$\n",
    "d \\log(S)_t = (\\mu - \\frac{1}{2}\\sigma^2) dt + \\sigma dW_t.\n",
    "$$\n",
    "Repeat this calculation by hand.\n",
    "\n",
    "This question is not automatically marked.\n"
   ]
  },
  {
   "cell_type": "code",
   "execution_count": 6,
   "metadata": {
    "collapsed": false,
    "nbgrader": {
     "grade": false,
     "grade_id": "b59026",
     "locked": false,
     "remove": true,
     "schema_version": 3,
     "solution": false,
     "task": false
    }
   },
   "outputs": [
   ],
   "source": [
    "# Solution\n",
    "\n",
    "S, mu, sigma = sp.symbols(['S','mu','sigma'])\n",
    "S_vec = sp.Matrix([S])\n",
    "a = sp.Matrix([S*mu])\n",
    "b = sp.Matrix([S*sigma])\n",
    "f = sp.Matrix([sp.log(S)])\n",
    "\n",
    "c_dt, c_dW = fmlib.apply_itos_lemma(S_vec,a,b,f)\n",
    "assert( c_dt==sp.Matrix([mu-sigma**2/2]))\n",
    "assert( c_dW==sp.Matrix([sigma]) )"
   ]
  },
  {
   "cell_type": "markdown",
   "metadata": {
    "collapsed": false
   },
   "source": [
    "## Exercise\n",
    "\n",
    "Write a function `euler_maruyama` that takes as parameters the initial condition $X_0$, the coefficient functions $a$ and $b$ and\n",
    "vectors `W`, `times` containing the noise process and the time and returns a vector containing all the corresponding values of $X$\n",
    "if one applies the Euler Maruyama scheme to the equation\n",
    "$$\n",
    "d X_t = a(X_t,t) \\, d t + b(X_t,t) \\, d W_t.\n",
    "$$\n",
    "Your code should be able to cope with any Python functions $a(X,t)$ and $b(X,t)$. The test checks that your code works for geometric Brownian motion."
   ]
  },
  {
   "cell_type": "code",
   "execution_count": 7,
   "metadata": {
    "collapsed": false,
    "nbgrader": {
     "grade": false,
     "grade_id": "b01a30",
     "locked": false,
     "schema_version": 3,
     "solution": true,
     "task": false
    }
   },
   "outputs": [
   ],
   "source": [
    "def euler_maruyama(X0,a,b,W,times):\n",
    "    ### BEGIN SOLUTION\n",
    "    X = np.zeros(len(W))\n",
    "    X[0] = X0\n",
    "    for i in range(0,len(times)-1):\n",
    "        t = times[i]\n",
    "        dt = times[i+1]-times[i]\n",
    "        dW = W[i+1]-W[i]\n",
    "        X[i+1]=X[i] + a(X[i],t)*dt + b(X[i],t)*dW\n",
    "    return X\n",
    "    ### END SOLUTION\n"
   ]
  },
  {
   "cell_type": "code",
   "execution_count": 8,
   "metadata": {
    "collapsed": false,
    "nbgrader": {
     "grade": true,
     "grade_id": "010ada",
     "locked": true,
     "points": 1,
     "schema_version": 3,
     "solution": false,
     "task": false
    }
   },
   "outputs": [
    {
     "name": "stdout",
     "output_type": "stream",
     "text": [
      "Auto marking message: 👍 Correct\n"
     ]
    }
   ],
   "source": [
    "# Test with geometric Brownian motion\n",
    "np.random.seed(0)\n",
    "T = 1\n",
    "W, times = fmlib.one_step_wiener(T)\n",
    "W,times = fmlib.wiener_interpolate(W,times,20)\n",
    "\n",
    "mu = 0.5\n",
    "sigma = 1\n",
    "def a_gbm(S,t):\n",
    "    return mu*S\n",
    "def b_gbm(S,t):\n",
    "    return sigma*S\n",
    "\n",
    "WT = W[-1]\n",
    "S0 = 100\n",
    "S = euler_maruyama(S0,a_gbm,b_gbm,W,times);\n",
    "expectedST = S0*np.exp((mu- 0.5*sigma**2)*T + sigma*WT)\n",
    "ST = S[-1]\n",
    "assert abs(expectedST - ST)<0.1 ;\n",
    "auto_marking_message()"
   ]
  },
  {
   "cell_type": "code",
   "execution_count": 0,
   "metadata": {
    "collapsed": false
   },
   "outputs": [
   ],
   "source": [
   ]
  }
 ],
 "metadata": {
  "kernelspec": {
   "display_name": "Python 3 (system-wide)",
   "language": "python",
   "metadata": {
    "cocalc": {
     "description": "Python 3 programming language",
     "priority": 100,
     "url": "https://www.python.org/"
    }
   },
   "name": "python3",
   "resource_dir": "/ext/jupyter/kernels/python3"
  },
  "language_info": {
   "codemirror_mode": {
    "name": "ipython",
    "version": 3
   },
   "file_extension": ".py",
   "mimetype": "text/x-python",
   "name": "python",
   "nbconvert_exporter": "python",
   "pygments_lexer": "ipython3",
   "version": "3.8.5"
  }
 },
 "nbformat": 4,
 "nbformat_minor": 4
}