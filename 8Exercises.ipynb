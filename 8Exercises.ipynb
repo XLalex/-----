{
 "cells": [
  {
   "cell_type": "markdown",
   "metadata": {
    "collapsed": false
   },
   "source": [
    "# Reading and Exercises"
   ]
  },
  {
   "cell_type": "markdown",
   "metadata": {
    "collapsed": false
   },
   "source": [
    "## Reading - The Greeks\n",
    "\n",
    "If $V$ is the price of an option, then we can measure the sensitivity of the price to market conditions using partial derivatives of $V$.\n",
    "These partial derivatives have standard names and are collectively called \"the Greeks.\"\n",
    "$$\n",
    "\\begin{split}\n",
    "\\Delta&:=\\frac{\\partial V}{\\partial S} \\\\ \n",
    "\\Gamma&:=\\frac{\\partial^2 V}{\\partial S^2} \\\\\n",
    "\\rho&:=\\frac{\\partial V}{\\partial r} \\\\\n",
    "\\theta&:=\\frac{\\partial V}{\\partial t} \\\\\n",
    "\\text{Vega}&:=\\frac{\\partial V}{\\partial \\sigma}\n",
    "\\end{split}\n",
    "$$\n",
    "There is no Greek letter called \"Vega\" so the name for this last sensitivity is rather strange!\n",
    "\n",
    "Since these derivatives measure the sensitivity to market changes, they can be viewed as a form of risk-figure. One advantage they have as risk figures is that you can compute the Greeks of a portfolio just by adding up the Greeks of its components. This is because partial derivatives are linear.\n",
    "\n",
    "If a trader writes (i.e. sells) a call option and replicates it using the delta-hedging strategy, then the delta of their portfolio is 0 at all times. This is because their portfolio consists of $-1$ units of the option and $\\Delta$ units of the stock. So the total $\\Delta$ is $-1 \\cdot  \\Delta + 1 \\cdot \\Delta=0$, since the $\\Delta$ of the stock is 1 ($\\frac{\\partial S}{\\partial S}=1$). So the $\\Delta$ hedging strategy can be viewed\n",
    "as the strategy of ensuring that this particular risk-measure is always 0.\n",
    "\n",
    "In practice, derivatives traders manage their portfolios to ensure that most of the Greek's are low as, at least heuristically, one would then expect that the portfolio is hedged against risks such as a change in interest rate or volatility."
   ]
  },
  {
   "cell_type": "markdown",
   "metadata": {
    "collapsed": false
   },
   "source": [
    "## Reading - Simplifying expressions with `sympy`\n",
    "\n",
    "We will want to calculate the value of $\\Delta$ for a call option. Let us now see how to do that in `sympy`.\n",
    "\n",
    "We begin, as usual by creating the symbols we need and we then compute $V$ according to the Black-Scholes formula.\n",
    "We introduce a variable $\\tau=T-t$.\n",
    "We also indicate that all our variables will be positive as this will allow more simplification rules to be applied later.\n",
    "\n",
    "Since $N$ is a symbolic function rather than a variable, we must create it using `Function` command instead of using `symbols`."
   ]
  },
  {
   "cell_type": "code",
   "execution_count": 1,
   "metadata": {
    "collapsed": false
   },
   "outputs": [
    {
     "data": {
      "text/html": [
       "<style>\n",
       "                     h1 {\n",
       "                        font-style: italic;\n",
       "                        text-align: center;\n",
       "                     }\n",
       "                     h3 {\n",
       "                         color: LightSkyBlue;\n",
       "                     }\n",
       "                     </style>"
      ],
      "text/plain": [
       "<IPython.core.display.HTML object>"
      ]
     },
     "execution_count": 1,
     "metadata": {
     },
     "output_type": "execute_result"
    },
    {
     "data": {
      "text/latex": [
       "$\\displaystyle - K N{\\left(- \\sigma \\sqrt{\\tau} + \\frac{\\tau \\left(r + \\frac{\\sigma^{2}}{2}\\right) + \\log{\\left(\\frac{S}{K} \\right)}}{\\sigma \\sqrt{\\tau}} \\right)} e^{- r \\tau} + S N{\\left(\\frac{\\tau \\left(r + \\frac{\\sigma^{2}}{2}\\right) + \\log{\\left(\\frac{S}{K} \\right)}}{\\sigma \\sqrt{\\tau}} \\right)}$"
      ],
      "text/plain": [
       "-K*N(-sigma*sqrt(tau) + (tau*(r + sigma**2/2) + log(S/K))/(sigma*sqrt(tau)))*exp(-r*tau) + S*N((tau*(r + sigma**2/2) + log(S/K))/(sigma*sqrt(tau)))"
      ]
     },
     "execution_count": 1,
     "metadata": {
     },
     "output_type": "execute_result"
    }
   ],
   "source": [
    "from sympy import *\n",
    "\n",
    "S, tau, K, r, sigma, D1, D2 = symbols('S tau K r sigma D1 D2',positive=True)\n",
    "N = Function('N')\n",
    "d1 = 1/(sigma*sqrt(tau))*(log(S/K)+(r+sigma**2/2)*tau)\n",
    "d2 = d1 - sigma * sqrt(tau)\n",
    "V = S*N(d1) -K*exp(-r*tau)*N(d2)\n",
    "display(V)"
   ]
  },
  {
   "cell_type": "markdown",
   "metadata": {
    "collapsed": false
   },
   "source": [
    "If we compute the partial derivative of $V$ we will obtain an expression for $\\Delta$ in terms of the function $N$ and its partial derivative"
   ]
  },
  {
   "cell_type": "code",
   "execution_count": 2,
   "metadata": {
    "collapsed": false
   },
   "outputs": [
    {
     "data": {
      "text/latex": [
       "$\\displaystyle - \\frac{K e^{- r \\tau} \\left. \\frac{d}{d \\xi_{1}} N{\\left(\\xi_{1} \\right)} \\right|_{\\substack{ \\xi_{1}=- \\sigma \\sqrt{\\tau} + \\frac{\\tau \\left(r + \\frac{\\sigma^{2}}{2}\\right) + \\log{\\left(\\frac{S}{K} \\right)}}{\\sigma \\sqrt{\\tau}} }}}{S \\sigma \\sqrt{\\tau}} + N{\\left(\\frac{\\tau \\left(r + \\frac{\\sigma^{2}}{2}\\right) + \\log{\\left(\\frac{S}{K} \\right)}}{\\sigma \\sqrt{\\tau}} \\right)} + \\frac{\\left. \\frac{d}{d \\xi_{1}} N{\\left(\\xi_{1} \\right)} \\right|_{\\substack{ \\xi_{1}=\\frac{\\tau \\left(r + \\frac{\\sigma^{2}}{2}\\right) + \\log{\\left(\\frac{S}{K} \\right)}}{\\sigma \\sqrt{\\tau}} }}}{\\sigma \\sqrt{\\tau}}$"
      ],
      "text/plain": [
       "-K*exp(-r*tau)*Subs(Derivative(N(_xi_1), _xi_1), _xi_1, -sigma*sqrt(tau) + (tau*(r + sigma**2/2) + log(S/K))/(sigma*sqrt(tau)))/(S*sigma*sqrt(tau)) + N((tau*(r + sigma**2/2) + log(S/K))/(sigma*sqrt(tau))) + Subs(Derivative(N(_xi_1), _xi_1), _xi_1, (tau*(r + sigma**2/2) + log(S/K))/(sigma*sqrt(tau)))/(sigma*sqrt(tau))"
      ]
     },
     "execution_count": 2,
     "metadata": {
     },
     "output_type": "execute_result"
    }
   ],
   "source": [
    "Delta = diff(V,S)\n",
    "Delta"
   ]
  },
  {
   "cell_type": "markdown",
   "metadata": {
    "collapsed": false
   },
   "source": [
    "We know the partial derivative of $N$ satisfies\n",
    "$$\n",
    "\\frac{d N(x)}{dx}=\\frac{1}{\\sqrt{2 \\pi}}\\exp{-x^2/2}\n",
    "$$\n",
    "so we can simplify these derivative terms. What we want to do is take our expression for $\\Delta$ and replace all partial derivatives of the form\n",
    "$$\n",
    "\\frac{d N(*_x)}{d *_x}\n",
    "$$\n",
    "with\n",
    "$$\n",
    "\\frac{1}{\\sqrt{2 \\pi}}e^{-\\frac{*_x^2}{2}}.\n",
    "$$\n",
    "In these last two expressions $*_x$ could be any variable at all, but it must be the same expression each time it occurs. The label $x$ on\n",
    "the pattern indicates that all the $*_x$ expressions must be identical.\n",
    "\n",
    "You can make changes to a `sympy` expression using the `replace` function. It uses pattern matching to find expressions of a particular form and then makes an appropriate replacement. In the code below, `Wild('x')` plays exactly the same role as the $*_x$ did in our discussion above. The word `Wild` is short for Wildcard which is a standard term in pattern matching for a term that is considered to match anything. This comes from traditional card games where the Joker is a \"wildcard\" which you can use to represent any other card you like."
   ]
  },
  {
   "cell_type": "code",
   "execution_count": 3,
   "metadata": {
    "collapsed": false
   },
   "outputs": [
    {
     "data": {
      "text/latex": [
       "$\\displaystyle - \\frac{K e^{- r \\tau} \\left. \\frac{\\sqrt{2} e^{- \\frac{\\xi_{1}^{2}}{2}}}{2 \\sqrt{\\pi}} \\right|_{\\substack{ \\xi_{1}=- \\sigma \\sqrt{\\tau} + \\frac{\\tau \\left(r + \\frac{\\sigma^{2}}{2}\\right) + \\log{\\left(\\frac{S}{K} \\right)}}{\\sigma \\sqrt{\\tau}} }}}{S \\sigma \\sqrt{\\tau}} + N{\\left(\\frac{\\tau \\left(r + \\frac{\\sigma^{2}}{2}\\right) + \\log{\\left(\\frac{S}{K} \\right)}}{\\sigma \\sqrt{\\tau}} \\right)} + \\frac{\\left. \\frac{\\sqrt{2} e^{- \\frac{\\xi_{1}^{2}}{2}}}{2 \\sqrt{\\pi}} \\right|_{\\substack{ \\xi_{1}=\\frac{\\tau \\left(r + \\frac{\\sigma^{2}}{2}\\right) + \\log{\\left(\\frac{S}{K} \\right)}}{\\sigma \\sqrt{\\tau}} }}}{\\sigma \\sqrt{\\tau}}$"
      ],
      "text/plain": [
       "-K*exp(-r*tau)*Subs(sqrt(2)*exp(-_xi_1**2/2)/(2*sqrt(pi)), _xi_1, -sigma*sqrt(tau) + (tau*(r + sigma**2/2) + log(S/K))/(sigma*sqrt(tau)))/(S*sigma*sqrt(tau)) + N((tau*(r + sigma**2/2) + log(S/K))/(sigma*sqrt(tau))) + Subs(sqrt(2)*exp(-_xi_1**2/2)/(2*sqrt(pi)), _xi_1, (tau*(r + sigma**2/2) + log(S/K))/(sigma*sqrt(tau)))/(sigma*sqrt(tau))"
      ]
     },
     "execution_count": 3,
     "metadata": {
     },
     "output_type": "execute_result"
    }
   ],
   "source": [
    "Delta = Delta.replace(Derivative(N(Wild('x')),Wild('x')), exp(-Wild('x')**2/2)/(sqrt(2*pi)))\n",
    "Delta"
   ]
  },
  {
   "cell_type": "markdown",
   "metadata": {
    "collapsed": false
   },
   "source": [
    "We can now use the standard `sympy` function `simplify` which attempts to simplify our expression. It manaages some basic simplification, eliminating the pointless $\\xi$ terms, but doesn't achieve much more than that."
   ]
  },
  {
   "cell_type": "code",
   "execution_count": 4,
   "metadata": {
    "collapsed": false
   },
   "outputs": [
    {
     "data": {
      "text/latex": [
       "$\\displaystyle \\frac{\\left(- \\frac{\\sqrt{2} K \\sqrt{\\tau} e^{- \\frac{\\left(- 2 \\sigma^{2} \\tau + \\tau \\left(2 r + \\sigma^{2}\\right) + \\log{\\left(\\frac{S^{2}}{K^{2}} \\right)}\\right)^{2}}{8 \\sigma^{2} \\tau}}}{2 \\sqrt{\\pi}} + S \\sigma \\tau N{\\left(\\frac{\\tau \\left(2 r + \\sigma^{2}\\right) + \\log{\\left(\\frac{S^{2}}{K^{2}} \\right)}}{2 \\sigma \\sqrt{\\tau}} \\right)} e^{r \\tau} + \\frac{\\sqrt{2} S \\sqrt{\\tau} e^{r \\tau} e^{- \\frac{\\left(\\tau \\left(2 r + \\sigma^{2}\\right) + \\log{\\left(\\frac{S^{2}}{K^{2}} \\right)}\\right)^{2}}{8 \\sigma^{2} \\tau}}}{2 \\sqrt{\\pi}}\\right) e^{- r \\tau}}{S \\sigma \\tau}$"
      ],
      "text/plain": [
       "(-sqrt(2)*K*sqrt(tau)*exp(-(-2*sigma**2*tau + tau*(2*r + sigma**2) + log(S**2/K**2))**2/(8*sigma**2*tau))/(2*sqrt(pi)) + S*sigma*tau*N((tau*(2*r + sigma**2) + log(S**2/K**2))/(2*sigma*sqrt(tau)))*exp(r*tau) + sqrt(2)*S*sqrt(tau)*exp(r*tau)*exp(-(tau*(2*r + sigma**2) + log(S**2/K**2))**2/(8*sigma**2*tau))/(2*sqrt(pi)))*exp(-r*tau)/(S*sigma*tau)"
      ]
     },
     "execution_count": 4,
     "metadata": {
     },
     "output_type": "execute_result"
    }
   ],
   "source": [
    "Delta = Delta.simplify()\n",
    "Delta"
   ]
  },
  {
   "cell_type": "markdown",
   "metadata": {
    "collapsed": false
   },
   "source": [
    " We should be able to simplify expressions including the exponential of a logarithms a bit more than the `simplify` function has managed automatically. When `sympy` doesn't simplify things as much as you would like, you can tell it exactly what simplifications you want to see performed. Here, I'd like it to expand all the exponentials out in full and see what cancellations occur."
   ]
  },
  {
   "cell_type": "code",
   "execution_count": 5,
   "metadata": {
    "collapsed": false
   },
   "outputs": [
    {
     "data": {
      "text/latex": [
       "$\\displaystyle N{\\left(\\frac{r \\sqrt{\\tau}}{\\sigma} + \\frac{\\sigma \\sqrt{\\tau}}{2} - \\frac{\\log{\\left(K \\right)}}{\\sigma \\sqrt{\\tau}} + \\frac{\\log{\\left(S \\right)}}{\\sigma \\sqrt{\\tau}} \\right)}$"
      ],
      "text/plain": [
       "N(r*sqrt(tau)/sigma + sigma*sqrt(tau)/2 - log(K)/(sigma*sqrt(tau)) + log(S)/(sigma*sqrt(tau)))"
      ]
     },
     "execution_count": 5,
     "metadata": {
     },
     "output_type": "execute_result"
    }
   ],
   "source": [
    "Delta = Delta.expand()\n",
    "Delta"
   ]
  },
  {
   "cell_type": "markdown",
   "metadata": {
    "collapsed": false
   },
   "source": [
    "This is a big simplification. In fact this can be written very crisply as\n",
    "$$\\Delta = N(d_1).$$\n",
    "We check this on the next line to make sure by simlifying $\\Delta - N(d_1)$. We expect zero."
   ]
  },
  {
   "cell_type": "code",
   "execution_count": 6,
   "metadata": {
    "collapsed": false
   },
   "outputs": [
    {
     "data": {
      "text/latex": [
       "$\\displaystyle 0$"
      ],
      "text/plain": [
       "0"
      ]
     },
     "execution_count": 6,
     "metadata": {
     },
     "output_type": "execute_result"
    }
   ],
   "source": [
    "(N(d1)-Delta).simplify()"
   ]
  },
  {
   "cell_type": "markdown",
   "metadata": {
    "collapsed": false
   },
   "source": [
    "## Exercise\n",
    "\n",
    "Use `sympy` to show that $V$ satisfies the Black-Scholes PDE\n",
    "$$\n",
    "\\frac{\\partial V}{\\partial t} + \\frac{1}{2} S^2 \\frac{\\partial^2 V}{\\partial S^2 } + r S \\frac{\\partial V}{\\partial S } - r V = 0.\n",
    "$$\n",
    "This may be written equivalently as \n",
    "$$\n",
    "\\theta + \\frac{1}{2} S^2 \\Gamma + r S \\Delta - r V = 0.\n",
    "$$"
   ]
  },
  {
   "cell_type": "code",
   "execution_count": 13,
   "metadata": {
    "collapsed": false
   },
   "outputs": [
    {
     "data": {
      "text/latex": [
       "$\\displaystyle 0$"
      ],
      "text/plain": [
       "0"
      ]
     },
     "execution_count": 13,
     "metadata": {
     },
     "output_type": "execute_result"
    }
   ],
   "source": [
    "Gamma = diff( Delta, S )\n",
    "Gamma = Gamma.replace(Derivative(N(Wild('x')),Wild('x')), exp(-Wild('x')**2/2)/(sqrt(2*pi)))\n",
    "Gamma = Gamma.simplify()\n",
    "theta = -diff(V, tau)\n",
    "theta = theta.replace(Derivative(N(Wild('x')),Wild('x')), exp(-Wild('x')**2/2)/(sqrt(2*pi)))\n",
    "theta = theta.simplify()\n",
    "lhs = theta + sigma**2*S**2*Gamma/2 + r*S*Delta - r*V\n",
    "lhs = lhs.simplify()\n",
    "lhs.expand().simplify()\n"
   ]
  },
  {
   "cell_type": "markdown",
   "metadata": {
    "collapsed": false
   },
   "source": [
    "## Exercise\n",
    "\n",
    "**This exercise is for students who have studied FM02 (or another, similar course, on continuous time mathematical finance) and wish to relate our results to their other studies. If you have never studied arbitrage, then you can skip this question. **\n",
    "\n",
    "We have derived the important results of Black and Scholes theory without discussing arbitrage at all. We have focussed on *replication* rather than arbitrage. Many students (and indeed financial mathematicians) fixate upon the concept of arbitrage. I have often heard students claim that Black and Scholes theory follows \"by arbitrage\".\n",
    "\n",
    "In fact, the only use of the concept of arbitrage in their theory is to prove that the Black-Scholes price is the *unique* replication price of a call option. Prove that any trading strategy that replicates a call option in the Black-Scholes model requires an wealth equal to the Black-Scholes price. You should assume that there is no arbitrage in a market consisting of a stock following geometric Brownian motion and a risk-free bank account."
   ]
  },
  {
   "cell_type": "markdown",
   "metadata": {
    "collapsed": false,
    "nbgrader": {
     "grade": false,
     "grade_id": "34577c",
     "locked": false,
     "remove": true,
     "schema_version": 3,
     "solution": false,
     "task": false
    }
   },
   "source": [
    "### Solution\n",
    "\n",
    "Suppose that there is another replication strategy which starts with a portfolio value of $W$ with $V \\neq W$. This means that given an initial welath $W-V$ one can follow a combination of the alternative replication strategy with initial wealth $W$ and the Black-Scholes strategy with initial wealth $-V$ to hedge the position of $-1$ call options to obtain a guaranteed final payout of $0$. Hence one can start with an initial wealth of $0$ to obtain a guaranteed payoff of $e^{rT}(V-W)$ by putting $(V-W)$ into the risk-free bank account and following the two replication strategies with the starting wealth $W-V$. If $V-W>0$ this would be an arbitrage strategy. If $V-W<0$, following essentially the same strategy but with opposite signs will yield an arbitrage. So the existence of two replication strategies with different prices contradicts the assumption that there is no arbitarge."
   ]
  },
  {
   "cell_type": "markdown",
   "metadata": {
    "collapsed": false
   },
   "source": [
    "## Exercise\n",
    "\n",
    "**This exercise is for students who have seen a proof of Black and Scholes original result and wish to compare it with our approach.**\n",
    "\n",
    "The original result of Black and Scholes shows that Delta hedging is exact in continous time.\n",
    "The proof is very similar to the one we have given except that you should replace all the $\\delta$ terms\n",
    "with a $d$ and you then do not need the $\\ldots$ terms in the equation.\n",
    "\n",
    "The other important difference between our approach and the classical approach is the derivation of the SDE\n",
    "$$\n",
    "d \\Pi_t = \\Pi_t r \\, d t + q_t (S_t (\\mu-r) \\delta t + S_t \\sigma \\, d W_t).\n",
    "$$   \n",
    "This is analogous to our difference equation\n",
    "$$\n",
    "\\delta \\Pi_t = \\Pi_t r \\delta t + q_t (S_t (\\mu-r) \\delta t + S_t \\sigma \\delta W_t) + \\ldots\n",
    "$$\n",
    "which we have derived by looking at the cashflows at each time point on our grid. In the proof you have seen of Black and Scholes result,\n",
    "how can is the SDE for the portfolio wealth justified?"
   ]
  },
  {
   "cell_type": "markdown",
   "metadata": {
    "collapsed": false,
    "nbgrader": {
     "grade": false,
     "grade_id": "1b509e",
     "locked": false,
     "remove": true,
     "schema_version": 3,
     "solution": false,
     "task": false
    }
   },
   "source": [
    "### Solution\n",
    "\n",
    "It is justified *by definition*! Real trading involves finite amounts of money being traded at discrete times. You can calculate the impact of trading on your portfolio by straightforward accounting. Continuous-time trading involves infinitesimal amounts of money being traded in continuous time, and so one needs to *assume* the appropriate accounting rules for these infinitesimal quantities. This is done by defining what is meant by a \"self-financing trading strategy\". This is tantamount to assuming that the total wealth satisfies the given SDE."
   ]
  }
 ],
 "metadata": {
  "kernelspec": {
   "display_name": "Python 3 (system-wide)",
   "language": "python",
   "metadata": {
    "cocalc": {
     "description": "Python 3 programming language",
     "priority": 100,
     "url": "https://www.python.org/"
    }
   },
   "name": "python3",
   "resource_dir": "/ext/jupyter/kernels/python3"
  },
  "language_info": {
   "codemirror_mode": {
    "name": "ipython",
    "version": 3
   },
   "file_extension": ".py",
   "mimetype": "text/x-python",
   "name": "python",
   "nbconvert_exporter": "python",
   "pygments_lexer": "ipython3",
   "version": "3.8.5"
  }
 },
 "nbformat": 4,
 "nbformat_minor": 4
}