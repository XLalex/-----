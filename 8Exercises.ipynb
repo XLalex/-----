{
 "cells": [
  {
   "cell_type": "code",
   "execution_count": 1,
   "metadata": {
    "collapsed": false
   },
   "outputs": [
    {
     "data": {
      "text/html": [
       "<style>\n",
       "                     h1 {\n",
       "                        font-style: italic;\n",
       "                        text-align: center;\n",
       "                     }\n",
       "                     h3 {\n",
       "                         color: LightSkyBlue;\n",
       "                     }\n",
       "                     </style>"
      ],
      "text/plain": [
       "<IPython.core.display.HTML object>"
      ]
     },
     "execution_count": 1,
     "metadata": {
     },
     "output_type": "execute_result"
    }
   ],
   "source": [
    "import numpy as np\n",
    "import fmlib\n",
    "import scipy.stats\n",
    "from grading_tools import auto_marking_message\n",
    "\n",
    "fmlib.test_all()"
   ]
  },
  {
   "cell_type": "markdown",
   "metadata": {
    "collapsed": false
   },
   "source": [
    "# Exercises"
   ]
  },
  {
   "cell_type": "markdown",
   "metadata": {
    "collapsed": false
   },
   "source": [
    "## Exercise\n",
    "\n",
    "Price a digital call option by the method of writing an appropriate payoff function and using\n",
    "the general function `price_by_monte_carlo` which you can find in fmlib. You should also write tests for all your functions."
   ]
  },
  {
   "cell_type": "code",
   "execution_count": 2,
   "metadata": {
    "collapsed": false,
    "nbgrader": {
     "grade": false,
     "grade_id": "5fcf6f",
     "locked": false,
     "schema_version": 3,
     "solution": true,
     "task": false
    }
   },
   "outputs": [
   ],
   "source": [
    "def digital_call_payoff( S, K ):\n",
    "    \"\"\"S will be a matrix of stock price scenarios, rows representing scenarios, columns representing time\"\"\"\n",
    "    ### BEGIN SOLUTION\n",
    "    S_T = S[:,-1]\n",
    "    return np.where(S_T>K,1.0,0.0)\n",
    "    ### END SOLUTION"
   ]
  },
  {
   "cell_type": "code",
   "execution_count": 3,
   "metadata": {
    "collapsed": false,
    "nbgrader": {
     "grade": false,
     "grade_id": "c62daa",
     "locked": false,
     "schema_version": 3,
     "solution": true,
     "task": false
    }
   },
   "outputs": [
   ],
   "source": [
    "def test_digital_call_payoff():\n",
    "    ### BEGIN SOLUTION\n",
    "    S = np.array([[1,1,1],[2,3,4]])\n",
    "    actual = digital_call_payoff(S, 2)\n",
    "    expected = np.array([0.0,1.0])\n",
    "    np.testing.assert_almost_equal(actual, expected )\n",
    "    ### END SOLUTION"
   ]
  },
  {
   "cell_type": "code",
   "execution_count": 4,
   "metadata": {
    "collapsed": false,
    "nbgrader": {
     "grade": false,
     "grade_id": "e21f04",
     "locked": false,
     "schema_version": 3,
     "solution": true,
     "task": false
    }
   },
   "outputs": [
   ],
   "source": [
    "def price_digital_call_by_monte_carlo( S0, r, sigma, K, T, n_steps, n_paths ):\n",
    "    \"\"\"This function should return lower and upper to give a 99% confidence interval for the price\"\"\"\n",
    "    ### BEGIN SOLUTION\n",
    "    def payoff( S ):\n",
    "        return digital_call_payoff( S, K )\n",
    "    return fmlib.price_by_monte_carlo(S0, r, sigma, T, n_steps, n_paths, payoff )\n",
    "    ### END SOLUTION"
   ]
  },
  {
   "cell_type": "code",
   "execution_count": 5,
   "metadata": {
    "collapsed": false,
    "nbgrader": {
     "grade": false,
     "grade_id": "9ee54f",
     "locked": false,
     "schema_version": 3,
     "solution": true,
     "task": false
    }
   },
   "outputs": [
   ],
   "source": [
    "def test_price_digital_call_by_monte_carlo():\n",
    "    ### BEGIN SOLUTION\n",
    "    np.random.seed(0)\n",
    "    K = 105; T = 1;\n",
    "    S0 = 100; r = 0.05; sigma = 0.25\n",
    "    n_steps = 365; n_paths = 100000;\n",
    "    low,high = price_digital_call_by_monte_carlo(S0, r,sigma,K, T,1, n_paths)\n",
    "    d1,d2 = fmlib.compute_d1_and_d2(S0,0,K,T,r,sigma)\n",
    "    bs_price = np.exp(-r*T)*fmlib.N( d2 )\n",
    "    assert low<bs_price\n",
    "    assert bs_price<high\n",
    "    ### END SOLUTION"
   ]
  },
  {
   "cell_type": "code",
   "execution_count": 6,
   "metadata": {
    "collapsed": false,
    "nbgrader": {
     "grade": true,
     "grade_id": "715067",
     "locked": true,
     "points": 1,
     "schema_version": 3,
     "solution": false,
     "task": false
    }
   },
   "outputs": [
    {
     "name": "stdout",
     "output_type": "stream",
     "text": [
      "Auto marking message: 🌟 Correct\n"
     ]
    }
   ],
   "source": [
    "test_digital_call_payoff()\n",
    "auto_marking_message()"
   ]
  },
  {
   "cell_type": "code",
   "execution_count": 7,
   "metadata": {
    "collapsed": false,
    "nbgrader": {
     "grade": true,
     "grade_id": "3e1446",
     "locked": true,
     "points": 1,
     "schema_version": 3,
     "solution": false,
     "task": false
    }
   },
   "outputs": [
    {
     "name": "stdout",
     "output_type": "stream",
     "text": [
      "Auto marking message: 😻 Correct\n"
     ]
    }
   ],
   "source": [
    "test_price_digital_call_by_monte_carlo()\n",
    "auto_marking_message()"
   ]
  },
  {
   "cell_type": "code",
   "execution_count": 8,
   "metadata": {
    "collapsed": false,
    "nbgrader": {
     "grade": true,
     "grade_id": "2ba766",
     "locked": true,
     "points": 1,
     "schema_version": 3,
     "solution": false,
     "task": false
    }
   },
   "outputs": [
   ],
   "source": [
    "### BEGIN HIDDEN TESTS\n",
    "test_price_digital_call_by_monte_carlo()\n",
    "error = False\n",
    "oldF = price_digital_call_by_monte_carlo\n",
    "try:\n",
    "    def price_digital_call_by_monte_carlo( S0, r, sigma, K, T, n_steps, n_paths):\n",
    "        return 2,3\n",
    "    test_price_digital_call_by_monte_carlo()\n",
    "except:\n",
    "    error = True\n",
    "finally:\n",
    "    price_digital_call_by_monte_carlo = oldF\n",
    "if not error:\n",
    "    raise Exception(\"Test of pricing digital call isn't working\")\n",
    "### END HIDDEN TESTS"
   ]
  },
  {
   "cell_type": "code",
   "execution_count": 9,
   "metadata": {
    "collapsed": false,
    "nbgrader": {
     "grade": true,
     "grade_id": "3a9e20",
     "locked": true,
     "points": 1,
     "schema_version": 3,
     "solution": false,
     "task": false
    }
   },
   "outputs": [
   ],
   "source": [
    "### BEGIN HIDDEN TESTS\n",
    "test_digital_call_payoff()\n",
    "error = False\n",
    "oldF = digital_call_payoff\n",
    "try:\n",
    "    def digital_call_payoff( S, K ):\n",
    "        return  S[:,-1]*0\n",
    "    test_digital_call_payoff()\n",
    "except:\n",
    "    error = True\n",
    "finally:\n",
    "    digital_call_payoff = oldF\n",
    "if not error:\n",
    "    raise Exception(\"Test of digital call payoff isn't working\")\n",
    "### END HIDDEN TESTS"
   ]
  },
  {
   "cell_type": "code",
   "execution_count": 10,
   "metadata": {
    "collapsed": false,
    "nbgrader": {
     "grade": true,
     "grade_id": "877708",
     "locked": true,
     "points": 1,
     "schema_version": 3,
     "solution": false,
     "task": false
    }
   },
   "outputs": [
   ],
   "source": [
    "### BEGIN HIDDEN TESTS\n",
    "def my_test_digital_call_payoff():\n",
    "    S = np.array([[1,1,1],[2,3,4]])\n",
    "    actual = digital_call_payoff(S, 2)\n",
    "    expected = np.array([0.0,1.0])\n",
    "    np.testing.assert_almost_equal(actual, expected )\n",
    "my_test_digital_call_payoff()\n",
    "### END HIDDEN TESTS"
   ]
  },
  {
   "cell_type": "code",
   "execution_count": 11,
   "metadata": {
    "collapsed": false,
    "nbgrader": {
     "grade": true,
     "grade_id": "71f838",
     "locked": true,
     "points": 1,
     "schema_version": 3,
     "solution": false,
     "task": false
    }
   },
   "outputs": [
   ],
   "source": [
    "### BEGIN HIDDEN TESTS\n",
    "def my_test_price_digital_call_by_monte_carlo():\n",
    "    np.random.seed(0)\n",
    "    K = 105; T = 1;\n",
    "    S0 = 100; r = 0.05; sigma = 0.25\n",
    "    n_steps = 365; n_paths = 100000;\n",
    "    low,high = price_digital_call_by_monte_carlo(S0, r,sigma,K, T,1, n_paths)\n",
    "    d1,d2 = fmlib.compute_d1_and_d2(S0,0,K,T,r,sigma)\n",
    "    bs_price = np.exp(-r*T)*fmlib.N( d2 )\n",
    "    assert low<bs_price\n",
    "    assert bs_price<high\n",
    "    \n",
    "my_test_price_digital_call_by_monte_carlo()\n",
    "### END HIDDEN TESTS"
   ]
  },
  {
   "cell_type": "markdown",
   "metadata": {
    "collapsed": false
   },
   "source": [
    "## Exercise\n",
    "\n",
    "Compute an estimate for the price of an up and out knockout option with strike $K=95$, barrier $B=130$ and maturity $T=1$\n",
    "in the Black-Scholes model with parameters $S_0=100$, $r=0.05$, $\\sigma=0.25$ using the Monte Carlo method with\n",
    "365 steps and 100000 simulations. Store your estimate in a variable called `price`.\n",
    "\n",
    "Test your code througoughly."
   ]
  },
  {
   "cell_type": "code",
   "execution_count": 12,
   "metadata": {
    "collapsed": false,
    "nbgrader": {
     "grade": false,
     "grade_id": "1f0cc0",
     "locked": false,
     "schema_version": 3,
     "solution": true,
     "task": false
    }
   },
   "outputs": [
   ],
   "source": [
    "S0 = 100\n",
    "r = 0.05\n",
    "sigma=0.25\n",
    "B = 130\n",
    "K = 95\n",
    "T = 1\n",
    "n_steps = 365\n",
    "n_paths = 100000\n",
    "\n",
    "### BEGIN SOLUTION\n",
    "def knockout_payoff( S, K, B ):\n",
    "    not_knocked_out = np.max(S, axis=1)<B\n",
    "    S_T = S[:,-1]\n",
    "    call_payoff = np.maximum( S_T-K, 0 )\n",
    "    payoff = not_knocked_out*call_payoff\n",
    "    return payoff\n",
    "\n",
    "def test_knockout_payoff():\n",
    "    # Test the payoff function in isolation\n",
    "    S = np.array([[100,105,110],\n",
    "                  [100,120,110],\n",
    "                  [100,105,100]])\n",
    "    K = 105\n",
    "    B = 115\n",
    "    actual = knockout_payoff(S, K, B)\n",
    "    expected = np.array([5,0,0])\n",
    "    np.testing.assert_almost_equal(actual,expected)\n",
    "    \n",
    "test_knockout_payoff()\n",
    "\n",
    "def price_knockout_by_monte_carlo( S0, r, sigma, K, T, B, n_steps, n_paths ):\n",
    "    \"\"\"This function should return lower and upper to give a 99% confidence interval for the price\"\"\"\n",
    "    def payoff( S ):\n",
    "        return knockout_payoff( S, K, B )\n",
    "    return fmlib.price_by_monte_carlo(S0, r, sigma, T, n_steps, n_paths, payoff )\n",
    "\n",
    "def test_price_knockout_by_monte_carlo():\n",
    "    # Choose a high barrier, then the knock out becomes a call option so\n",
    "    # we can test we get the correct price in this case\n",
    "    np.random.seed(0)\n",
    "    S0 = 100\n",
    "    r = 0.05\n",
    "    sigma=0.25\n",
    "    B = 100000\n",
    "    K = 105\n",
    "    T = 1\n",
    "    n_steps = 365\n",
    "    n_paths = 10000\n",
    "    lower, upper = price_knockout_by_monte_carlo(S0,r,sigma,K,T,B,n_steps,n_paths)\n",
    "    price = fmlib.black_scholes_call_price(S0,0,K,T,r,sigma)\n",
    "    assert lower<price\n",
    "    assert upper>price\n",
    "    \n",
    "    # If the barrier=K, the option is worthless\n",
    "    lower, upper = price_knockout_by_monte_carlo(S0,r,sigma,K,T,K,n_steps,n_paths)\n",
    "    assert upper<0.00000001\n",
    "\n",
    "test_price_knockout_by_monte_carlo()\n",
    "lower, upper = price_knockout_by_monte_carlo(S0,r,sigma,K,T,B,n_steps,n_paths)\n",
    "price = 0.5*(lower+upper)\n",
    "### END SOLUTION"
   ]
  },
  {
   "cell_type": "code",
   "execution_count": 13,
   "metadata": {
    "collapsed": false,
    "nbgrader": {
     "grade": true,
     "grade_id": "ba32b6",
     "locked": true,
     "points": 1,
     "schema_version": 3,
     "solution": false,
     "task": false
    }
   },
   "outputs": [
    {
     "name": "stdout",
     "output_type": "stream",
     "text": [
      "Auto marking message: 😊 Correct\n"
     ]
    }
   ],
   "source": [
    "assert price>0\n",
    "# BEGIN HIDDEN TESTS\n",
    "assert price > 3.6\n",
    "assert price < 3.9\n",
    "# END HIDDEN TESTS\n",
    "auto_marking_message()"
   ]
  },
  {
   "cell_type": "markdown",
   "metadata": {
    "collapsed": false
   },
   "source": [
    "## Exercise\n",
    "\n",
    "It is important to be able to calculate the Greeks too. A trader will need to know the delta of a derivative in order to carry out the replication strategy.\n",
    "\n",
    "Suppose that $X$ and $Y$ are two random variables and you wish to estimate $E(X-Y)$. The *wrong* way to do this is to first estimate $E(X)$ by a simulation of $X$, then estimate $E(Y)$ using a simulation of $Y$, then compute the difference. The reason is that each estimate is just an estimate and so will contain some random error. If $|E(X)-E(Y)|$ is less than this random error, then this will dominate the calculation. Even if the difference is large, you will be unnecessarily increasing the amount of random error. The correct approach is to simulate $X-Y$ directly.\n",
    "\n",
    "An equivalent approach to simulating $X-Y$ directly is to simulate $X$ and $Y$ separately but using the same scenarios in each simulation. One can then compute $E(X-Y)$ by taking the difference of the averages of $X$ and $Y$.\n",
    "\n",
    "To compute the Delta of an option by Monte Carlo you should choose a reasonably small value of $h$ (say $h=S_0 \\times 10^{-5}$) and compute the price of the option when the first simulated stock price satisfies $\\tilde{S}_0=S_0-h$ and also when $\\tilde{S}_0=S_0+h$ but\n",
    "using the same scenarios for $W^{\\mathbb Q}_t$ in both simulations. You can then estimate the Delta using the central difference estimate for the derivative.\n",
    "\n",
    "Use this approach to compute the delta of a call option by Monte Carlo and test that your answer is correct."
   ]
  },
  {
   "cell_type": "code",
   "execution_count": 14,
   "metadata": {
    "collapsed": false,
    "nbgrader": {
     "grade": false,
     "grade_id": "096c2a",
     "locked": false,
     "remove": true,
     "schema_version": 3,
     "solution": false,
     "task": false
    }
   },
   "outputs": [
   ],
   "source": [
    "def delta_by_monte_carlo( S0, r, sigma, T, n_steps, n_paths, payoff_function ):\n",
    "    h = S0*10**(-5)\n",
    "    S_twiddle, times = fmlib.simulate_gbm_paths(S0, r, sigma, T, n_steps, n_paths )\n",
    "    paths_for_S_minus_h = S_twiddle/S0*(S0-h)\n",
    "    paths_for_S_plus_h = S_twiddle/S0*(S0+h)\n",
    "    payoffs_S_plus_h = np.exp(-r*T)*payoff_function(paths_for_S_plus_h)\n",
    "    payoffs_S_minus_h = np.exp(-r*T)*payoff_function(paths_for_S_minus_h)\n",
    "    samples = (payoffs_S_plus_h-payoffs_S_minus_h)/(2*h)\n",
    "    p = 99\n",
    "    alpha = scipy.stats.norm.ppf((1-p/100)/2)\n",
    "    delta = np.mean( samples )\n",
    "    sigma_sample = np.std( samples )\n",
    "    lower = delta + alpha*sigma_sample/np.sqrt(n_paths)\n",
    "    upper = delta - alpha*sigma_sample/np.sqrt(n_paths)\n",
    "    return lower, upper\n",
    "\n",
    "def delta_call_confidence_interval_by_monte_carlo( S0, r, sigma, K, T, n_paths ):\n",
    "    def call_payoff( S ):\n",
    "        S_T = S[:,-1]\n",
    "        return np.maximum( S_T-K, 0 )\n",
    "    return delta_by_monte_carlo(S0, r, sigma, T, 1, n_paths, call_payoff )"
   ]
  },
  {
   "cell_type": "code",
   "execution_count": 15,
   "metadata": {
    "collapsed": false,
    "nbgrader": {
     "grade": false,
     "grade_id": "8dc97d",
     "locked": false,
     "schema_version": 3,
     "solution": true,
     "task": false
    }
   },
   "outputs": [
   ],
   "source": [
    "def delta_call_by_monte_carlo( S0, r, sigma, K, T, n_paths ):\n",
    "    ### BEGIN SOLUTION\n",
    "    low, high = delta_call_confidence_interval_by_monte_carlo(S0, r, sigma, K, T, n_paths )\n",
    "    return 0.5*(low+high)\n",
    "    ### END SOLUTION\n",
    "\n",
    "def test_delta_call_by_monte_carlo():\n",
    "    ### BEGIN SOLUTION\n",
    "    np.random.seed(0)\n",
    "    K = 105; T = 1;\n",
    "    S0 = 100; r = 0.05; sigma = 0.25\n",
    "    n_paths = 100000;\n",
    "    low,high = delta_call_confidence_interval_by_monte_carlo(S0, r,sigma,K, T, n_paths)\n",
    "    bs_delta = fmlib.black_scholes_delta(S0,0,K,T,r,sigma)\n",
    "    assert low<bs_delta\n",
    "    assert bs_delta<high\n",
    "    ### END SOLUTION\n"
   ]
  },
  {
   "cell_type": "code",
   "execution_count": 16,
   "metadata": {
    "collapsed": false,
    "nbgrader": {
     "grade": true,
     "grade_id": "65435c",
     "locked": true,
     "points": 1,
     "schema_version": 3,
     "solution": false,
     "task": false
    }
   },
   "outputs": [
    {
     "name": "stdout",
     "output_type": "stream",
     "text": [
      "Auto marking message: 😍 Correct\n"
     ]
    }
   ],
   "source": [
    "test_delta_call_by_monte_carlo()\n",
    "### BEGIN HIDDEN TESTS\n",
    "K = 105; T = 1;\n",
    "S0 = 100; r = 0.05; sigma = 0.25\n",
    "n_paths = 100000;\n",
    "d1 = delta_call_by_monte_carlo(S0,r,sigma,K,T,n_paths)\n",
    "d2 = delta_call_by_monte_carlo(S0,r,sigma,K,T,n_paths)\n",
    "assert d1>0.53\n",
    "assert d1<0.57\n",
    "assert abs(d1-d2)>0.0000001 # Deterministic answers aren't OK\n",
    "### END HIDDEN TESTS\n",
    "auto_marking_message()"
   ]
  },
  {
   "cell_type": "code",
   "execution_count": 0,
   "metadata": {
    "collapsed": false
   },
   "outputs": [
   ],
   "source": [
   ]
  }
 ],
 "metadata": {
  "kernelspec": {
   "display_name": "Python 3 (system-wide)",
   "language": "python",
   "metadata": {
    "cocalc": {
     "description": "Python 3 programming language",
     "priority": 100,
     "url": "https://www.python.org/"
    }
   },
   "name": "python3",
   "resource_dir": "/ext/jupyter/kernels/python3"
  }
 },
 "nbformat": 4,
 "nbformat_minor": 4
}