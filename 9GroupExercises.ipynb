{
 "cells": [
  {
   "cell_type": "markdown",
   "metadata": {
    "collapsed": false
   },
   "source": [
    "# Group Exercises"
   ]
  },
  {
   "cell_type": "markdown",
   "metadata": {
    "collapsed": false
   },
   "source": [
    "## Exercise\n",
    "\n",
    "Let $X_t$ satisfy the SDE\n",
    "$$\n",
    "d X_t = \\mu(X_t,t) \\, dt + \\sigma( X_t, t) \\, dW_t\n",
    "$$\n",
    "with $X_0$ given, and let $f:\\R \\to \\R$ be a smooth function. Assume that $\\mu$ and $\\sigma$ are sufficiently well-behaved. Let $c$ be a constant.\n",
    "\n",
    "\n",
    "Then according to the *Feynamn-Kac* theorem, the expected value\n",
    "$$\n",
    "V(X,t):=E_t(e^{-c(T-t)} f(X_T))\n",
    "$$\n",
    "(this means the expected value given what we know at time $t$) satisfies the PDE\n",
    "$$\n",
    "\\frac{\\partial V}{\\partial t} + \\mu(x,t) \\frac{\\partial V}{\\partial x} + \\frac{1}{2}\\sigma^2(x,t) \\frac{\\partial^2 V}{\\partial x^2}\n",
    "- c V = 0\n",
    "$$\n",
    "with final condition $V(x,T)=f(x)$.\n",
    "\n",
    "Check this in the case that $\\mu$ and $\\sigma$ are constants and $f(x)=x^3 e^{-x^2}$.\n",
    "\n",
    "To do this solve the PDE and so compute $V(X_0,0)$. Compare it with the expected value computed by a simulation.\n",
    "\n",
    "The Feynman-Kac theorem shows that you can solve a PDE by computing expectations or vice versa."
   ]
  },
  {
   "cell_type": "code",
   "execution_count": 0,
   "metadata": {
    "collapsed": false
   },
   "outputs": [
   ],
   "source": [
   ]
  }
 ],
 "metadata": {
  "kernelspec": {
   "display_name": "Python 3 (system-wide)",
   "language": "python",
   "metadata": {
    "cocalc": {
     "description": "Python 3 programming language",
     "priority": 100,
     "url": "https://www.python.org/"
    }
   },
   "name": "python3",
   "resource_dir": "/ext/jupyter/kernels/python3"
  },
  "language_info": {
   "codemirror_mode": {
    "name": "ipython",
    "version": 3
   },
   "file_extension": ".py",
   "mimetype": "text/x-python",
   "name": "python",
   "nbconvert_exporter": "python",
   "pygments_lexer": "ipython3",
   "version": "3.8.5"
  }
 },
 "nbformat": 4,
 "nbformat_minor": 4
}