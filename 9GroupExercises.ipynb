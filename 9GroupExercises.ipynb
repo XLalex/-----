{
 "cells": [
  {
   "cell_type": "markdown",
   "metadata": {
    "collapsed": false
   },
   "source": [
    "# Group Exercises"
   ]
  },
  {
   "cell_type": "markdown",
   "metadata": {
    "collapsed": false
   },
   "source": [
    "## Exercise\n",
    "\n",
    "We have presented a discrete time model for stock prices, but how good is our model?\n",
    "\n",
    "Working as a group, produce a presentation entitled:\n",
    "\n",
    "*Is discrete time geometric Brownian motion a good model of stock prices?*\n",
    "\n",
    "You will need to investigate this question as a group. I provided some historic stock price data you\n",
    "can look at in an Excel file last week that you can use in your investigation.\n",
    "\n",
    "Here are some questions to consider:\n",
    "\n",
    "* Does the change in real log stock prices each day each day look like independent identically distributed normal random values? Generate plots to compare the two. Comment on any differences you see.\n",
    "* Are stock price returns over different periods really independent? Plot the correlation of the change\n",
    "in the log stock price from one day to the next.\n",
    "* What would be sensible values for $\\mu$ and $\\sigma$?\n",
    "* Does the standard deviation of the change in the log stock price scale according to the square root\n",
    "of the time interval being considered?\n",
    "* You cannot trade in the stock over the weekend. Do you think it would be a good idea to change our model to take\n",
    "this into account? If so, how would you change our model?\n",
    "* Which other features of stock prices have we not modelled? How important do you think these issues are?\n",
    "* A phrase often credited to the statistican George Box is \"All models are wrong, but some are useful.\"\n",
    "What did George Box mean?\n",
    "\n",
    "\n",
    "Can you think of any other tests you could perform to test the validity of our model? If you can, then carry out these tests. You are welcome to use any results from the literature on the question of how good this model is, but please make sure you only say things you understand. If you can, test anything you read in the literature yourselves.\n",
    "\n"
   ]
  },
  {
   "cell_type": "code",
   "execution_count": 0,
   "metadata": {
    "collapsed": false
   },
   "outputs": [
   ],
   "source": [
   ]
  }
 ],
 "metadata": {
  "kernelspec": {
   "display_name": "Python 3 (system-wide)",
   "language": "python",
   "metadata": {
    "cocalc": {
     "description": "Python 3 programming language",
     "priority": 100,
     "url": "https://www.python.org/"
    }
   },
   "name": "python3",
   "resource_dir": "/ext/jupyter/kernels/python3"
  },
  "language_info": {
   "codemirror_mode": {
    "name": "ipython",
    "version": 3
   },
   "file_extension": ".py",
   "mimetype": "text/x-python",
   "name": "python",
   "nbconvert_exporter": "python",
   "pygments_lexer": "ipython3",
   "version": "3.8.5"
  }
 },
 "nbformat": 4,
 "nbformat_minor": 4
}