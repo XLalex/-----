{
 "cells": [
  {
   "cell_type": "code",
   "execution_count": 1,
   "metadata": {
    "collapsed": false
   },
   "outputs": [
    {
     "data": {
      "text/html": [
       "<style>\n",
       "                     h1 {\n",
       "                        font-style: italic;\n",
       "                        text-align: center;\n",
       "                     }\n",
       "                     h3 {\n",
       "                         color: LightSkyBlue;\n",
       "                     }\n",
       "                     </style>"
      ],
      "text/plain": [
       "<IPython.core.display.HTML object>"
      ]
     },
     "execution_count": 1,
     "metadata": {
     },
     "output_type": "execute_result"
    }
   ],
   "source": [
    "import numpy as np\n",
    "import jumpdiffusion as jd\n",
    "import fmlib\n",
    "import matplotlib.pyplot as plt\n",
    "from math import *\n",
    "from grading_tools import *"
   ]
  },
  {
   "cell_type": "markdown",
   "metadata": {
    "collapsed": false
   },
   "source": [
    "# Exercises\n",
    "\n",
    "These exercises try out the replication strategy in the jump diffusion model. I found that it was important to\n",
    "use vectors throughout to represent scenarios to make the code run quickly.\n",
    "\n",
    "Python code can be slow when it runs through loops. But if you work\n",
    "in terms of large vectors each vector calculation is quick as Python uses highly efficient routines for each vector calcualtion.\n",
    "So if you don't loop through scenarios and instead work with vectors your Python code should be quick."
   ]
  },
  {
   "cell_type": "markdown",
   "metadata": {
    "collapsed": false
   },
   "source": [
    "## Exercise\n",
    "\n",
    "Write a function to compute the delta of an option in the jump diffusion model, i.e.\n",
    "\n",
    "$$ \\frac{\\partial W}{\\partial S}(S_t, K)$$\n",
    "\n",
    "Your code should be able to work with a vector of stock prices as one of the parameters. See the `jump_diffusion_call_price`\n",
    "function in the library `jumpdiffusion` to see how this can be done if you find it difficult."
   ]
  },
  {
   "cell_type": "code",
   "execution_count": 2,
   "metadata": {
    "collapsed": false,
    "nbgrader": {
     "grade": false,
     "grade_id": "f21870",
     "locked": false,
     "schema_version": 3,
     "solution": true,
     "task": false
    }
   },
   "outputs": [
   ],
   "source": [
    "def jump_diffusion_delta( S, K, time_to_maturity, r, sigma, lbda, j):\n",
    "    ### BEGIN SOLUTION\n",
    "    S = np.array(S)\n",
    "    term = np.ones(S.shape)\n",
    "    total = np.zeros(S.shape)\n",
    "    n = 0\n",
    "    mu_tilde = r + lbda*(1-j)\n",
    "    while np.any(abs(term)>1e-7*abs(total)):\n",
    "        V = fmlib.black_scholes_delta(S,0, j**(-n)*K,time_to_maturity,mu_tilde, sigma)\n",
    "        term = ((j*lbda*time_to_maturity)**n)/factorial(n) * exp( -j*lbda*time_to_maturity) * V\n",
    "        total = total + term\n",
    "        n = n+1\n",
    "    return total\n",
    "    ### END SOLUTION"
   ]
  },
  {
   "cell_type": "code",
   "execution_count": 3,
   "metadata": {
    "collapsed": false,
    "nbgrader": {
     "grade": true,
     "grade_id": "45e3f7",
     "locked": true,
     "points": 1,
     "schema_version": 3,
     "solution": false,
     "task": false
    }
   },
   "outputs": [
    {
     "name": "stdout",
     "output_type": "stream",
     "text": [
      "Auto marking message: 😻 Correct\n"
     ]
    }
   ],
   "source": [
    "def test_jump_diffusion_delta():\n",
    "    S0 = np.array([100,110])\n",
    "    h = S0*10**(-5)\n",
    "    K = 110\n",
    "    T = 0.5\n",
    "    r = 0.02\n",
    "    sigma = 0.2\n",
    "    lbda = 1\n",
    "    j = 0.9\n",
    "    central_estimate = (jd.jump_diffusion_call_price(S0+h,K,T,r,sigma,lbda,j)-jd.jump_diffusion_call_price(S0-h,K,T,r,sigma,lbda,j))/(2*h)\n",
    "    actual = jump_diffusion_delta( S0, K, T, r, sigma, lbda, j)\n",
    "    np.testing.assert_almost_equal( central_estimate, actual, decimal=4 )\n",
    "\n",
    "test_jump_diffusion_delta()\n",
    "auto_marking_message()"
   ]
  },
  {
   "cell_type": "markdown",
   "metadata": {
    "collapsed": false
   },
   "source": [
    "## Exercise\n",
    "\n",
    "We will want to solve a large number of linear $2 \\times 2$ simultaneousequations, one for each scenario and time point.\n",
    "So that we can do this quickly write a function `solve_two_by_two` that takes vectors $(a)_i$, $(b)_i$, $(c)_i$, $(d)_i$,\n",
    "$(v_1)_i$, $(v_2)_i$ all of the same length and for each value of $i$ solves the simultaneous equations\n",
    "\n",
    "$$ a x + b y = v_1$$\n",
    "$$ c x + d y = v_2$$\n",
    "\n",
    "and returns the values $x$ and $y$."
   ]
  },
  {
   "cell_type": "code",
   "execution_count": 4,
   "metadata": {
    "collapsed": false,
    "nbgrader": {
     "grade": false,
     "grade_id": "da4c6c",
     "locked": false,
     "remove": false,
     "schema_version": 3,
     "solution": true,
     "task": false
    }
   },
   "outputs": [
   ],
   "source": [
    "def solve_two_by_two( a,b,c,d, v1, v2):\n",
    "    det = a*d-b*c\n",
    "    alpha = (d*v1 - b*v2)/det\n",
    "    beta = (-c*v1 + a*v2)/det\n",
    "    return alpha,beta"
   ]
  },
  {
   "cell_type": "code",
   "execution_count": 5,
   "metadata": {
    "collapsed": false,
    "nbgrader": {
     "grade": true,
     "grade_id": "bc8c7d",
     "locked": true,
     "points": 1,
     "schema_version": 3,
     "solution": false,
     "task": false
    }
   },
   "outputs": [
    {
     "name": "stdout",
     "output_type": "stream",
     "text": [
      "Auto marking message: 😻 Correct\n"
     ]
    }
   ],
   "source": [
    "def test_solve_two_by_two():\n",
    "    a = np.array([1,2])\n",
    "    b = np.array([2,-1])\n",
    "    c = np.array([3,1])\n",
    "    d = np.array([3,2])\n",
    "    v1 = np.array([4,5])\n",
    "    v2 = np.array([3,2])\n",
    "    x,y = solve_two_by_two(a,b,c,d,v1,v2)\n",
    "    np.testing.assert_almost_equal( a*x + b*y, v1 )\n",
    "    np.testing.assert_almost_equal( c*x + d*y, v2 )\n",
    "\n",
    "test_solve_two_by_two()\n",
    "auto_marking_message()"
   ]
  },
  {
   "cell_type": "markdown",
   "metadata": {
    "collapsed": false
   },
   "source": [
    "## Exercise\n",
    "\n",
    "Write a function that computes the values of alpha and beta given the time to maturity.\n",
    "It should be able to perform the calculation for an entire vector of stock prices at once without you writing any looping code.\n",
    "Your function should take advantage of your `solve_two_by_two` function to do this."
   ]
  },
  {
   "cell_type": "code",
   "execution_count": 6,
   "metadata": {
    "collapsed": false,
    "nbgrader": {
     "grade": false,
     "grade_id": "59ec9c",
     "locked": false,
     "schema_version": 3,
     "solution": true,
     "task": false
    }
   },
   "outputs": [
   ],
   "source": [
    "def compute_alpha_and_beta(S, r, sigma, lbda, j, K_prime, K, time_to_maturity ):\n",
    "    ### BEGIN SOLUTION\n",
    "    a = 1 \n",
    "    b = jump_diffusion_delta(S,K_prime, time_to_maturity, r,sigma, lbda, j)\n",
    "    v1 = jump_diffusion_delta(S,K, time_to_maturity, r,sigma, lbda, j)\n",
    "    c = S - j*S\n",
    "    d = jd.jump_diffusion_call_price( S, K_prime, time_to_maturity, r, sigma, lbda, j )- \\\n",
    "            jd.jump_diffusion_call_price( j*S, K_prime, time_to_maturity, r, sigma, lbda, j )\n",
    "    v2 = jd.jump_diffusion_call_price( S, K, time_to_maturity, r, sigma, lbda, j )- \\\n",
    "            jd.jump_diffusion_call_price( j*S, K, time_to_maturity, r, sigma, lbda, j )\n",
    "    alpha,beta = solve_two_by_two(a,b,c,d,v1,v2)\n",
    "    ### END SOLUTION\n",
    "    return alpha, beta"
   ]
  },
  {
   "cell_type": "code",
   "execution_count": 7,
   "metadata": {
    "collapsed": false,
    "nbgrader": {
     "grade": true,
     "grade_id": "25b885",
     "locked": true,
     "points": 1,
     "schema_version": 3,
     "solution": false,
     "task": false
    }
   },
   "outputs": [
    {
     "name": "stdout",
     "output_type": "stream",
     "text": [
      "Auto marking message: 😻 Correct\n"
     ]
    }
   ],
   "source": [
    "example_alpha, example_beta = compute_alpha_and_beta(100,0.05,0.2,0.1,0.5, 105, 110, 1)\n",
    "check('59ec9c.1',example_alpha,1e-6)\n",
    "check('59ec9c.2',example_beta,1e-6)\n",
    "auto_marking_message()"
   ]
  },
  {
   "cell_type": "markdown",
   "metadata": {
    "collapsed": false
   },
   "source": [
    "## Exercise\n",
    "\n",
    "Perform a simulation of the replication strategy for the jump diffusion model. You should perform n_paths simulations.\n",
    "For efficiency do not run through each scenario in turn, instead use vectors.\n",
    "\n",
    "You should return two vectors: one containing the final stock price in each scenario, one containing the\n",
    "final wealth of the replication strategy. If your code is correct, it should look similar to the plot given in the\n",
    "slides.\n",
    "\n",
    "For some scenarios there will be numerical difficulties caused by the determinant of the linear equations you are solving\n",
    "becoming close to zero. This means that for a few scenarios in your simulation, your results will contain an error value.\n",
    "In practice one could simply decide to abandon the hedging strategy when these numerical errors occurred and put all your\n",
    "wealth in the risk-free account. For the sake of simplicity, I was happy just to ignore the occasional numerical error in the results."
   ]
  },
  {
   "cell_type": "code",
   "execution_count": 8,
   "metadata": {
    "collapsed": false,
    "nbgrader": {
     "grade": false,
     "grade_id": "e5282f",
     "locked": false,
     "schema_version": 3,
     "solution": true,
     "task": false
    }
   },
   "outputs": [
   ],
   "source": [
    "def simulate_replication( S0, r, sigma, lbda, j, K_prime, K, T, lambda_prime, mu, n_steps, n_paths):\n",
    "    S, t = jd.simulate_jump_diffusion( S0, T, mu, sigma, lbda, j, n_steps, n_paths )\n",
    "    ### BEGIN_SOLUTION\n",
    "    dt = T/n_steps\n",
    "    wealth = jd.jump_diffusion_call_price( S[:,0], K, T, r, sigma, lbda, j)\n",
    "    for i in range(0, n_steps):\n",
    "        time_to_maturity = T - t[i]\n",
    "        stock_price = S[:,i]\n",
    "        hedging_option_price = jd.jump_diffusion_call_price(stock_price, K_prime, time_to_maturity, r, sigma, lbda, j )\n",
    "        alpha, beta = compute_alpha_and_beta(stock_price, r, sigma, lbda, j, K_prime, K, time_to_maturity )\n",
    "        bank = wealth - alpha*stock_price - beta*hedging_option_price\n",
    "        new_bank = exp(r*dt)*bank\n",
    "        new_stock_price = S[:,i+1]\n",
    "        new_option_price = jd.jump_diffusion_call_price(new_stock_price, K_prime, time_to_maturity-dt, r, sigma, lbda, j )\n",
    "        wealth = new_bank + alpha*new_stock_price + beta*new_option_price\n",
    "    ST = S[:,-1]\n",
    "    return ST, wealth\n",
    "    ### END_SOLUTION"
   ]
  },
  {
   "cell_type": "code",
   "execution_count": 9,
   "metadata": {
    "collapsed": false
   },
   "outputs": [
    {
     "name": "stderr",
     "output_type": "stream",
     "text": [
      "/tmp/ipykernel_3905/3602275696.py:3: RuntimeWarning: invalid value encountered in true_divide\n",
      "  alpha = (d*v1 - b*v2)/det\n",
      "/tmp/ipykernel_3905/3602275696.py:4: RuntimeWarning: invalid value encountered in true_divide\n",
      "  beta = (-c*v1 + a*v2)/det\n",
      "/tmp/ipykernel_3905/3602275696.py:3: RuntimeWarning: divide by zero encountered in true_divide\n",
      "  alpha = (d*v1 - b*v2)/det\n",
      "/tmp/ipykernel_3905/3602275696.py:4: RuntimeWarning: divide by zero encountered in true_divide\n",
      "  beta = (-c*v1 + a*v2)/det\n",
      "/tmp/ipykernel_3905/3461614372.py:11: RuntimeWarning: invalid value encountered in subtract\n",
      "  bank = wealth - alpha*stock_price - beta*hedging_option_price\n"
     ]
    }
   ],
   "source": [
    "S0 = 100\n",
    "r = 0.02\n",
    "sigma = 0.2\n",
    "lbda = 1.0\n",
    "j=0.9\n",
    "K_prime=100\n",
    "K=110\n",
    "T=0.5\n",
    "lambda_prime=1.1\n",
    "mu=0.08\n",
    "n_steps = 1000\n",
    "ST, wealth = simulate_replication(S0, r, sigma, lbda, j, K_prime, K, T, lambda_prime, mu, n_steps, 1000)"
   ]
  },
  {
   "cell_type": "code",
   "execution_count": 11,
   "metadata": {
    "collapsed": false
   },
   "outputs": [
    {
     "data": {
      "image/png": "[encoded data removed]",
      "text/plain": [
       "<Figure size 864x504 with 1 Axes>"
      ]
     },
     "execution_count": 11,
     "metadata": {
      "image/png": {
       "height": 460,
       "width": 726
      },
      "needs_background": "light"
     },
     "output_type": "execute_result"
    }
   ],
   "source": [
    "ax = plt.gca()\n",
    "ax.scatter( ST, wealth );\n",
    "ax.set_xlabel('Final stock price $S_T$')\n",
    "ax.set_ylabel('Final wealth')\n",
    "ax.set_title('Result of the jump diffusion replication strategy with $K=110$')\n",
    "plt.savefig('replication_results.png')"
   ]
  },
  {
   "cell_type": "code",
   "execution_count": 0,
   "metadata": {
    "collapsed": false
   },
   "outputs": [
   ],
   "source": [
   ]
  }
 ],
 "metadata": {
  "kernelspec": {
   "display_name": "Python 3 (system-wide)",
   "language": "python",
   "metadata": {
    "cocalc": {
     "description": "Python 3 programming language",
     "priority": 100,
     "url": "https://www.python.org/"
    }
   },
   "name": "python3",
   "resource_dir": "/ext/jupyter/kernels/python3"
  },
  "language_info": {
   "codemirror_mode": {
    "name": "ipython",
    "version": 3
   },
   "file_extension": ".py",
   "mimetype": "text/x-python",
   "name": "python",
   "nbconvert_exporter": "python",
   "pygments_lexer": "ipython3",
   "version": "3.8.10"
  }
 },
 "nbformat": 4,
 "nbformat_minor": 4
}