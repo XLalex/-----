{
 "cells": [
  {
   "cell_type": "code",
   "execution_count": 1,
   "metadata": {
    "collapsed": false
   },
   "outputs": [
    {
     "data": {
      "text/html": [
       "<style>\n",
       "                     h1 {\n",
       "                        font-style: italic;\n",
       "                        text-align: center;\n",
       "                     }\n",
       "                     h3 {\n",
       "                         color: LightSkyBlue;\n",
       "                     }\n",
       "                     </style>"
      ],
      "text/plain": [
       "<IPython.core.display.HTML object>"
      ]
     },
     "execution_count": 1,
     "metadata": {
     },
     "output_type": "execute_result"
    }
   ],
   "source": [
    "import numpy as np\n",
    "import matplotlib.pyplot as plt\n",
    "import scipy.stats\n",
    "from math import *\n",
    "import fmlib\n",
    "from grading_tools import *"
   ]
  },
  {
   "cell_type": "markdown",
   "metadata": {
    "collapsed": false
   },
   "source": [
    "# Exercises"
   ]
  },
  {
   "cell_type": "markdown",
   "metadata": {
    "collapsed": false
   },
   "source": [
    "## Exercise\n",
    "\n",
    "Write a function to price a call option in the jump diffusion model. You should include\n",
    "sufficient terms in the power series to ensure that your answer is accurate to roughly one part\n",
    "in a million."
   ]
  },
  {
   "cell_type": "code",
   "execution_count": 2,
   "metadata": {
    "collapsed": false,
    "nbgrader": {
     "grade": false,
     "grade_id": "792fcd",
     "locked": false,
     "schema_version": 3,
     "solution": true,
     "task": false
    }
   },
   "outputs": [
   ],
   "source": [
    "def jump_diffusion_call_price( S, K, T, r, sigma, lbda, j):\n",
    "    ### BEGIN SOLUTION\n",
    "    S = np.array(S)\n",
    "    term = np.ones(S.shape)\n",
    "    total = np.zeros(S.shape)\n",
    "    n = 0\n",
    "    mu_tilde = r + lbda*(1-j)\n",
    "    while np.any(abs(term)>1e-7*abs(total)):\n",
    "        V = fmlib.black_scholes_call_price(S,0,\n",
    "j**(-n)*K,T,mu_tilde, sigma)\n",
    "        term = ((j*lbda*T)**n)/factorial(n) * exp( -j*lbda*T) * V\n",
    "        total = total + term\n",
    "        n = n+1\n",
    "    return total\n",
    "    ### END SOLUTION"
   ]
  },
  {
   "cell_type": "code",
   "execution_count": 3,
   "metadata": {
    "collapsed": false,
    "nbgrader": {
     "grade": true,
     "grade_id": "e6e098",
     "locked": true,
     "points": 1,
     "schema_version": 3,
     "solution": false,
     "task": false
    }
   },
   "outputs": [
    {
     "name": "stdout",
     "output_type": "stream",
     "text": [
      "Auto marking message: 🏆 Correct\n"
     ]
    }
   ],
   "source": [
    "# Choose some model parameters for our tests\n",
    "r = 0.02\n",
    "S0 = 150\n",
    "sigma = 0.2\n",
    "T = 1\n",
    "lbda = 1\n",
    "j = 0.9\n",
    "\n",
    "# The stock is the same thing as a call with a strike of 0, so for very\n",
    "# low strikes the price should be nearly S0\n",
    "actual = jump_diffusion_call_price( S0, 0.000001, T, r, sigma, lbda, j )\n",
    "np.testing.assert_almost_equal(S0,actual,decimal=2)\n",
    "auto_marking_message()"
   ]
  },
  {
   "cell_type": "code",
   "execution_count": 4,
   "metadata": {
    "collapsed": false,
    "nbgrader": {
     "grade": true,
     "grade_id": "fa0d99",
     "locked": true,
     "points": 1,
     "schema_version": 3,
     "solution": false,
     "task": false
    }
   },
   "outputs": [
    {
     "name": "stdout",
     "output_type": "stream",
     "text": [
      "Auto marking message: ✔️ Correct\n"
     ]
    }
   ],
   "source": [
    "# If the jump size is 1, we should get back the Black-Scholes price\n",
    "actual = jump_diffusion_call_price( S0, S0, T, r, sigma, lbda, 1 )\n",
    "expected = fmlib.black_scholes_call_price( S0, 0, S0, T, r, sigma )\n",
    "np.testing.assert_almost_equal(actual,expected,decimal=2)\n",
    "auto_marking_message()"
   ]
  },
  {
   "cell_type": "markdown",
   "metadata": {
    "collapsed": false
   },
   "source": [
    "## Exercise\n",
    "\n",
    "To simulate the jump diffusion model on a grid of size $\\delta t$, let $Z_t=\\log(S_t)$. We may simulate $Z_t$ as\n",
    "$$\n",
    "Z_{t+\\delta t}=Z_t + (\\tilde{\\mu}-\\tfrac{1}{2}\\sigma^2)\\, \\delta t + \\sigma (\\delta t)^{\\frac{1}{2}} \\epsilon_t + n_{t,t+\\delta t} \\log(j)\n",
    "$$\n",
    "where the $\\epsilon_t$ are independent standard normal random variables and the\n",
    "$n_{t,t+\\delta t}$ are independent Poisson random variables with intensity parameter $\\lambda \\, \\delta t$.\n",
    "The variables $n_{t,t+\\delta t}$ represent the number of jumps between time $t$ and time $t+\\delta t$."
   ]
  },
  {
   "cell_type": "code",
   "execution_count": 5,
   "metadata": {
    "collapsed": false,
    "nbgrader": {
     "grade": false,
     "grade_id": "5d8d6d",
     "locked": false,
     "schema_version": 3,
     "solution": true,
     "task": false
    }
   },
   "outputs": [
   ],
   "source": [
    "def simulate_jump_diffusion( S0, T, mu_twiddle, sigma, lbda, j, n_steps, n_paths ):\n",
    "    t = np.linspace(0,T,n_steps+1)\n",
    "    ### BEGIN SOLUTION\n",
    "    dt = T/n_steps\n",
    "    Z = np.zeros((n_paths,n_steps+1))\n",
    "    Z[:,0]=np.log(S0)\n",
    "    for i in range(0, n_steps):\n",
    "        epsilon = np.random.normal(size=(n_paths))\n",
    "        jumps = np.random.poisson(lbda*dt, n_paths )\n",
    "        Z[:,i+1]=Z[:,i] + (mu_twiddle-0.5*sigma**2)*dt + sigma*np.sqrt(dt)*epsilon + np.log(j)*jumps\n",
    "    S = np.exp(Z)\n",
    "    ### END SOLUTION\n",
    "    return S, t"
   ]
  },
  {
   "cell_type": "code",
   "execution_count": 6,
   "metadata": {
    "collapsed": false,
    "nbgrader": {
     "grade": true,
     "grade_id": "72610d",
     "locked": true,
     "points": 1,
     "schema_version": 3,
     "solution": false,
     "task": false
    }
   },
   "outputs": [
    {
     "name": "stdout",
     "output_type": "stream",
     "text": [
      "Auto marking message: 😍 Correct\n"
     ]
    }
   ],
   "source": [
    "# The discounted expected stock price in the Q-model at time T\n",
    "# should equal S0 by the consistency condition\n",
    "# We check the answer is within a 99.9% confidence interval\n",
    "np.random.seed(0)\n",
    "n_steps = 365\n",
    "n_paths = 100000\n",
    "mu_twiddle = r + lbda*(1-j)\n",
    "S,t = simulate_jump_diffusion(S0,T,mu_twiddle,sigma, lbda, j, n_steps, n_paths)\n",
    "\n",
    "discounted_expectation = np.exp(-r*T)*np.mean(S[:,-1])\n",
    "sd = np.exp(-r*T)*np.std(S[:,-1])/np.sqrt(n_paths)\n",
    "alpha = scipy.stats.norm.ppf(0.0005)\n",
    "assert discounted_expectation>S0+alpha*sd\n",
    "assert discounted_expectation<S0-alpha*sd\n",
    "auto_marking_message()"
   ]
  },
  {
   "cell_type": "code",
   "execution_count": 7,
   "metadata": {
    "collapsed": false,
    "nbgrader": {
     "grade": true,
     "grade_id": "d83ca5",
     "locked": true,
     "points": 1,
     "schema_version": 3,
     "solution": false,
     "task": false
    }
   },
   "outputs": [
    {
     "name": "stdout",
     "output_type": "stream",
     "text": [
      "Auto marking message: ✨ Correct\n"
     ]
    }
   ],
   "source": [
    "# In fact the simulation method is exact, so only one step is needed\n",
    "S,t = simulate_jump_diffusion(S0,T,mu_twiddle,sigma, lbda, j, 1, n_paths)\n",
    "discounted_expectation = np.exp(-r*T)*np.mean(S[:,-1])\n",
    "assert discounted_expectation>S0+alpha*sd\n",
    "assert discounted_expectation<S0-alpha*sd\n",
    "auto_marking_message()"
   ]
  },
  {
   "cell_type": "markdown",
   "metadata": {
    "collapsed": false
   },
   "source": [
    "## Exercise\n",
    "\n",
    "Write a general Monte Carlo pricing routine for the jump diffusion model which works\n",
    "with arbitrary payoff functions. Your code should return a 99% confidence interval for the price\n",
    "exactly as the function `price_by_monte_carlo` in notebook 7 of the previous topic\n",
    "did for the Black-Scholes model."
   ]
  },
  {
   "cell_type": "code",
   "execution_count": 8,
   "metadata": {
    "collapsed": false,
    "nbgrader": {
     "grade": false,
     "grade_id": "646b1c",
     "locked": false,
     "remove": false,
     "schema_version": 3,
     "solution": true,
     "task": false
    }
   },
   "outputs": [
   ],
   "source": [
    "def price_by_monte_carlo_jd( S0, r, sigma, lbda, j, T, n_steps,n_paths, payoff_function):\n",
    "    ### BEGIN SOLUTION\n",
    "    mu_twiddle = r + lbda*(1-j)\n",
    "    S,t = simulate_jump_diffusion( S0, T, mu_twiddle, sigma, lbda, j, n_steps, n_paths )\n",
    "    payoffs = payoff_function(S)\n",
    "    p = 99\n",
    "    alpha = scipy.stats.norm.ppf((1-p/100)/2)\n",
    "    price = np.exp(-r*T)*np.mean( payoffs )\n",
    "    sigma_sample = np.exp(-r*T) * np.std( payoffs )\n",
    "    lower = price + alpha*sigma_sample/np.sqrt(n_paths)\n",
    "    upper = price - alpha*sigma_sample/np.sqrt(n_paths)\n",
    "    ### END SOLUTION\n",
    "    return lower, upper"
   ]
  },
  {
   "cell_type": "code",
   "execution_count": 9,
   "metadata": {
    "collapsed": false,
    "nbgrader": {
     "grade": true,
     "grade_id": "3be447",
     "locked": true,
     "points": 1,
     "remove": false,
     "schema_version": 3,
     "solution": false,
     "task": false
    }
   },
   "outputs": [
    {
     "name": "stdout",
     "output_type": "stream",
     "text": [
      "Auto marking message: 🌟 Correct\n"
     ]
    }
   ],
   "source": [
    "def price_call_by_monte_carlo_jd( S0, K, T, r, sigma, lbda, j, n_steps,n_paths ):\n",
    "    # Define the payoff function, it takes an array \n",
    "    def call_payoff( S ):\n",
    "        S_T = S[:,-1]\n",
    "        return np.maximum( S_T-K, 0 )\n",
    "    return price_by_monte_carlo_jd(S0, r, sigma, lbda, j, T, n_steps, n_paths, call_payoff )\n",
    "\n",
    "def test_price_call_by_monte_carlo_jd():\n",
    "    np.random.seed(0)\n",
    "    # Only one step is needed to price a call option\n",
    "    n_steps = 1\n",
    "    K = S0\n",
    "    low,high = price_call_by_monte_carlo_jd(S0, K, T, r,sigma,lbda,j, n_steps, n_paths)\n",
    "    expected = jump_diffusion_call_price(S0,K,T,r,sigma, lbda, j)\n",
    "    assert low<expected\n",
    "    assert expected<high\n",
    "\n",
    "test_price_call_by_monte_carlo_jd()\n",
    "auto_marking_message()"
   ]
  },
  {
   "cell_type": "markdown",
   "metadata": {
    "collapsed": false
   },
   "source": [
    "## Exercise\n",
    "\n",
    "Use a Monte Carlo method with 100000 steps to estimate the price of an Asian call option with strike $140$ and maturity $1$ in a jump diffusion model with parameters $S_0$, $r$, $\\sigma$, $\\lambda$ and $j$\n",
    "as defined in the cells above. When computing the payoff of the Asian option, you should compute the average price at the end of each day. Store your estimated value in a variable called `asian_price`."
   ]
  },
  {
   "cell_type": "code",
   "execution_count": 10,
   "metadata": {
    "collapsed": false,
    "nbgrader": {
     "grade": false,
     "grade_id": "a7f1de",
     "locked": false,
     "schema_version": 3,
     "solution": true,
     "task": false
    }
   },
   "outputs": [
    {
     "name": "stdout",
     "output_type": "stream",
     "text": [
      "14.257029512523063-14.509711083970336\n"
     ]
    }
   ],
   "source": [
    "K = 140\n",
    "T = 1\n",
    "\n",
    "def asian_call_payoff( S, K ):\n",
    "    S_bar = np.mean(S,axis=1)\n",
    "    return np.maximum( S_bar-K, 0 )\n",
    "\n",
    "def price_asian_call_by_monte_carlo_jd( S0, r, sigma, lbda, j, K, T, n_steps, n_paths ):\n",
    "    def payoff_fn(S):\n",
    "        return asian_call_payoff(S,K)\n",
    "    return price_by_monte_carlo_jd(S0, r, sigma, lbda,j, T, n_steps, n_paths, payoff_fn )\n",
    "\n",
    "n_paths = 100000\n",
    "low,high = price_asian_call_by_monte_carlo_jd(S0,r,sigma,lbda, j, K, T, T*365, n_paths)\n",
    "asian_price = 0.5*(low+high)\n",
    "print('{}-{}'.format(low,high)) "
   ]
  },
  {
   "cell_type": "code",
   "execution_count": 11,
   "metadata": {
    "collapsed": false,
    "nbgrader": {
     "grade": true,
     "grade_id": "c1f876",
     "locked": true,
     "points": 1,
     "schema_version": 3,
     "solution": false,
     "task": false
    }
   },
   "outputs": [
    {
     "name": "stdout",
     "output_type": "stream",
     "text": [
      "Auto marking message: 🌟 Correct\n"
     ]
    }
   ],
   "source": [
    "assert asian_price>0\n",
    "### BEGIN HIDDEN TESTS\n",
    "assert asian_price>14.1\n",
    "assert asian_price<14.7\n",
    "### END HIDDEN TESTS\n",
    "auto_marking_message()"
   ]
  }
 ],
 "metadata": {
  "kernelspec": {
   "display_name": "Python 3 (system-wide)",
   "language": "python",
   "metadata": {
    "cocalc": {
     "description": "Python 3 programming language",
     "priority": 100,
     "url": "https://www.python.org/"
    }
   },
   "name": "python3",
   "resource_dir": "/ext/jupyter/kernels/python3"
  }
 },
 "nbformat": 4,
 "nbformat_minor": 4
}