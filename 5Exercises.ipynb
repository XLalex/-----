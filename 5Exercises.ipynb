{
 "cells": [
  {
   "cell_type": "code",
   "execution_count": 1,
   "metadata": {
    "collapsed": false
   },
   "outputs": [
    {
     "data": {
      "text/html": [
       "<style>\n",
       "                     h1 {\n",
       "                        font-style: italic;\n",
       "                        text-align: center;\n",
       "                     }\n",
       "                     h3 {\n",
       "                         color: LightSkyBlue;\n",
       "                     }\n",
       "                     </style>"
      ],
      "text/plain": [
       "<IPython.core.display.HTML object>"
      ]
     },
     "execution_count": 1,
     "metadata": {
     },
     "output_type": "execute_result"
    }
   ],
   "source": [
    "from grading_tools import check, auto_marking_message"
   ]
  },
  {
   "cell_type": "markdown",
   "metadata": {
    "collapsed": false
   },
   "source": [
    "# Exercises"
   ]
  },
  {
   "cell_type": "markdown",
   "metadata": {
    "collapsed": false
   },
   "source": [
    "## Exercise\n",
    "\n",
    "What is the covariance matrix of  $(W_\\frac{1}{4},W_\\frac{1}{2},W_\\frac{3}{4},W_{1})$? Use this\n",
    "to write a unit test for the function `wiener_interpolate`. You must call your unit test `test_wiener_interpolate`."
   ]
  },
  {
   "cell_type": "code",
   "execution_count": 2,
   "metadata": {
    "collapsed": false,
    "nbgrader": {
     "grade": false,
     "grade_id": "066525",
     "locked": false,
     "schema_version": 3,
     "solution": true,
     "task": false
    }
   },
   "outputs": [
   ],
   "source": [
    "from fmlib import wiener_interpolate, one_step_wiener\n",
    "import numpy as np\n",
    "np.random.seed(0)\n",
    "\n",
    "def test_wiener_interpolate():\n",
    "    ### BEGIN SOLUTION\n",
    "    n_samples = 100000\n",
    "    sample = np.zeros((n_samples,4))\n",
    "    for i in range(0,n_samples):\n",
    "        W, t = one_step_wiener(1)\n",
    "        W, t = wiener_interpolate(W,t)\n",
    "        W, t = wiener_interpolate(W,t)\n",
    "        sample[i,:]=W[1:]\n",
    "    c = np.cov( sample, rowvar = False)\n",
    "    A = 0.5*np.array([[1,0,0,0],[1,1,0,0],[1,1,1,0],[1,1,1,1]])\n",
    "    expected_c = A @ A.transpose()\n",
    "    for i in range(0,3):\n",
    "        for j in range(0,3):\n",
    "            assert abs(c[i,j]-expected_c[i,j])<0.03\n",
    "    ### END SOLUTION"
   ]
  },
  {
   "cell_type": "code",
   "execution_count": 3,
   "metadata": {
    "collapsed": false,
    "nbgrader": {
     "grade": true,
     "grade_id": "93cd19",
     "locked": true,
     "points": 1,
     "schema_version": 3,
     "solution": false,
     "task": false
    }
   },
   "outputs": [
    {
     "name": "stdout",
     "output_type": "stream",
     "text": [
      "Auto marking message: ✨ Correct\n"
     ]
    }
   ],
   "source": [
    "test_wiener_interpolate() # Your test should pass!\n",
    "### BEGIN HIDDEN TESTS\n",
    "# We now redefine Wiener interpolate and check that the test fails\n",
    "def wiener_interpolate():\n",
    "    halfway_times = compute_halfway_times(t)\n",
    "    halfway_values = simulate_intermediate_values(W, t)\n",
    "    new_W = 0.8*riffle(W,halfway_values) # DELIBERATE ERROR!\n",
    "    new_t = riffle(t,halfway_times)\n",
    "    return new_W, new_t\n",
    "\n",
    "passed = False\n",
    "try:\n",
    "    test_wiener_interpolate()\n",
    "    passed = True\n",
    "except:\n",
    "    pass\n",
    "\n",
    "if passed:\n",
    "    raise Exception(\"Your test didn't notice that the function no longer works\")\n",
    "### END HIDDEN TESTS\n",
    "auto_marking_message()"
   ]
  },
  {
   "cell_type": "code",
   "execution_count": 0,
   "metadata": {
    "collapsed": false
   },
   "outputs": [
   ],
   "source": [
   ]
  },
  {
   "cell_type": "markdown",
   "metadata": {
    "collapsed": false
   },
   "source": [
    "## Exercise\n",
    "\n",
    "Write a function `simulate_multivariate_normal` that can simulate `n_samples` samples from a multivariate normal distribution with a given covariance\n",
    "matrix $\\Sigma$ and with mean $0$. Each row should represent a different sample. Write a unit test for this function."
   ]
  },
  {
   "cell_type": "code",
   "execution_count": 4,
   "metadata": {
    "collapsed": false,
    "nbgrader": {
     "grade": false,
     "grade_id": "83feb1",
     "locked": false,
     "schema_version": 3,
     "solution": true,
     "task": false
    }
   },
   "outputs": [
   ],
   "source": [
    "def simulate_multivariate_normal( n_samples, sigma ):\n",
    "    ### BEGIN SOLUTION\n",
    "    n = sigma.shape[0]\n",
    "    L = np.linalg.cholesky( sigma )\n",
    "    epsilon = np.random.randn(n, n_samples)\n",
    "    return (L @ epsilon).transpose()\n",
    "    ### END SOLUTION\n",
    "\n",
    "def test_simulate_multivariate_normal():\n",
    "    ### BEGIN SOLUTION\n",
    "    dr_A_test_simulate_multivariate_normal() # Defined below!\n",
    "    ### END SOLUTION"
   ]
  },
  {
   "cell_type": "code",
   "execution_count": 5,
   "metadata": {
    "collapsed": false,
    "nbgrader": {
     "grade": true,
     "grade_id": "e672e6",
     "locked": true,
     "points": 1,
     "schema_version": 3,
     "solution": false,
     "task": false
    }
   },
   "outputs": [
    {
     "name": "stdout",
     "output_type": "stream",
     "text": [
      "Auto marking message: 😀 Correct\n"
     ]
    }
   ],
   "source": [
    "sigma = np.array([[1,0.5],[0.5,1]])\n",
    "ans = simulate_multivariate_normal(10, sigma)\n",
    "assert ans.shape==(10,2)\n",
    "\n",
    "### BEGIN HIDDEN TESTS\n",
    "def dr_A_test_simulate_multivariate_normal():\n",
    "    sigma = np.array([[1,0.5,0.3],[0.5,2,0],[0.3,0,3]])\n",
    "    r = simulate_multivariate_normal( 100000, sigma )\n",
    "    c = np.cov(r,rowvar=False)\n",
    "    for i in range(0,3):\n",
    "        for j in range(0,3):\n",
    "            assert abs( c[i,j]-sigma[i,j])<0.05\n",
    "\n",
    "# Check your function works\n",
    "dr_A_test_simulate_multivariate_normal()\n",
    "\n",
    "# Check your test fails by changing the function\n",
    "# to one that doesn't work\n",
    "old_f = simulate_multivariate_normal\n",
    "\n",
    "def simulate_multivariate_normal( n_samples, sigma ):\n",
    "     return 0.5*old_f( n_samples, sigma )\n",
    "\n",
    "passed = False\n",
    "try:\n",
    "    test_wiener_interpolate()\n",
    "    passed = True\n",
    "except:\n",
    "    pass\n",
    "\n",
    "if passed:\n",
    "    raise Exception(\"Your test didn't notice that the function no longer works\")\n",
    "\n",
    "# Switch the function back to a working version\n",
    "simulate_multivariate_normal = old_f\n",
    "### END HIDDEN TESTS\n",
    "\n",
    "test_simulate_multivariate_normal()\n",
    "auto_marking_message()"
   ]
  },
  {
   "cell_type": "code",
   "execution_count": 0,
   "metadata": {
    "collapsed": false
   },
   "outputs": [
   ],
   "source": [
   ]
  }
 ],
 "metadata": {
  "kernelspec": {
   "display_name": "Python 3 (system-wide)",
   "language": "python",
   "metadata": {
    "cocalc": {
     "description": "Python 3 programming language",
     "priority": 100,
     "url": "https://www.python.org/"
    }
   },
   "name": "python3",
   "resource_dir": "/ext/jupyter/kernels/python3"
  },
  "language_info": {
   "codemirror_mode": {
    "name": "ipython",
    "version": 3
   },
   "file_extension": ".py",
   "mimetype": "text/x-python",
   "name": "python",
   "nbconvert_exporter": "python",
   "pygments_lexer": "ipython3",
   "version": "3.8.5"
  }
 },
 "nbformat": 4,
 "nbformat_minor": 4
}