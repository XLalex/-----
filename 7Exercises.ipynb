{
 "cells": [
  {
   "cell_type": "code",
   "execution_count": 1,
   "metadata": {
    "collapsed": false
   },
   "outputs": [
    {
     "data": {
      "text/html": [
       "<style>\n",
       "                     h1 {\n",
       "                        font-style: italic;\n",
       "                        text-align: center;\n",
       "                     }\n",
       "                     h3 {\n",
       "                         color: LightSkyBlue;\n",
       "                     }\n",
       "                     </style>"
      ],
      "text/plain": [
       "<IPython.core.display.HTML object>"
      ]
     },
     "execution_count": 1,
     "metadata": {
     },
     "output_type": "execute_result"
    }
   ],
   "source": [
    "import grading_tools\n",
    "import numpy as np\n",
    "from math import *"
   ]
  },
  {
   "cell_type": "markdown",
   "metadata": {
    "collapsed": false
   },
   "source": [
    "# Exercises"
   ]
  },
  {
   "cell_type": "markdown",
   "metadata": {
    "collapsed": false
   },
   "source": [
    "## Exercise\n",
    "\n",
    "Suppose that we want to price a European put option with strike $K$. Choose $S_{\\max}$ and $S_{\\min}=0$ as for a call option.\n",
    "What values should we choose for the top and bottom boundary? Write functions corresponding to your answer."
   ]
  },
  {
   "cell_type": "code",
   "execution_count": 2,
   "metadata": {
    "collapsed": false,
    "nbgrader": {
     "grade": false,
     "grade_id": "77d79a",
     "locked": false,
     "schema_version": 3,
     "solution": true,
     "task": false
    }
   },
   "outputs": [
   ],
   "source": [
    "def top_boundary_for_put( K,T, S_max, r, t):\n",
    "    ### BEGIN SOLUTION\n",
    "    return 0\n",
    "    ### END SOLUTION\n",
    "    \n",
    "def bottom_boundary_for_put( K,T, r, t):\n",
    "    ### BEGIN SOLUTION\n",
    "    return exp(-r*(T-t))*K\n",
    "    ### END SOLUTION"
   ]
  },
  {
   "cell_type": "code",
   "execution_count": 3,
   "metadata": {
    "collapsed": false,
    "nbgrader": {
     "grade": true,
     "grade_id": "fe3e76",
     "locked": true,
     "points": 1,
     "schema_version": 3,
     "solution": false,
     "task": false
    }
   },
   "outputs": [
    {
     "name": "stdout",
     "output_type": "stream",
     "text": [
      "Auto marking message: 😀 Correct\n"
     ]
    }
   ],
   "source": [
    "grading_tools.check( 'fe3e76', top_boundary_for_put(100, 1, 110, 0.08, 0.5))\n",
    "grading_tools.auto_marking_message()"
   ]
  },
  {
   "cell_type": "code",
   "execution_count": 4,
   "metadata": {
    "collapsed": false,
    "nbgrader": {
     "grade": true,
     "grade_id": "94d5a6",
     "locked": true,
     "points": 1,
     "schema_version": 3,
     "solution": false,
     "task": false
    }
   },
   "outputs": [
    {
     "name": "stdout",
     "output_type": "stream",
     "text": [
      "Auto marking message: 😊 Correct\n"
     ]
    }
   ],
   "source": [
    "grading_tools.check( '94d5a6', bottom_boundary_for_put(100, 1, 0.08, 0.5))\n",
    "grading_tools.auto_marking_message()"
   ]
  },
  {
   "cell_type": "markdown",
   "metadata": {
    "collapsed": false
   },
   "source": [
    "## Exercise\n",
    "\n",
    "A digital call option with strike $K$ gives a payoff at maturity $T$ of\n",
    "$$\n",
    "\\begin{cases}\n",
    "1 & S_T>K \\\\\n",
    "0 & \\text{otherwise}\n",
    "\\end{cases}\n",
    "$$\n",
    "Using the same values for $S_{\\min}$ and $S_{max}$, compute appropriate boundary conditions for a digital call option.\n",
    "Write functions corresponding to your answer."
   ]
  },
  {
   "cell_type": "code",
   "execution_count": 5,
   "metadata": {
    "collapsed": false,
    "nbgrader": {
     "grade": false,
     "grade_id": "e9c0e8",
     "locked": false,
     "schema_version": 3,
     "solution": true,
     "task": false
    }
   },
   "outputs": [
   ],
   "source": [
    "def top_boundary_for_digital_call( K,T, S_max, r, t):\n",
    "    ### BEGIN SOLUTION\n",
    "    return exp(-r*(T-t))\n",
    "    ### END SOLUTION\n",
    "    \n",
    "def bottom_boundary_for_digital_call( K,T, r, t):\n",
    "    ### BEGIN SOLUTION\n",
    "    return 0\n",
    "    ### END SOLUTION"
   ]
  },
  {
   "cell_type": "code",
   "execution_count": 6,
   "metadata": {
    "collapsed": false,
    "nbgrader": {
     "grade": true,
     "grade_id": "5cb61f",
     "locked": true,
     "points": 1,
     "schema_version": 3,
     "solution": false,
     "task": false
    }
   },
   "outputs": [
   ],
   "source": [
    "grading_tools.check( '5cb61f', top_boundary_for_digital_call(100, 1, 110, 0.08, 0.5))"
   ]
  },
  {
   "cell_type": "code",
   "execution_count": 7,
   "metadata": {
    "collapsed": false,
    "nbgrader": {
     "grade": true,
     "grade_id": "4d227d",
     "locked": true,
     "points": 1,
     "schema_version": 3,
     "solution": false,
     "task": false
    }
   },
   "outputs": [
   ],
   "source": [
    "grading_tools.check( '4d227d', bottom_boundary_for_digital_call(100, 1, 0.08, 0.5))"
   ]
  },
  {
   "cell_type": "markdown",
   "metadata": {
    "collapsed": false
   },
   "source": [
    "## Exercise\n",
    "\n",
    "The *backwards heat equation* for $W(t,x)$ is\n",
    "\n",
    "$$\\frac{\\partial W}{\\partial t } = -\\frac{\\partial^2 W}{\\partial x^2}$$\n",
    "\n",
    "Suppose that you wish to solve this equation in a rectangular region and that you have been given top, bottom and final boundary conditions.\n",
    "Discretize the $x$-coordinate at evenly spaced points $x_i = x_{\\min} + i\\,\\delta x$ ($1 \\leq i \\leq M-1$). Define $W^i_t = W(t,x_i)$. Write ${\\mathbf W}$ for the vector with components $W^i_t$. Following the same\n",
    "method used for the Black-Scholes PDE, compute an ODE approximation to this equation of the form\n",
    "$$\n",
    "\\frac{d {\\mathbf W}}{dt} = L {\\mathbf W} + \\mathbf{z}_t\n",
    "$$\n",
    "where $L$ is a matrix and ${\\mathbf z}_t$ is a vector which will depend upon the top and bottom boundary conditions.\n",
    "\n",
    "Write a function `heat_equation_matrix` which returns $L$."
   ]
  },
  {
   "cell_type": "code",
   "execution_count": 8,
   "metadata": {
    "collapsed": false,
    "nbgrader": {
     "grade": false,
     "grade_id": "51f0e4",
     "locked": false,
     "schema_version": 3,
     "solution": true,
     "task": false
    }
   },
   "outputs": [
   ],
   "source": [
    "def heat_equation_matrix( dx, M):\n",
    "    ### BEGIN SOLUTION\n",
    "    L = np.zeros((M-1,M-1))\n",
    "    for i in range(0,M-2):\n",
    "        L[i,i]=2/(dx)**2\n",
    "        L[i+1,i]=-1/dx**2\n",
    "        L[i,i+1]=-1/dx**2\n",
    "    return L\n",
    "    ### END SOLUTION"
   ]
  },
  {
   "cell_type": "code",
   "execution_count": 9,
   "metadata": {
    "collapsed": false,
    "nbgrader": {
     "grade": false,
     "grade_id": "7c6ff7",
     "locked": false,
     "schema_version": 3,
     "solution": true,
     "task": false
    }
   },
   "outputs": [
    {
     "name": "stdout",
     "output_type": "stream",
     "text": [
      "Auto marking message: ✨ Correct\n"
     ]
    }
   ],
   "source": [
    "dx = 0.2\n",
    "M = 5\n",
    "L = heat_equation_matrix( dx,M)\n",
    "assert L.shape==(M-1,M-1)\n",
    "for i in range(0,M-1):\n",
    "    for j in range(0,M-1):\n",
    "        grading_tools.check('7c6ff7{}{}'.format(i,j), L[i,j])\n",
    "grading_tools.auto_marking_message()"
   ]
  },
  {
   "cell_type": "code",
   "execution_count": 0,
   "metadata": {
    "collapsed": false
   },
   "outputs": [
   ],
   "source": [
   ]
  }
 ],
 "metadata": {
  "kernelspec": {
   "display_name": "Python 3 (system-wide)",
   "language": "python",
   "metadata": {
    "cocalc": {
     "description": "Python 3 programming language",
     "priority": 100,
     "url": "https://www.python.org/"
    }
   },
   "name": "python3",
   "resource_dir": "/ext/jupyter/kernels/python3"
  },
  "language_info": {
   "codemirror_mode": {
    "name": "ipython",
    "version": 3
   },
   "file_extension": ".py",
   "mimetype": "text/x-python",
   "name": "python",
   "nbconvert_exporter": "python",
   "pygments_lexer": "ipython3",
   "version": "3.8.5"
  }
 },
 "nbformat": 4,
 "nbformat_minor": 4
}