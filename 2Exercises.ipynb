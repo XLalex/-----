{
 "cells": [
  {
   "cell_type": "code",
   "execution_count": 14,
   "metadata": {
    "collapsed": false
   },
   "outputs": [
   ],
   "source": [
    "import numpy as np\n",
    "import matplotlib.pyplot as plt"
   ]
  },
  {
   "cell_type": "markdown",
   "metadata": {
    "collapsed": false
   },
   "source": [
    "# Exercises\n",
    "\n",
    "These exercises should help you become more familiar with the Black-Scholes formula, which might seem rather intimidating at first. They also\n",
    "give more simple examples of replication arguments."
   ]
  },
  {
   "cell_type": "markdown",
   "metadata": {
    "collapsed": false
   },
   "source": [
    "## Exercise\n",
    "\n",
    "We have defined a European call option to be a derivative contract that pays off $\\max\\{S_T-K,0\\}$ at time $T$. A European call option with strike $K$ and maturity $T$ is often described as \"the right (but not the obligation) to buy the stock at time $T$ at a pre-determined price $K$.\" Explain why having such a right is equivalent to receiving a payment of $\\max\\{S_T-K,0\\}$. Note that it is a right but not an obligation, so if you lose money you would not take up this right. This is why it is called an *option*, you have the *option* of whether or not to *exercise* your right at time $T$. "
   ]
  },
  {
   "cell_type": "markdown",
   "metadata": {
    "collapsed": false,
    "nbgrader": {
     "grade": false,
     "grade_id": "098e95",
     "locked": false,
     "remove": true,
     "schema_version": 3,
     "solution": false,
     "task": false
    }
   },
   "source": [
    "If $S_T>K$ then at maturity you should exercise your right to buy the stock for $K$ and immediately sell it giving you an instantaneous profit of $S_T-K$. If instead $S_T < K$ and you were to exercise your right, you would make an instantaneous loss of $S_T-K$, so you should not exercise your right.\n",
    "\n",
    "Thus the profit you would make at time $T$ if you owned a European call option will be\n",
    "$$\n",
    "\\begin{split}\n",
    "\\text{Profit}&=\n",
    "\\begin{cases}\n",
    "S_T-K & S_T \\geq K \\\\\n",
    "0 & S_T < K\n",
    "\\end{cases} \\\\\n",
    "&=\n",
    "\\begin{cases}\n",
    "S_T-K & S_T - K \\geq 0  \\\\\n",
    "0 & S_T - < 0\n",
    "\\end{cases} \\\\\n",
    "&= \\max\\{S_T-K,0\\}\n",
    "\\end{split}\n",
    "$$"
   ]
  },
  {
   "cell_type": "markdown",
   "metadata": {
    "collapsed": false
   },
   "source": [
    "## Exercise\n",
    "\n",
    "Plot a graph of the payoff of a European call option with strike $K$ and maturity $T$ against $S_T$, the final stock price. Take $K=100$ to be concrete."
   ]
  },
  {
   "cell_type": "code",
   "execution_count": 19,
   "metadata": {
    "collapsed": false,
    "nbgrader": {
     "grade": false,
     "grade_id": "90374a",
     "locked": false,
     "schema_version": 3,
     "solution": true,
     "task": false
    }
   },
   "outputs": [
    {
     "data": {
      "text/plain": [
       "Text(0.5, 1.0, 'Call option payoff')"
      ]
     },
     "execution_count": 19,
     "metadata": {
     },
     "output_type": "execute_result"
    },
    {
     "data": {
      "image/png": "[encoded data removed]",
      "text/plain": [
       "<Figure size 864x504 with 1 Axes>"
      ]
     },
     "execution_count": 19,
     "metadata": {
      "image/png": {
       "height": 458,
       "width": 732
      },
      "needs_background": "light"
     },
     "output_type": "execute_result"
    }
   ],
   "source": [
    "### BEGIN SOLUTION\n",
    "ST = np.linspace(0,200,100)\n",
    "K = 100\n",
    "payoff = np.maximum(ST-K,0)\n",
    "ax = plt.gca()\n",
    "ax.plot(ST, payoff)\n",
    "ax.set_xlabel('$S_T$')\n",
    "ax.set_ylabel('Payoff');\n",
    "ax.set_title('Call option payoff');\n",
    "### END SOLUTION"
   ]
  },
  {
   "cell_type": "markdown",
   "metadata": {
    "collapsed": false
   },
   "source": [
    "## Exercise\n",
    "\n",
    "Suppose $K_1 < K_2$. Explain why a European call option with strike $K_1$ and maturity $T$ is worth more than a European call option with strike $K_2$ and maturity $T$."
   ]
  },
  {
   "cell_type": "markdown",
   "metadata": {
    "collapsed": false,
    "nbgrader": {
     "grade": false,
     "grade_id": "608f90",
     "locked": false,
     "remove": true,
     "schema_version": 3,
     "solution": false,
     "task": false
    }
   },
   "source": [
    "If $K_1 < K_2$ then $S_T-K_1 > S_T-K_2$ and hence $\\max \\{S_T-K_1,0\\}\\geq \\max\\{S_T-K_2,0\\}$. Thus the call option with strike $K_1$ will always have at least as large a payoff of as the call option with strike $K_2$. We say that the option with strike $K_1$ *super-replicates* the option with strike $K_2$ because it always has a larger payoff."
   ]
  },
  {
   "cell_type": "markdown",
   "metadata": {
    "collapsed": false
   },
   "source": [
    "## Exercise\n",
    "\n",
    "Plot a graph of the payoff of a European put option against $S_T$"
   ]
  },
  {
   "cell_type": "code",
   "execution_count": 20,
   "metadata": {
    "collapsed": false,
    "nbgrader": {
     "grade": false,
     "grade_id": "bb59fe",
     "locked": false,
     "remove": false,
     "schema_version": 3,
     "solution": true,
     "task": false
    }
   },
   "outputs": [
    {
     "data": {
      "image/png": "[encoded data removed]",
      "text/plain": [
       "<Figure size 864x504 with 1 Axes>"
      ]
     },
     "execution_count": 20,
     "metadata": {
      "image/png": {
       "height": 458,
       "width": 732
      },
      "needs_background": "light"
     },
     "output_type": "execute_result"
    }
   ],
   "source": [
    "### BEGIN SOLUTION\n",
    "ST = np.linspace(0,200,100)\n",
    "K = 100\n",
    "payoff = np.maximum(K-ST,0)\n",
    "ax = plt.gca()\n",
    "ax.plot(ST, payoff)\n",
    "ax.set_xlabel('$S_T$')\n",
    "ax.set_ylabel('Payoff');\n",
    "ax.set_title('Put option payoff');\n",
    "### END SOLUTION"
   ]
  },
  {
   "cell_type": "markdown",
   "metadata": {
    "collapsed": false
   },
   "source": [
    "## Exercise\n",
    "\n",
    "Consider a portfolio consisting of:\n",
    "    \n",
    "* $+1$ units of a European call option with strike $K$ and maturity $T$\n",
    "* $-1$ units of a European put option with strike $K$ and maturity $T$\n",
    "\n",
    "Plot a graph of the portfolio payoff against $S_T$. Deduce that such a portfolio can be replicated by purchasing $1$ unit of stock and putting\n",
    "$e^{-rT} K$ into a risk-free bank account at time $0$.\n",
    "\n",
    "Deduce the following:\n",
    "$$\\text{Price of call at time 0}-\\text{Price of put at time 0}=S_0-e^{-rT}K$$ "
   ]
  },
  {
   "cell_type": "code",
   "execution_count": 23,
   "metadata": {
    "collapsed": false,
    "nbgrader": {
     "grade": false,
     "grade_id": "97d286",
     "locked": false,
     "schema_version": 3,
     "solution": true,
     "task": false
    }
   },
   "outputs": [
    {
     "data": {
      "image/png": "[encoded data removed]",
      "text/plain": [
       "<Figure size 864x504 with 1 Axes>"
      ]
     },
     "execution_count": 23,
     "metadata": {
      "image/png": {
       "height": 458,
       "width": 736
      },
      "needs_background": "light"
     },
     "output_type": "execute_result"
    }
   ],
   "source": [
    "### BEGIN SOLUTION\n",
    "ST = np.linspace(0,200,100)\n",
    "K = 100\n",
    "payoff = np.maximum(ST-K,0)-np.maximum(K-ST,0)\n",
    "ax = plt.gca()\n",
    "ax.plot(ST, payoff)\n",
    "ax.set_xlabel('$S_T$')\n",
    "ax.set_ylabel('Payoff');\n",
    "ax.set_title('Portfolio payoff');\n",
    "### END SOLUTION"
   ]
  },
  {
   "cell_type": "markdown",
   "metadata": {
    "collapsed": false,
    "nbgrader": {
     "grade": false,
     "grade_id": "b0870f",
     "locked": false,
     "remove": true,
     "schema_version": 3,
     "solution": false,
     "task": false
    }
   },
   "source": [
    "We see that the portfolio payoff is equal to $S-K$. A payoff of $S$ can be replicated by buying the stock. A payoff of $K$ can be replicated by putting $e^{-rT}K$ into the risk-free bank account at time $0$. "
   ]
  },
  {
   "cell_type": "markdown",
   "metadata": {
    "collapsed": false
   },
   "source": [
    "## Exercise\n",
    "\n",
    "Plot a graphs of the Black-Scholes price of an option against the stock price $S_t$ for a European call option\n",
    "with strike $K=100$, maturity $T=1$ in a model where\n",
    "$r=0.02$, $\\sigma=0.2$ and $S_0=110$. You should plot graphs for values $t \\in \\{0, \\frac{1}{10}, \\frac{2}{10}, \\ldots, \\frac{9}{10} \\}$."
   ]
  },
  {
   "cell_type": "code",
   "execution_count": 32,
   "metadata": {
    "collapsed": false,
    "nbgrader": {
     "grade": false,
     "grade_id": "15b263",
     "locked": false,
     "schema_version": 3,
     "solution": true,
     "task": false
    }
   },
   "outputs": [
    {
     "data": {
      "image/png": "[encoded data removed]",
      "text/plain": [
       "<Figure size 864x504 with 1 Axes>"
      ]
     },
     "execution_count": 32,
     "metadata": {
      "image/png": {
       "height": 417,
       "width": 707
      },
      "needs_background": "light"
     },
     "output_type": "execute_result"
    }
   ],
   "source": [
    "St = np.linspace(80,120,100)\n",
    "import fmlib\n",
    "ax = plt.gca()\n",
    "for i in range(0,10):\n",
    "    t = i/10\n",
    "    V = fmlib.black_scholes_call_price(St,t,100,1, 0.02, 0.2)\n",
    "    ax.plot(St,V, label='t={}'.format(t))\n",
    "ax.legend();"
   ]
  },
  {
   "cell_type": "markdown",
   "metadata": {
    "collapsed": false
   },
   "source": [
    "## Exercise\n",
    "\n",
    "Let $d_i(S,t,K,T,r,\\sigma)$ be as in the Black-Scholes formula. Suppose that $S>K$. Show that\n",
    "$$\\lim_{t \\to T} d_1(S,t,K,T,r,\\sigma)=\\infty$$\n",
    "and\n",
    "$$\\lim_{t \\to T} d_2(S,t,K,T,r,\\sigma)=\\infty.$$\n",
    "\n",
    "Deduce that\n",
    "$$ \\lim_{t \\to T} V(S,t,K,T,r,\\sigma)=S-K $$\n",
    "if $S>K$. What is the value of\n",
    "$$ \\lim_{t \\to T} V(S,t,K,T,r,\\sigma)=S-K $$\n",
    "if $ S < K $?"
   ]
  },
  {
   "cell_type": "markdown",
   "metadata": {
    "collapsed": false,
    "nbgrader": {
     "grade": false,
     "grade_id": "dce57d",
     "locked": false,
     "remove": true,
     "schema_version": 3,
     "solution": false,
     "task": false
    }
   },
   "source": [
    "If $S>K$, $\\log(S/K)>0$. We have\n",
    "$$d_1 = \\frac{1}{\\sigma \\sqrt{T-t}} \\log(S/K) + (r+\\frac{1}{2}\\sigma^2)\\frac{1}{\\sigma} \\sqrt{T-t}$$\n",
    "The first term tends to $\\infty$ as $t \\to T$ since $\\log(S/K)$ is positive and $\\sqrt{T-t}\\to 0$. The second term tends to 0. Hence $d_1 \\to \\infty$. Similarly $d_2 \\to \\infty$.\n",
    "\n",
    "We deduce that $N(d_1) \\to 1$ and $N(d_2) \\to 1$ as $t \\to T$ (since $N$ is a distribution function). Hence $V=S N(d_1) - e^{-r(T-t)} N(d_2) \\to S - K$.\n",
    "\n",
    "If $S < K$, $\\log(S/K)<0$, so $d_1$ and $d_2$ both tend to $-\\infty$. Hence $N(d_1)$ and $N(d_2)$ both tend to $0$, so $V \\to 0$.\n",
    "\n",
    "In general case $\\lim_{t \\to T}V = \\max\\{S-K,0\\}$. \n"
   ]
  },
  {
   "cell_type": "code",
   "execution_count": 0,
   "metadata": {
    "collapsed": false
   },
   "outputs": [
   ],
   "source": [
   ]
  },
  {
   "cell_type": "code",
   "execution_count": 0,
   "metadata": {
    "collapsed": false
   },
   "outputs": [
   ],
   "source": [
   ]
  }
 ],
 "metadata": {
  "kernelspec": {
   "display_name": "Python 3 (system-wide)",
   "language": "python",
   "metadata": {
    "cocalc": {
     "description": "Python 3 programming language",
     "priority": 100,
     "url": "https://www.python.org/"
    }
   },
   "name": "python3",
   "resource_dir": "/ext/jupyter/kernels/python3"
  },
  "language_info": {
   "codemirror_mode": {
    "name": "ipython",
    "version": 3
   },
   "file_extension": ".py",
   "mimetype": "text/x-python",
   "name": "python",
   "nbconvert_exporter": "python",
   "pygments_lexer": "ipython3",
   "version": "3.8.5"
  }
 },
 "nbformat": 4,
 "nbformat_minor": 4
}