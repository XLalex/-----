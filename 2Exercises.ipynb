{
 "cells": [
  {
   "cell_type": "code",
   "execution_count": 1,
   "metadata": {
    "collapsed": false
   },
   "outputs": [
    {
     "data": {
      "text/html": [
       "<style>\n",
       "                     h1 {\n",
       "                        font-style: italic;\n",
       "                        text-align: center;\n",
       "                     }\n",
       "                     h3 {\n",
       "                         color: LightSkyBlue;\n",
       "                     }\n",
       "                     </style>"
      ],
      "text/plain": [
       "<IPython.core.display.HTML object>"
      ]
     },
     "execution_count": 1,
     "metadata": {
     },
     "output_type": "execute_result"
    }
   ],
   "source": [
    "from grading_tools import check, auto_marking_message\n",
    "import numpy as np\n",
    "from math import *"
   ]
  },
  {
   "cell_type": "markdown",
   "metadata": {
    "collapsed": false,
    "slideshow": {
     "slide_type": "slide"
    }
   },
   "source": [
    "# Exercises"
   ]
  },
  {
   "cell_type": "markdown",
   "metadata": {
    "collapsed": false
   },
   "source": [
    "## Exercise\n",
    "\n",
    "Fill in the blanks.\n",
    "\n",
    "If $\\Sigma$ is a positive definite symmetric matrix then a matrix satisfying $A A^\\top=\\Sigma$, is called a\n",
    "p---- s----- r--- of $\\Sigma$. The C------- d------------ of $\\Sigma$ is the unique\n",
    "p---- s----- r--- of $\\Sigma$ with positive diagonal."
   ]
  },
  {
   "cell_type": "code",
   "execution_count": 2,
   "metadata": {
    "collapsed": false,
    "nbgrader": {
     "grade": false,
     "grade_id": "c94260",
     "locked": false,
     "schema_version": 3,
     "solution": true,
     "task": false
    }
   },
   "outputs": [
   ],
   "source": [
    "ans1 = \"p----- s----- r---\"\n",
    "ans2 = \"C------- d------------\"\n",
    "ans3 = \"p----- s----- r---\"\n",
    "#BEGIN SOLUTION\n",
    "ans1 = \"pseudo square root\"\n",
    "ans2 = \"Cholesky decomposition\"\n",
    "ans3 = ans1\n",
    "#END SOLUTION"
   ]
  },
  {
   "cell_type": "code",
   "execution_count": 3,
   "metadata": {
    "collapsed": false,
    "nbgrader": {
     "grade": true,
     "grade_id": "9510c7",
     "locked": true,
     "points": 1,
     "schema_version": 3,
     "solution": false,
     "task": false
    }
   },
   "outputs": [
    {
     "name": "stdout",
     "output_type": "stream",
     "text": [
      "Auto marking message: 😍 Correct\n"
     ]
    }
   ],
   "source": [
    "check( '9510c7.1', ans1)\n",
    "check( '9510c7.2', ans2)\n",
    "check( '9510c7.3', ans3)\n",
    "auto_marking_message()"
   ]
  },
  {
   "cell_type": "markdown",
   "metadata": {
    "collapsed": false
   },
   "source": [
    "## Exercise\n",
    "\n",
    "Prove the following:\n",
    "\n",
    "**Lemma:** $W_t$ is a discrete time Wiener process if and only if $Z_0 + \\tilde{\\mu} t + \\sigma W_t$ is a Browian motion\n",
    "with drift $\\tilde{\\mu}$ and volatility $\\sigma$. If $Z_t$ is a discrete time Brownian motion, then $\\frac{1}{\\sigma}(Z_t-Z_0-\\tilde{\\mu} t)$ is a discrete\n",
    "time Wiener process."
   ]
  },
  {
   "cell_type": "markdown",
   "metadata": {
    "collapsed": false
   },
   "source": [
    "## Exercise\n",
    "\n",
    "The following claim is made in the notes. Prove it:\n",
    "    \n",
    "\"So by the properties of Cholesky decomposition, if we define    \n",
    "$$\n",
    "\\left(\n",
    "    \\begin{array}{c}\n",
    "    \\epsilon_t^\\prime \\\\\n",
    "    \\epsilon_\\frac{t}{2}^\\prime\n",
    "    \\end{array}\n",
    "\\right)\n",
    ":= A^{-1}\n",
    "\\left(\n",
    "    \\begin{array}{c}\n",
    "    W_t \\\\\n",
    "    W_\\frac{t}{2}\n",
    "    \\end{array}\n",
    "\\right)\n",
    "$$\n",
    "then $\\epsilon_t^\\prime$ and $\\epsilon_\\frac{t}{2}^\\prime$ are independent standard normal random\n",
    "variables.\""
   ]
  },
  {
   "cell_type": "markdown",
   "metadata": {
    "collapsed": false,
    "nbgrader": {
     "grade": false,
     "grade_id": "80abb1",
     "locked": false,
     "remove": true,
     "schema_version": 3,
     "solution": false,
     "task": false
    }
   },
   "source": [
    "### Solution\n",
    "\n",
    "Write $\\Sigma$ for the covariance matrix of $W_t$ and $W_{\\frac{t}{2}}$.\n",
    "Since $A$\n",
    "is the Cholesky decomposition of $\\Sigma$ it is a pseudo-square root. Hence\n",
    "$$A A^\\top = \\Sigma$$\n",
    "Since $A$ is lower triangular with positive diagonal, it is invertible (as it is already in echelon form). Hence\n",
    "$$1 = A^{-1} \\Sigma (A^{-1})^\\top$$\n",
    "(I'm using the identity $(A^{-1})^\\top=(A^\\top)^{-1}$ here too)\n",
    " \n",
    "Using vector notation in the obvious way, we have:\n",
    "$\\mathbf{\\epsilon}^\\prime:=A^{-1} \\mathbf{W}$\n",
    "We can write down (because we've done this type of exercise before) that the covarince matrix of $\\epsilon$ is\n",
    "$$A^{-1} \\Sigma (A^{-1})^\\top$$"
   ]
  },
  {
   "cell_type": "markdown",
   "metadata": {
    "collapsed": false,
    "slideshow": {
     "slide_type": "slide"
    }
   },
   "source": [
    "## Exercise\n",
    "\n",
    "Suppose that $W_t$ is a discrete time Wiener process defined on ${\\cal T}=\\{0,\\frac{1}{4},\\frac{1}{2},\\frac{1}{4},1\\}$ compute\n",
    "the covariance matrix of the vector\n",
    "\n",
    "$$(W_1,W_{\\frac{1}{2}},W_{\\frac{1}{4}},W_{\\frac{3}{4}}).$$\n",
    "\n",
    "Store the answer in a matrix called `cov_matrix`. What is the Cholesky decomposition of this matrix? Store the answer in a matrix called `chol_matrix`"
   ]
  },
  {
   "cell_type": "markdown",
   "metadata": {
    "collapsed": false,
    "nbgrader": {
     "grade": false,
     "grade_id": "c18359",
     "locked": false,
     "remove": true,
     "schema_version": 3,
     "solution": false,
     "task": false
    }
   },
   "source": [
    "We may simulate $(W_1,W_\\frac{1}{2},W_\\frac{1}{4}, W_\\frac{3}{4})$ using\n",
    "\n",
    "$$\n",
    "\\left(\n",
    "\\begin{array}{c}\n",
    "W_1 \\\\\n",
    "W_\\frac{1}{2} \\\\\n",
    "W_\\frac{1}{4} \\\\\n",
    "W_\\frac{3}{4}\n",
    "\\end{array}\n",
    "\\right)\n",
    "=\n",
    "\\sqrt{\\frac{1}{4}}\n",
    "\\left(\n",
    "\\begin{array}{cccc}\n",
    "1 & 1 & 1 & 1 \\\\\n",
    "1 & 1 & 0 & 0 \\\\\n",
    "1 & 0 & 0 & 0 \\\\\n",
    "1 & 1 & 1 & 0\n",
    "\\end{array} \\right)\n",
    "\\left(\n",
    "\\begin{array}{c}\n",
    "\\epsilon_\\frac{1}{4}^\\prime \\\\\n",
    "\\epsilon_\\frac{1}{2}^\\prime \\\\\n",
    "\\epsilon_\\frac{3}{4}^\\prime \\\\\n",
    "\\epsilon_1^\\prime\n",
    "\\end{array}\n",
    "\\right)\n",
    "$$\n",
    "for some independent standard normals $\\epsilon^\\prime_t$ determining the increments of $W_t$.\n",
    "\n",
    "Hence the covariance matrix of $(W_\\frac{1}{4},W_\\frac{1}{2},W_\\frac{3}{4}, W_1)$ is\n",
    "$$A 1_n A^\\top$$\n",
    "where\n",
    "$$A=\n",
    "\\sqrt{\\frac{1}{4}}\n",
    "\\left(\n",
    "\\begin{array}{cccc}\n",
    "1 & 1 & 1 & 1 \\\\\n",
    "1 & 1 & 0 & 0 \\\\\n",
    "1 & 0 & 0 & 0 \\\\\n",
    "1 & 1 & 1 & 0\n",
    "\\end{array} \\right)\n",
    "$$\n",
    "and $1_n$ denotes the identity matrix."
   ]
  },
  {
   "cell_type": "code",
   "execution_count": 4,
   "metadata": {
    "collapsed": false,
    "nbgrader": {
     "grade": false,
     "grade_id": "c57c79",
     "locked": false,
     "schema_version": 3,
     "solution": true,
     "task": false
    }
   },
   "outputs": [
   ],
   "source": [
    "# BEGIN SOLUTION\n",
    "A = 0.5*np.array([[1,1,1,1],[1,1,0,0],[1,0,0,0],[1,1,1,0]])\n",
    "cov_matrix = A @ A.transpose()\n",
    "chol_matrix = np.linalg.cholesky(cov_matrix)\n",
    "# END SOLUTION"
   ]
  },
  {
   "cell_type": "code",
   "execution_count": 5,
   "metadata": {
    "collapsed": false,
    "nbgrader": {
     "grade": true,
     "grade_id": "855c7a",
     "locked": true,
     "points": 1,
     "schema_version": 3,
     "solution": false,
     "task": false
    }
   },
   "outputs": [
    {
     "name": "stdout",
     "output_type": "stream",
     "text": [
      "Auto marking message: ✔ Correct\n"
     ]
    }
   ],
   "source": [
    "for i in range(0,4):\n",
    "    for j in range(0,4):\n",
    "        check('855c7a:'+str(i)+str(j), cov_matrix[i,j])\n",
    "for i in range(0,4):\n",
    "    for j in range(0,4):\n",
    "        check('855c7b:'+str(i)+str(j), chol_matrix[i,j])\n",
    "auto_marking_message()"
   ]
  },
  {
   "cell_type": "markdown",
   "metadata": {
    "collapsed": false,
    "slideshow": {
     "slide_type": "slide"
    }
   },
   "source": [
    "## Exercise\n",
    "\n",
    "Let $n=2$. Write a Python function `simulate_wiener_4_points` that takes as input an $N \\times 4$ matrix `epsilon` of independent,\n",
    "standard random normal variables and returns a matrix with each row representing a different path of the Wiener process and columns representing the time points $(0,\\frac{1}{4},\\frac{1}{2},\\frac{3}{4},1)$ in sequence.\n",
    "You must follow Wiener's construction so that you simulate times in the order $\\{W_0, W_1, W_\\frac{1}{2}, W_\\frac{1}{4}, W_\\frac{3}{4}, \\ldots\\}$.\n",
    "\n",
    "Check numerically that the variances of the differences $\\delta W_i:= W_{\\frac{i}{2^n}}-W_{\\frac{i-1}{2^n}}$ take\n",
    "the value you expect.\n",
    "\n",
    "Check numerically that the differences $\\delta W_{i+1}$ and $\\delta W_{j+1}$ are uncorrelated if $i\\neq j$.\n",
    "\n"
   ]
  },
  {
   "cell_type": "code",
   "execution_count": 6,
   "metadata": {
    "collapsed": false,
    "jupyter": {
    },
    "nbgrader": {
     "grade": false,
     "grade_id": "cdbc7a",
     "locked": false,
     "schema_version": 3,
     "solution": true,
     "task": false
    }
   },
   "outputs": [
   ],
   "source": [
    "def simulate_wiener_4_points( epsilon ):\n",
    "    ### BEGIN SOLUTION\n",
    "    n_samples = epsilon.shape[0]\n",
    "    chol = chol_matrix\n",
    "    r = chol @ epsilon.transpose()\n",
    "    w_1 = r[0,:]\n",
    "    w_half = r[1,:]\n",
    "    w_quarter = r[2,:]\n",
    "    w_three_quarters = r[3,:]\n",
    "    z = np.zeros( n_samples )\n",
    "    return np.array([ z, w_quarter, w_half, w_three_quarters, w_1 ]).transpose()\n",
    "    ### END SOLUTION"
   ]
  },
  {
   "cell_type": "code",
   "execution_count": 7,
   "metadata": {
    "collapsed": false,
    "nbgrader": {
     "grade": true,
     "grade_id": "8f7b25",
     "locked": true,
     "points": 1,
     "remove": false,
     "schema_version": 3,
     "solution": false,
     "task": false
    }
   },
   "outputs": [
    {
     "name": "stdout",
     "output_type": "stream",
     "text": [
      "Auto marking message: 😊 Correct\n"
     ]
    }
   ],
   "source": [
    "# Check the shape\n",
    "n_samples=10\n",
    "W = simulate_wiener_4_points(np.random.randn(n_samples, 4))\n",
    "assert W.shape==(10,5)\n",
    "\n",
    "# Check that you are using Wiener's construction - this means that\n",
    "# W_1 will be determined by the first column of n_samples.\n",
    "v1 = 3\n",
    "v2 = 2\n",
    "test_array = np.array([[v1,0,0,0],[v2,0,0,0]])\n",
    "W = simulate_wiener_4_points(test_array)\n",
    "assert abs(W[0,0]-0)==0\n",
    "assert abs(W[0,4]-v1)==0\n",
    "assert abs(W[1,0]-0)==0\n",
    "assert abs(W[1,4]-v2)==0\n",
    "\n",
    "# The tests you have been asked to perform yourself will also be run, but are hidden.\n",
    "\n",
    "### BEGIN HIDDEN TESTS\n",
    "n = 2\n",
    "n_samples=100000\n",
    "W = simulate_wiener_4_points(np.random.randn(n_samples, 4))\n",
    "delta_W = np.zeros((n_samples, 4))\n",
    "for i in range(0,2**n):\n",
    "    delta_W[:,i] = W[:,i+1]-W[:,i]\n",
    "    \n",
    "delta_cov = np.cov( delta_W, rowvar=False )\n",
    "expected = 0.25*np.identity(4)\n",
    "for i in range(0,4):\n",
    "    for j in range(0,4):\n",
    "        assert abs( delta_cov[i,j]-expected[i,j])<0.03\n",
    "### END HIDDEN TESTS\n",
    "\n",
    "auto_marking_message()"
   ]
  },
  {
   "cell_type": "code",
   "execution_count": 0,
   "metadata": {
    "collapsed": false
   },
   "outputs": [
   ],
   "source": [
   ]
  }
 ],
 "metadata": {
  "kernelspec": {
   "display_name": "Python 3 (system-wide)",
   "language": "python",
   "metadata": {
    "cocalc": {
     "description": "Python 3 programming language",
     "priority": 100,
     "url": "https://www.python.org/"
    }
   },
   "name": "python3",
   "resource_dir": "/ext/jupyter/kernels/python3"
  },
  "language_info": {
   "codemirror_mode": {
    "name": "ipython",
    "version": 3
   },
   "file_extension": ".py",
   "mimetype": "text/x-python",
   "name": "python",
   "nbconvert_exporter": "python",
   "pygments_lexer": "ipython3",
   "version": "3.8.5"
  }
 },
 "nbformat": 4,
 "nbformat_minor": 4
}