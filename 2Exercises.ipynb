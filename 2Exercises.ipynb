{
 "cells": [
  {
   "cell_type": "code",
   "execution_count": 1,
   "metadata": {
    "collapsed": false
   },
   "outputs": [
    {
     "data": {
      "text/html": [
       "<style>\n",
       "                     h1 {\n",
       "                        font-style: italic;\n",
       "                        text-align: center;\n",
       "                     }\n",
       "                     h3 {\n",
       "                         color: LightSkyBlue;\n",
       "                     }\n",
       "                     </style>"
      ],
      "text/plain": [
       "<IPython.core.display.HTML object>"
      ]
     },
     "execution_count": 1,
     "metadata": {
     },
     "output_type": "execute_result"
    }
   ],
   "source": [
    "from grading_tools import check, auto_marking_message"
   ]
  },
  {
   "cell_type": "markdown",
   "metadata": {
    "collapsed": false
   },
   "source": [
    "# Exercises"
   ]
  },
  {
   "cell_type": "markdown",
   "metadata": {
    "collapsed": false
   },
   "source": [
    "## Exercise \n",
    "\n",
    "If $X_0=0$ and\n",
    "\n",
    "$$\n",
    "X_i = \\begin{cases}\n",
    "X_i-1 & \\text{ if } \\epsilon_i < 0 \\\\\n",
    "X_i+1 & \\text{ otherwise }\n",
    "\\end{cases}\n",
    "$$\n",
    "\n",
    "then is it true that the process $X_i$ (for $i=0,1,2,3,\\ldots T$) is a martingale? Answer True or False."
   ]
  },
  {
   "cell_type": "code",
   "execution_count": 2,
   "metadata": {
    "collapsed": false,
    "nbgrader": {
     "grade": false,
     "grade_id": "6215cb",
     "locked": false,
     "schema_version": 3,
     "solution": true,
     "task": false
    }
   },
   "outputs": [
    {
     "data": {
      "text/plain": [
       "True"
      ]
     },
     "execution_count": 2,
     "metadata": {
     },
     "output_type": "execute_result"
    }
   ],
   "source": [
    "### BEGIN SOLUTION\n",
    "True\n",
    "### END SOLUTION"
   ]
  },
  {
   "cell_type": "code",
   "execution_count": 3,
   "metadata": {
    "collapsed": false
   },
   "outputs": [
    {
     "name": "stdout",
     "output_type": "stream",
     "text": [
      "Auto marking message: 😍 Correct\n"
     ]
    }
   ],
   "source": [
    "check('6215cb',_)\n",
    "auto_marking_message()"
   ]
  },
  {
   "cell_type": "markdown",
   "metadata": {
    "collapsed": false,
    "nbgrader": {
     "grade": false,
     "grade_id": "c2a396",
     "locked": false,
     "remove": true,
     "schema_version": 3,
     "solution": false,
     "task": false
    }
   },
   "source": [
    "It is true. For example $E(X_{i+1})=E(X_i)$."
   ]
  },
  {
   "cell_type": "markdown",
   "metadata": {
    "collapsed": false
   },
   "source": [
    "## Exercise\n",
    "\n",
    "Suppose that a gambler has wealth $X_i$ at time $i$. They play a game of Roulette. Assume that the ball will land\n",
    "on a number between $1$ and $32$ and that all values are equally probable. If the gambler bets an amount $x$ on\n",
    "the number $n$ coming up, they receive $31x$ if $n$ does come up and $0$ otherwise.\n",
    "\n",
    "The gambler may place as many bets as they like at each time $i$.\n",
    "\n",
    "Is it True or False that X_i is a martingale?"
   ]
  },
  {
   "cell_type": "code",
   "execution_count": 4,
   "metadata": {
    "collapsed": false,
    "nbgrader": {
     "grade": false,
     "grade_id": "11f70c",
     "locked": false,
     "schema_version": 3,
     "solution": true,
     "task": false
    }
   },
   "outputs": [
    {
     "data": {
      "text/plain": [
       "True"
      ]
     },
     "execution_count": 4,
     "metadata": {
     },
     "output_type": "execute_result"
    }
   ],
   "source": [
    "### BEGIN SOLUTION\n",
    "True\n",
    "### END SOLUTION"
   ]
  },
  {
   "cell_type": "code",
   "execution_count": 5,
   "metadata": {
    "collapsed": false,
    "nbgrader": {
     "grade": true,
     "grade_id": "5ec2fe",
     "locked": true,
     "points": 1,
     "schema_version": 3,
     "solution": false,
     "task": false
    }
   },
   "outputs": [
   ],
   "source": [
    "check('5ec2fe',_)"
   ]
  },
  {
   "cell_type": "markdown",
   "metadata": {
    "collapsed": false,
    "nbgrader": {
     "grade": false,
     "grade_id": "200abd",
     "locked": false,
     "remove": true,
     "schema_version": 3,
     "solution": false,
     "task": false
    }
   },
   "source": [
    "If a gambler plays any \"fair\" game where their expected winnings are zero, then their wealth will follow a martingale."
   ]
  },
  {
   "cell_type": "markdown",
   "metadata": {
    "collapsed": false
   },
   "source": [
    "## Exercise\n",
    "\n",
    "Suppose that $X_t$ satisfies the equation\n",
    "$$X_t= \\frac{1}{2} X_t \\sigma^2 dt + \\sigma X_t dW_t$$\n",
    "with $X_0=1$, $\\sigma$ a constant and $W_t$ as in the previous question.\n",
    "\n",
    "Is it True or False that X_i is a martingale?"
   ]
  },
  {
   "cell_type": "code",
   "execution_count": 6,
   "metadata": {
    "collapsed": false,
    "nbgrader": {
     "grade": false,
     "grade_id": "f3b2b2",
     "locked": false,
     "schema_version": 3,
     "solution": true,
     "task": false
    }
   },
   "outputs": [
    {
     "data": {
      "text/plain": [
       "False"
      ]
     },
     "execution_count": 6,
     "metadata": {
     },
     "output_type": "execute_result"
    }
   ],
   "source": [
    "### BEGIN SOLUTION\n",
    "False\n",
    "### END SOLUTION"
   ]
  },
  {
   "cell_type": "code",
   "execution_count": 7,
   "metadata": {
    "collapsed": false
   },
   "outputs": [
    {
     "name": "stdout",
     "output_type": "stream",
     "text": [
      "Auto marking message: 😍 Correct\n"
     ]
    }
   ],
   "source": [
    "check('f3b2b2',_)\n",
    "auto_marking_message()"
   ]
  },
  {
   "cell_type": "markdown",
   "metadata": {
    "collapsed": false,
    "nbgrader": {
     "grade": false,
     "grade_id": "8f475f",
     "locked": false,
     "remove": true,
     "schema_version": 3,
     "solution": false,
     "task": false
    }
   },
   "source": [
    "This is false as the drift term is non-zero."
   ]
  },
  {
   "cell_type": "markdown",
   "metadata": {
    "collapsed": false
   },
   "source": [
    "## Exercise\n",
    "\n",
    "Suppose that $X_t$ is as in the previous question.\n",
    "\n",
    "Is it True or False that $\\log(X_t)$ is a martingale?"
   ]
  },
  {
   "cell_type": "code",
   "execution_count": 8,
   "metadata": {
    "collapsed": false,
    "nbgrader": {
     "grade": false,
     "grade_id": "ac33bb",
     "locked": false,
     "schema_version": 3,
     "solution": true,
     "task": false
    }
   },
   "outputs": [
    {
     "data": {
      "text/plain": [
       "True"
      ]
     },
     "execution_count": 8,
     "metadata": {
     },
     "output_type": "execute_result"
    }
   ],
   "source": [
    "### BEGIN SOLUTION\n",
    "True\n",
    "### END SOLUTION"
   ]
  },
  {
   "cell_type": "code",
   "execution_count": 9,
   "metadata": {
    "collapsed": false,
    "nbgrader": {
     "grade": true,
     "grade_id": "bc5169",
     "locked": true,
     "points": 1,
     "schema_version": 3,
     "solution": false,
     "task": false
    }
   },
   "outputs": [
   ],
   "source": [
    "check('ac33bb',_)"
   ]
  },
  {
   "cell_type": "markdown",
   "metadata": {
    "collapsed": false,
    "nbgrader": {
     "grade": false,
     "grade_id": "e73958",
     "locked": false,
     "remove": true,
     "schema_version": 3,
     "solution": false,
     "task": false
    }
   },
   "source": [
    "Applying Ito's Lemma, we see that $Y_t=\\log(X_t)$ satisfies\n",
    "$$\n",
    "d Y_t = \\sigma d W_t\n",
    "$$\n",
    "so $Y_t=\\sigma W_t + Y_0$ and hence $Y_t$ is a martingale."
   ]
  },
  {
   "cell_type": "markdown",
   "metadata": {
    "collapsed": false
   },
   "source": [
    "## Exercise\n",
    "\n",
    "In the notes there are two versions stated of the Feynman-Kac theorem stated. One includes a term involving the constant $c$ and one does not involve this constant. Prove the former from the latter."
   ]
  },
  {
   "cell_type": "markdown",
   "metadata": {
    "collapsed": false,
    "nbgrader": {
     "grade": false,
     "grade_id": "da12e5",
     "locked": false,
     "remove": true,
     "schema_version": 3,
     "solution": false,
     "task": false
    }
   },
   "source": [
    "### Solution\n",
    "\n",
    "We have $v(x,t)=e^{-c(T-t)}u(x,t).$ We know $u(x,t)=f(x)$ so $v(x,t)=e^0 u(x,t)=f(x)$.\n",
    "We compute\n",
    "$$\\frac{\\partial v}{\\partial t}=ce^{-c(T-t)} u(x,t) + e^{-c(T-t)} \\frac{\\partial u}{\\partial t} $$\n",
    "$$\\frac{\\partial v}{\\partial x}=e^{-c(T-t)}\\frac{\\partial u}{\\partial x}$$\n",
    "$$\\frac{\\partial^2 v}{\\partial x^2}=e^{-c(T-t)}\\frac{\\partial^2 u}{\\partial x^2}$$\n",
    "So\n",
    "$$\n",
    "\\begin{split}\n",
    "\\frac{\\partial v}{\\partial t} &+ \\mu(x,t) \\frac{\\partial v}{\\partial x} + \\frac{1}{2} \\sigma^2(x,t)  \\frac{\\partial^2 v}{\\partial x^2}\n",
    "- c v(x,t) \\\\\n",
    "&= \\exp(-c(T-t)) \\left( \\frac{\\partial u}{\\partial t} + \\mu(x,t) \\frac{\\partial u}{\\partial x} +\n",
    "\\frac{1}{2} \\sigma^2(x,t) \\frac{\\partial^2 u}{\\partial x^2} \\right)\n",
    "\\end{split}\n",
    "$$\n",
    "According to the first version of the Feynman-Kac theorem the right hand side vanishes, so the left hand side does too."
   ]
  },
  {
   "cell_type": "code",
   "execution_count": 0,
   "metadata": {
    "collapsed": false
   },
   "outputs": [
   ],
   "source": [
   ]
  }
 ],
 "metadata": {
  "kernelspec": {
   "display_name": "Python 3 (system-wide)",
   "language": "python",
   "metadata": {
    "cocalc": {
     "description": "Python 3 programming language",
     "priority": 100,
     "url": "https://www.python.org/"
    }
   },
   "name": "python3",
   "resource_dir": "/ext/jupyter/kernels/python3"
  }
 },
 "nbformat": 4,
 "nbformat_minor": 4
}