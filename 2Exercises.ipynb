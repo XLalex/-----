{
 "cells": [
  {
   "cell_type": "code",
   "execution_count": 1,
   "metadata": {
    "collapsed": false
   },
   "outputs": [
    {
     "data": {
      "text/html": [
       "<style>\n",
       "                     h1 {\n",
       "                        font-style: italic;\n",
       "                        text-align: center;\n",
       "                     }\n",
       "                     h3 {\n",
       "                         color: LightSkyBlue;\n",
       "                     }\n",
       "                     </style>"
      ],
      "text/plain": [
       "<IPython.core.display.HTML object>"
      ]
     },
     "execution_count": 1,
     "metadata": {
     },
     "output_type": "execute_result"
    }
   ],
   "source": [
    "import fmlib\n",
    "import numpy as np\n",
    "import scipy.optimize\n",
    "from grading_tools import auto_marking_message"
   ]
  },
  {
   "cell_type": "markdown",
   "metadata": {
    "collapsed": false
   },
   "source": [
    "# Exercises"
   ]
  },
  {
   "cell_type": "markdown",
   "metadata": {
    "collapsed": false
   },
   "source": [
    "## Exercise\n",
    "\n",
    "Find a root of the equation $x^7 + 5 x^3 - 3 x + 1 =0$. Store the answer in a variable called `x`."
   ]
  },
  {
   "cell_type": "code",
   "execution_count": 2,
   "metadata": {
    "collapsed": false,
    "nbgrader": {
     "grade": false,
     "grade_id": "15cc98",
     "locked": false,
     "schema_version": 3,
     "solution": true,
     "task": false
    }
   },
   "outputs": [
   ],
   "source": [
    "### BEGIN SOLUTION\n",
    "def f( x ):\n",
    "    return x**7 + 5*x**3 - 3*x + 1\n",
    "sol = scipy.optimize.root_scalar(f, x0=-1.0, x1=1.0, method='secant')\n",
    "assert sol.converged\n",
    "x = sol.root\n",
    "### END SOLUTION"
   ]
  },
  {
   "cell_type": "code",
   "execution_count": 3,
   "metadata": {
    "collapsed": false,
    "nbgrader": {
     "grade": true,
     "grade_id": "2b1e9c",
     "locked": true,
     "points": 1,
     "schema_version": 3,
     "solution": false,
     "task": false
    }
   },
   "outputs": [
    {
     "name": "stdout",
     "output_type": "stream",
     "text": [
      "Auto marking message: 😊 Correct\n"
     ]
    }
   ],
   "source": [
    "np.testing.assert_almost_equal( x**7 + 5*x**3 - 3*x + 1, 0, decimal=7)\n",
    "auto_marking_message()"
   ]
  },
  {
   "cell_type": "markdown",
   "metadata": {
    "collapsed": false
   },
   "source": [
    "## Exercise\n",
    "\n",
    "A European put option has strike $K=110$ and maturity $T=0.5$.\n",
    "The current stock price is $S_0=100$, the risk-free rate is $r=0.02$. The price\n",
    "of the option is 11.8. What is the implied volatility? Store your answer\n",
    "in a variable called `implied_vol`"
   ]
  },
  {
   "cell_type": "code",
   "execution_count": 4,
   "metadata": {
    "collapsed": false,
    "nbgrader": {
     "grade": false,
     "grade_id": "ffe596",
     "locked": false,
     "schema_version": 3,
     "solution": true,
     "task": false
    }
   },
   "outputs": [
   ],
   "source": [
    "K = 110\n",
    "T = 0.5\n",
    "S0 = 100\n",
    "r = 0.02\n",
    "sigma = 0.2\n",
    "put_option_price = 11.8\n",
    "### BEGIN SOLUTION\n",
    "V = fmlib.black_scholes_put_price(S0,0,K,T,r,sigma)\n",
    "\n",
    "def compute_implied_volatility_put( V_KT, S0, K, T, r ):\n",
    "    def f( sigma ):\n",
    "        return fmlib.black_scholes_put_price(S0,0,K,T,r,sigma)-V_KT\n",
    "    sol = scipy.optimize.root_scalar(f, x0=0.01, x1=1.0, method='secant')\n",
    "    assert sol.converged\n",
    "    return sol.root\n",
    "\n",
    "implied_vol = compute_implied_volatility_put(put_option_price, S0, K, T, r )\n",
    "### END SOLUTION"
   ]
  },
  {
   "cell_type": "code",
   "execution_count": 5,
   "metadata": {
    "collapsed": false,
    "nbgrader": {
     "grade": true,
     "grade_id": "cb86f0",
     "locked": true,
     "points": 1,
     "schema_version": 3,
     "solution": false,
     "task": false
    }
   },
   "outputs": [
    {
     "name": "stdout",
     "output_type": "stream",
     "text": [
      "Auto marking message: 🌟 Correct\n"
     ]
    }
   ],
   "source": [
    "np.testing.assert_almost_equal( fmlib.black_scholes_put_price(S0,0,K,T,r,implied_vol), put_option_price, decimal=6 )\n",
    "auto_marking_message()"
   ]
  },
  {
   "cell_type": "markdown",
   "metadata": {
    "collapsed": false
   },
   "source": [
    "## Exercise\n",
    "\n",
    "Explain the difference between:\n",
    "    \n",
    " * The *implied volatility* of a call option\n",
    " * The volatility of the stock price in the Black-Scholes model\n",
    " * The *historic volatility* of the stock price\n",
    "\n",
    "Under what theoretical assumptions would these quantities be the same? Are these assumptions plausible in a real market?"
   ]
  },
  {
   "cell_type": "markdown",
   "metadata": {
    "collapsed": false,
    "nbgrader": {
     "grade": false,
     "grade_id": "b304cc",
     "locked": false,
     "remove": true,
     "schema_version": 3,
     "solution": false,
     "task": false
    }
   },
   "source": [
    "The *implied volatility* is the value of $\\sigma_{K,T}$ that solves\n",
    "$$\n",
    "V(S,K,T,r,\\sigma_{K,T})=V_{K,T}\n",
    "$$\n",
    "where $V_{K,T}$ is the price of the call option and $V(S,K,T,r,\\sigma_{K,T})$ is the Black-Scholes call price formula.\n",
    "It is a property of the option price and will typically vary with the strike $K$ and the maturity $T$.\n",
    "\n",
    "The *volatility* of the stock price in the Black-Scholes model is one of the parameters which determines\n",
    "the future evolution of the stock price. It is a property of our probability model for the future.\n",
    "\n",
    "The *historic volatility* is a statistical measure of the historical variability of the stock price. There are numerous ways\n",
    "of measuring this, so the term *historic volatility* isn't very clearly defined. For example, one could take the standard deviation of\n",
    "the daily changes in the log of the stock price over a year and multiply by $(365)^{\\frac{1}{2}}$ to obtain one possible measure\n",
    "of the historic volatility. It is a property if\n",
    "\n",
    "If the stock price has always followed geometric Brownian motion and it is known that it always will, and if all the other assumptions\n",
    "of the Black-Scholes model are true, then these quantities would be the same. In practice this will never happen.\n",
    "\n"
   ]
  },
  {
   "cell_type": "markdown",
   "metadata": {
    "collapsed": false
   },
   "source": [
    "## Remark\n",
    "\n",
    "The call options we have considered on Google stock are in fact American options not European options. Typically options on an individual stock will be American options whereas options on an index are European options.\n",
    "\n",
    "Google options do not pay dividends. In fact, throughout this course we have only considered stocks that do not pay dividends. (To apply the theory we have considered to stocks which pay dividends is to assume that one reinvests any dividends paid by a company into the stock of that company. One can then model the value of the asset \"Stock + dividend\" rather than model the stock price directly to obtain similar results.)\n",
    "\n",
    "American call options and European call options are equivalent for options which do not pay dividends if the interest rate $r\\geq 0$.\n",
    "\n",
    "To see this\n",
    "it suffices to prove that at time $t$, a European call option with strike $K$ and maturity $T$ is always worth more than $\\max\\{S_t - K, 0\\}$, as this implies\n",
    "that there is no benefit to exercising an American option before maturity.\n",
    "\n",
    "To prove our claim we use a replication argument:\n",
    "* If you have $S_t-K$ cash at time $t$, you could purchase one unit of stock and put $-K$ in the risk-free account. At time $T$ this will be worth $S_T-e^{r(T-t)}K$. So having $S_t-K$ cash at time $t$ allows you to replicate $S_T-e^{r(T-t)}K$. Hence the price of a derivative with payoff\n",
    "$S_T-e^{r(T-t)}K$ must be $S_t-K$.\n",
    "* But $\\max\\{S_T-K,0\\} \\geq S_T - K \\geq S_T - e^{r(T-t)}K$ since $r \\geq 0$. So a European call option with strike $K$ and maturity $T$ is always worth more than a derivative with payoff $S_T - e^{r(T-t)}K$, and so it is always worth more than $S_t-K$.\n",
    "* Since the payoff of a European call option is always non-negative, European call options must be worth at least $0$ too.\n",
    "* Hence at time $t$, a European call option with strike $K$ and maturity $T$ is always worth more than $\\max\\{S_t-K,0\\}$ as claimed.\n",
    "\n",
    "This means that you can price American call options in the Black-Scholes model using the Black-Scholes formula. However, American put options are trickier to price in the Black-Scholes model."
   ]
  },
  {
   "cell_type": "code",
   "execution_count": 0,
   "metadata": {
    "collapsed": false
   },
   "outputs": [
   ],
   "source": [
   ]
  }
 ],
 "metadata": {
  "kernelspec": {
   "display_name": "Python 3 (system-wide)",
   "language": "python",
   "metadata": {
    "cocalc": {
     "description": "Python 3 programming language",
     "priority": 100,
     "url": "https://www.python.org/"
    }
   },
   "name": "python3",
   "resource_dir": "/ext/jupyter/kernels/python3"
  },
  "language_info": {
   "codemirror_mode": {
    "name": "ipython",
    "version": 3
   },
   "file_extension": ".py",
   "mimetype": "text/x-python",
   "name": "python",
   "nbconvert_exporter": "python",
   "pygments_lexer": "ipython3",
   "version": "3.8.5"
  }
 },
 "nbformat": 4,
 "nbformat_minor": 4
}