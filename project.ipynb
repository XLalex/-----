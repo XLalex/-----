{
 "cells": [
  {
   "cell_type": "code",
   "execution_count": 16,
   "id": "9ac054f8",
   "metadata": {},
   "outputs": [],
   "source": [
    "import pandas as pd\n",
    "import numpy as np\n",
    "import math"
   ]
  },
  {
   "cell_type": "markdown",
   "id": "b26e1ba3",
   "metadata": {},
   "source": [
    "## Reading stock price data from a file"
   ]
  },
  {
   "cell_type": "code",
   "execution_count": 24,
   "id": "bc1ab69c",
   "metadata": {
    "scrolled": false
   },
   "outputs": [
    {
     "data": {
      "text/html": [
       "<div>\n",
       "<style scoped>\n",
       "    .dataframe tbody tr th:only-of-type {\n",
       "        vertical-align: middle;\n",
       "    }\n",
       "\n",
       "    .dataframe tbody tr th {\n",
       "        vertical-align: top;\n",
       "    }\n",
       "\n",
       "    .dataframe thead th {\n",
       "        text-align: right;\n",
       "    }\n",
       "</style>\n",
       "<table border=\"1\" class=\"dataframe\">\n",
       "  <thead>\n",
       "    <tr style=\"text-align: right;\">\n",
       "      <th></th>\n",
       "      <th>date</th>\n",
       "      <th>Acme</th>\n",
       "      <th>BigBank</th>\n",
       "    </tr>\n",
       "  </thead>\n",
       "  <tbody>\n",
       "    <tr>\n",
       "      <th>1</th>\n",
       "      <td>2000-02-25 00:00:00</td>\n",
       "      <td>0.171864</td>\n",
       "      <td>0.195631</td>\n",
       "    </tr>\n",
       "    <tr>\n",
       "      <th>2</th>\n",
       "      <td>2000-03-03 00:00:00</td>\n",
       "      <td>0.171924</td>\n",
       "      <td>0.194526</td>\n",
       "    </tr>\n",
       "    <tr>\n",
       "      <th>3</th>\n",
       "      <td>2000-03-10 00:00:00</td>\n",
       "      <td>0.173146</td>\n",
       "      <td>0.195872</td>\n",
       "    </tr>\n",
       "    <tr>\n",
       "      <th>4</th>\n",
       "      <td>2000-03-17 00:00:00</td>\n",
       "      <td>0.172769</td>\n",
       "      <td>0.194138</td>\n",
       "    </tr>\n",
       "    <tr>\n",
       "      <th>5</th>\n",
       "      <td>2000-03-24 00:00:00</td>\n",
       "      <td>0.171560</td>\n",
       "      <td>0.190103</td>\n",
       "    </tr>\n",
       "    <tr>\n",
       "      <th>...</th>\n",
       "      <td>...</td>\n",
       "      <td>...</td>\n",
       "      <td>...</td>\n",
       "    </tr>\n",
       "    <tr>\n",
       "      <th>730</th>\n",
       "      <td>2014-02-14 00:00:00</td>\n",
       "      <td>0.156253</td>\n",
       "      <td>0.144143</td>\n",
       "    </tr>\n",
       "    <tr>\n",
       "      <th>731</th>\n",
       "      <td>2014-02-21 00:00:00</td>\n",
       "      <td>0.155687</td>\n",
       "      <td>0.143019</td>\n",
       "    </tr>\n",
       "    <tr>\n",
       "      <th>732</th>\n",
       "      <td>2014-02-28 00:00:00</td>\n",
       "      <td>0.156092</td>\n",
       "      <td>0.142989</td>\n",
       "    </tr>\n",
       "    <tr>\n",
       "      <th>733</th>\n",
       "      <td>2014-03-07 00:00:00</td>\n",
       "      <td>0.157073</td>\n",
       "      <td>0.143163</td>\n",
       "    </tr>\n",
       "    <tr>\n",
       "      <th>734</th>\n",
       "      <td>2014-03-14 00:00:00</td>\n",
       "      <td>0.157665</td>\n",
       "      <td>0.143988</td>\n",
       "    </tr>\n",
       "  </tbody>\n",
       "</table>\n",
       "<p>734 rows × 3 columns</p>\n",
       "</div>"
      ],
      "text/plain": [
       "                    date      Acme   BigBank\n",
       "1    2000-02-25 00:00:00  0.171864  0.195631\n",
       "2    2000-03-03 00:00:00  0.171924  0.194526\n",
       "3    2000-03-10 00:00:00  0.173146  0.195872\n",
       "4    2000-03-17 00:00:00  0.172769  0.194138\n",
       "5    2000-03-24 00:00:00  0.171560  0.190103\n",
       "..                   ...       ...       ...\n",
       "730  2014-02-14 00:00:00  0.156253  0.144143\n",
       "731  2014-02-21 00:00:00  0.155687  0.143019\n",
       "732  2014-02-28 00:00:00  0.156092  0.142989\n",
       "733  2014-03-07 00:00:00  0.157073  0.143163\n",
       "734  2014-03-14 00:00:00  0.157665  0.143988\n",
       "\n",
       "[734 rows x 3 columns]"
      ]
     },
     "execution_count": 24,
     "metadata": {},
     "output_type": "execute_result"
    }
   ],
   "source": [
    "df = pd.read_excel(\"./ukx.xlsx\")\n",
    "df = df.dropna(axis=1)\n",
    "df = df.iloc[1:, [0, 1, 3]]\n",
    "df.columns = [\"date\", \"Acme\", \"BigBank\"]\n",
    "Acme = df[\"Acme\"].to_list()\n",
    "\n",
    "f = lambda x: math.log(math.pi, x)\n",
    "Acme = list(map(f, Acme))\n",
    "BigBank = df[\"BigBank\"].to_list()\n",
    "BigBank = list(map(f, BigBank))\n",
    "df[\"Acme\"] = Acme\n",
    "df[\"BigBank\"] = BigBank\n",
    "df"
   ]
  },
  {
   "cell_type": "markdown",
   "id": "2950430e",
   "metadata": {},
   "source": [
    "###### Create a matrix call dZ "
   ]
  },
  {
   "cell_type": "code",
   "execution_count": 39,
   "id": "84b0e5de",
   "metadata": {
    "scrolled": false
   },
   "outputs": [
    {
     "data": {
      "text/plain": [
       "array([[ 5.96184175e-05, -1.10470547e-03],\n",
       "       [ 5.96184175e-05, -1.10470547e-03],\n",
       "       [ 5.96184175e-05, -1.10470547e-03],\n",
       "       ...,\n",
       "       [ 5.96184175e-05, -1.10470547e-03],\n",
       "       [ 5.96184175e-05, -1.10470547e-03],\n",
       "       [ 5.96184175e-05, -1.10470547e-03]])"
      ]
     },
     "execution_count": 39,
     "metadata": {},
     "output_type": "execute_result"
    }
   ],
   "source": [
    "result = []\n",
    "for i in range(1, len(df), 1):\n",
    "    c = list()\n",
    "    a = df.iloc[1, 1] - df.iloc[0, 1]\n",
    "    b = df.iloc[1, 2] - df.iloc[0, 2]\n",
    "    c.append(a)\n",
    "    c.append(b)\n",
    "    result.append(c)\n",
    "dZ = np.array(result)\n",
    "dZ"
   ]
  },
  {
   "cell_type": "markdown",
   "id": "2678adcd",
   "metadata": {},
   "source": [
    "The sample average value of the vector"
   ]
  },
  {
   "cell_type": "code",
   "execution_count": 43,
   "id": "904a0968",
   "metadata": {},
   "outputs": [
    {
     "data": {
      "text/plain": [
       "array([ 5.96184175e-05, -1.10470547e-03])"
      ]
     },
     "execution_count": 43,
     "metadata": {},
     "output_type": "execute_result"
    }
   ],
   "source": [
    "m = np.mean(dZ, axis=0)\n",
    "m"
   ]
  },
  {
   "cell_type": "markdown",
   "id": "e3feecd2",
   "metadata": {},
   "source": [
    "The sample convarianc matrix for the change."
   ]
  },
  {
   "cell_type": "code",
   "execution_count": 48,
   "id": "e0a38fd2",
   "metadata": {},
   "outputs": [
    {
     "data": {
      "text/plain": [
       "array([[0.00000000e+00, 0.00000000e+00],\n",
       "       [0.00000000e+00, 3.64618563e-34]])"
      ]
     },
     "execution_count": 48,
     "metadata": {},
     "output_type": "execute_result"
    }
   ],
   "source": [
    "sigma = np.cov(dZ.T)\n",
    "sigma"
   ]
  },
  {
   "cell_type": "markdown",
   "id": "b28f7645",
   "metadata": {},
   "source": [
    "## Simulating stock prices"
   ]
  },
  {
   "cell_type": "code",
   "execution_count": 53,
   "id": "f1ded66b",
   "metadata": {},
   "outputs": [
    {
     "data": {
      "text/plain": [
       "array([[ 5.96184175e-05, -1.10470547e-03],\n",
       "       [ 5.96184175e-05, -1.10470547e-03],\n",
       "       [ 5.96184175e-05, -1.10470547e-03],\n",
       "       ...,\n",
       "       [ 5.96184175e-05, -1.10470547e-03],\n",
       "       [ 5.96184175e-05, -1.10470547e-03],\n",
       "       [ 5.96184175e-05, -1.10470547e-03]])"
      ]
     },
     "execution_count": 53,
     "metadata": {},
     "output_type": "execute_result"
    }
   ],
   "source": [
    "simulated_S = np.random.multivariate_normal(m , sigma, size=10 ** 6)\n",
    "simulated_S"
   ]
  },
  {
   "cell_type": "markdown",
   "id": "f999e56b",
   "metadata": {},
   "source": [
    "## Historic volatility"
   ]
  },
  {
   "cell_type": "code",
   "execution_count": 66,
   "id": "3c3b84dc",
   "metadata": {},
   "outputs": [
    {
     "name": "stdout",
     "output_type": "stream",
     "text": [
      "Historic volatility is:\n"
     ]
    },
    {
     "data": {
      "text/plain": [
       "2.6479983853867666e-18"
      ]
     },
     "execution_count": 66,
     "metadata": {},
     "output_type": "execute_result"
    }
   ],
   "source": [
    "hostoric_volatility = (sigma.diagonal().sum() / 52) ** 0.5\n",
    "print(\"Historic volatility is:\")\n",
    "hostoric_volatility"
   ]
  },
  {
   "cell_type": "markdown",
   "id": "9dbeca55",
   "metadata": {},
   "source": [
    "## Computing option prices"
   ]
  },
  {
   "cell_type": "code",
   "execution_count": 58,
   "id": "9f2f44dc",
   "metadata": {},
   "outputs": [],
   "source": [
    "def black_scholes_call_price(S0, K, T, r, sigma):\n",
    "    d1 = (np.log(S / K) + (r + 0.5 * sigma ** 2) * T) / (sigma * np.sqrt(T))\n",
    "    d2 = (np.log(S/K) + (r - 0.5*sigma**2)*T)/(sigma * np.sqrt(T))\n",
    "    p = (S * norm.cdf(d1, 0.0, 1.0) - K*np.exp(-r*T)*norm.cdf(d2, 0.0, 1.0))\n",
    "    if p:\n",
    "        return p\n",
    "\n",
    "    raise NotImplementedError"
   ]
  },
  {
   "cell_type": "code",
   "execution_count": 60,
   "id": "c12bfd4d",
   "metadata": {},
   "outputs": [
    {
     "data": {
      "text/plain": [
       "array([[1.123, 2.123, 3.123],\n",
       "       [4.456, 5.456, 6.456],\n",
       "       [7.789, 8.789, 9.789]])"
      ]
     },
     "execution_count": 60,
     "metadata": {},
     "output_type": "execute_result"
    }
   ],
   "source": [
    "import numpy as np\n",
    "a=np.array([[1.123,2.123,3.123],[4.456,5.456,6.456],[7.789,8.789,9.789]])\n",
    "a\n"
   ]
  },
  {
   "cell_type": "code",
   "execution_count": 62,
   "id": "b98e9cb6",
   "metadata": {},
   "outputs": [
    {
     "data": {
      "text/plain": [
       "array([1.123, 5.456, 9.789])"
      ]
     },
     "execution_count": 62,
     "metadata": {},
     "output_type": "execute_result"
    }
   ],
   "source": [
    "a.diagonal()"
   ]
  },
  {
   "cell_type": "code",
   "execution_count": null,
   "id": "ffe1efb3",
   "metadata": {},
   "outputs": [],
   "source": []
  }
 ],
 "metadata": {
  "kernelspec": {
   "display_name": "Python 3 (ipykernel)",
   "language": "python",
   "name": "python3"
  },
  "language_info": {
   "codemirror_mode": {
    "name": "ipython",
    "version": 3
   },
   "file_extension": ".py",
   "mimetype": "text/x-python",
   "name": "python",
   "nbconvert_exporter": "python",
   "pygments_lexer": "ipython3",
   "version": "3.9.12"
  }
 },
 "nbformat": 4,
 "nbformat_minor": 5
}
